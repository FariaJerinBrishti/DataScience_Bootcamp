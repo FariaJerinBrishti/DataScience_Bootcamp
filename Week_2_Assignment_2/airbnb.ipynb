{
 "cells": [
  {
   "cell_type": "code",
   "execution_count": 1,
   "id": "007762bb",
   "metadata": {},
   "outputs": [],
   "source": [
    "import pandas as pd\n",
    "from datetime import datetime\n",
    "import requests\n",
    "import time \n",
    "from requests_html import HTMLSession\n",
    "from PIL import Image\n",
    "from io import StringIO, BytesIO\n",
    "\n",
    "from selenium import webdriver\n",
    "from selenium.webdriver.common.keys import Keys\n",
    "from selenium.webdriver.chrome.service import Service\n",
    "from selenium.webdriver.common.by import By\n",
    "from selenium.webdriver.support.ui import WebDriverWait\n",
    "from selenium.webdriver.support import expected_conditions as EC\n",
    "from IPython.display import display, clear_output"
   ]
  },
  {
   "cell_type": "code",
   "execution_count": 3,
   "id": "ecf143a8",
   "metadata": {},
   "outputs": [],
   "source": [
    "s = Service('chromedriver')\n",
    "driver = webdriver.Chrome(service = s)"
   ]
  },
  {
   "cell_type": "code",
   "execution_count": 4,
   "id": "d80f782f",
   "metadata": {
    "scrolled": true
   },
   "outputs": [],
   "source": [
    "\n",
    "url = \"https://www.airbnb.com.sg/?tab_id=home_tab&refinement_paths%5B%5D=%2Fhomes&search_mode=flex_destinations_search&flexible_trip_lengths%5B%5D=one_week&location_search=MIN_MAP_BOUNDS&price_filter_input_type=0&category_tag=Tag%3A7769&search_type=category_change&_set_bev_on_new_domain=1663217624_YWUwOTgyNDg3MjQ4\"\n",
    "driver.get(url)\n"
   ]
  },
  {
   "cell_type": "code",
   "execution_count": 5,
   "id": "c47602cb",
   "metadata": {},
   "outputs": [
    {
     "data": {
      "text/plain": [
       "[<selenium.webdriver.remote.webelement.WebElement (session=\"7d9ad879912a7306462fbe1edde5a116\", element=\"b70ff529-dad9-47c9-92b8-feaf98f72c2c\")>,\n",
       " <selenium.webdriver.remote.webelement.WebElement (session=\"7d9ad879912a7306462fbe1edde5a116\", element=\"46275866-1159-4eba-8724-2b9cf7c193ce\")>,\n",
       " <selenium.webdriver.remote.webelement.WebElement (session=\"7d9ad879912a7306462fbe1edde5a116\", element=\"7dbd733d-b0bf-4016-84e4-c5fe568b2995\")>,\n",
       " <selenium.webdriver.remote.webelement.WebElement (session=\"7d9ad879912a7306462fbe1edde5a116\", element=\"5126fe98-398f-4db6-bd3e-3853a1c55caf\")>,\n",
       " <selenium.webdriver.remote.webelement.WebElement (session=\"7d9ad879912a7306462fbe1edde5a116\", element=\"1040f7ce-d91e-44f4-be28-1b0295e85418\")>,\n",
       " <selenium.webdriver.remote.webelement.WebElement (session=\"7d9ad879912a7306462fbe1edde5a116\", element=\"33c35f24-0266-484e-a2b5-ea753dcb2de7\")>,\n",
       " <selenium.webdriver.remote.webelement.WebElement (session=\"7d9ad879912a7306462fbe1edde5a116\", element=\"11d5f959-b3ef-4e21-98f0-5e2eee1c949f\")>,\n",
       " <selenium.webdriver.remote.webelement.WebElement (session=\"7d9ad879912a7306462fbe1edde5a116\", element=\"8d5d49ef-fd29-4caf-8d86-f0cd94c61177\")>,\n",
       " <selenium.webdriver.remote.webelement.WebElement (session=\"7d9ad879912a7306462fbe1edde5a116\", element=\"039ddcf8-c382-4231-a318-8a1cd6ace118\")>,\n",
       " <selenium.webdriver.remote.webelement.WebElement (session=\"7d9ad879912a7306462fbe1edde5a116\", element=\"cc458f96-10f4-4a3c-a903-bf8ab62b7ed8\")>,\n",
       " <selenium.webdriver.remote.webelement.WebElement (session=\"7d9ad879912a7306462fbe1edde5a116\", element=\"24faa9f7-fb43-417c-abcf-9d68786bf971\")>,\n",
       " <selenium.webdriver.remote.webelement.WebElement (session=\"7d9ad879912a7306462fbe1edde5a116\", element=\"9df5d6dd-cd31-443b-8590-c37d6e525c7b\")>,\n",
       " <selenium.webdriver.remote.webelement.WebElement (session=\"7d9ad879912a7306462fbe1edde5a116\", element=\"c8ab0793-8eaa-4c02-8e8c-c2234afc2be4\")>,\n",
       " <selenium.webdriver.remote.webelement.WebElement (session=\"7d9ad879912a7306462fbe1edde5a116\", element=\"08eb0a80-b98d-4d19-845d-32de2407e029\")>,\n",
       " <selenium.webdriver.remote.webelement.WebElement (session=\"7d9ad879912a7306462fbe1edde5a116\", element=\"cbb18c24-d32e-41b5-ab76-82fc67a426e1\")>,\n",
       " <selenium.webdriver.remote.webelement.WebElement (session=\"7d9ad879912a7306462fbe1edde5a116\", element=\"353a8f87-15a1-4bb2-bc9f-dd545a7d664c\")>,\n",
       " <selenium.webdriver.remote.webelement.WebElement (session=\"7d9ad879912a7306462fbe1edde5a116\", element=\"2470d21f-eb1a-4b81-89b5-f8bd3f03e5a0\")>,\n",
       " <selenium.webdriver.remote.webelement.WebElement (session=\"7d9ad879912a7306462fbe1edde5a116\", element=\"28817036-0c44-4994-9290-bdfbb41b9965\")>,\n",
       " <selenium.webdriver.remote.webelement.WebElement (session=\"7d9ad879912a7306462fbe1edde5a116\", element=\"496e2393-6568-495b-a50e-772159e93792\")>,\n",
       " <selenium.webdriver.remote.webelement.WebElement (session=\"7d9ad879912a7306462fbe1edde5a116\", element=\"c16c5637-f594-4870-9511-0b1b2b994af1\")>]"
      ]
     },
     "execution_count": 5,
     "metadata": {},
     "output_type": "execute_result"
    }
   ],
   "source": [
    "product_list = driver.find_elements(by = By.CLASS_NAME, value =\"ln2bl2p\")\n",
    "product_list"
   ]
  },
  {
   "cell_type": "code",
   "execution_count": 6,
   "id": "b101a8f2",
   "metadata": {
    "scrolled": false
   },
   "outputs": [
    {
     "data": {
      "text/plain": [
       "['https://www.airbnb.com.sg/rooms/34345351?adults=1&category_tag=Tag%3A7769&children=0&infants=0&search_mode=flex_destinations_search&check_in=2022-09-16&check_out=2022-09-22&previous_page_section_name=1000&federated_search_id=e3fb08f2-9f4d-485b-b6ef-9358841d0f1a',\n",
       " 'https://www.airbnb.com.sg/rooms/53871587?adults=1&category_tag=Tag%3A7769&children=0&infants=0&search_mode=flex_destinations_search&check_in=2022-09-18&check_out=2022-09-23&previous_page_section_name=1000&federated_search_id=e3fb08f2-9f4d-485b-b6ef-9358841d0f1a',\n",
       " 'https://www.airbnb.com.sg/rooms/31665667?adults=1&category_tag=Tag%3A7769&children=0&infants=0&search_mode=flex_destinations_search&check_in=2022-10-16&check_out=2022-10-21&previous_page_section_name=1000&federated_search_id=e3fb08f2-9f4d-485b-b6ef-9358841d0f1a',\n",
       " 'https://www.airbnb.com.sg/rooms/47463008?adults=1&category_tag=Tag%3A7769&children=0&infants=0&search_mode=flex_destinations_search&check_in=2022-09-25&check_out=2022-09-30&previous_page_section_name=1000&federated_search_id=e3fb08f2-9f4d-485b-b6ef-9358841d0f1a',\n",
       " 'https://www.airbnb.com.sg/rooms/37679839?adults=1&category_tag=Tag%3A7769&children=0&infants=0&search_mode=flex_destinations_search&check_in=2022-11-06&check_out=2022-11-12&previous_page_section_name=1000&federated_search_id=e3fb08f2-9f4d-485b-b6ef-9358841d0f1a',\n",
       " 'https://www.airbnb.com.sg/rooms/45498804?adults=1&category_tag=Tag%3A7769&children=0&infants=0&search_mode=flex_destinations_search&check_in=2022-09-18&check_out=2022-09-24&previous_page_section_name=1000&federated_search_id=e3fb08f2-9f4d-485b-b6ef-9358841d0f1a',\n",
       " 'https://www.airbnb.com.sg/rooms/572118628246638033?adults=1&category_tag=Tag%3A7769&children=0&infants=0&search_mode=flex_destinations_search&check_in=2022-10-02&check_out=2022-10-07&previous_page_section_name=1000&federated_search_id=e3fb08f2-9f4d-485b-b6ef-9358841d0f1a',\n",
       " 'https://www.airbnb.com.sg/rooms/38269549?adults=1&category_tag=Tag%3A7769&children=0&infants=0&search_mode=flex_destinations_search&check_in=2022-09-25&check_out=2022-09-30&previous_page_section_name=1000&federated_search_id=e3fb08f2-9f4d-485b-b6ef-9358841d0f1a',\n",
       " 'https://www.airbnb.com.sg/rooms/14395013?adults=1&category_tag=Tag%3A7769&children=0&infants=0&search_mode=flex_destinations_search&check_in=2022-09-18&check_out=2022-09-23&previous_page_section_name=1000&federated_search_id=e3fb08f2-9f4d-485b-b6ef-9358841d0f1a',\n",
       " 'https://www.airbnb.com.sg/rooms/39847168?adults=1&category_tag=Tag%3A7769&children=0&infants=0&search_mode=flex_destinations_search&check_in=2022-09-18&check_out=2022-09-24&previous_page_section_name=1000&federated_search_id=e3fb08f2-9f4d-485b-b6ef-9358841d0f1a',\n",
       " 'https://www.airbnb.com.sg/rooms/18334854?adults=1&category_tag=Tag%3A7769&children=0&infants=0&search_mode=flex_destinations_search&check_in=2022-09-18&check_out=2022-09-23&previous_page_section_name=1000&federated_search_id=e3fb08f2-9f4d-485b-b6ef-9358841d0f1a',\n",
       " 'https://www.airbnb.com.sg/rooms/45902482?adults=1&category_tag=Tag%3A7769&children=0&infants=0&search_mode=flex_destinations_search&check_in=2022-09-25&check_out=2022-09-30&previous_page_section_name=1000&federated_search_id=e3fb08f2-9f4d-485b-b6ef-9358841d0f1a',\n",
       " 'https://www.airbnb.com.sg/rooms/15443271?adults=1&category_tag=Tag%3A7769&children=0&infants=0&search_mode=flex_destinations_search&check_in=2022-09-19&check_out=2022-09-24&previous_page_section_name=1000&federated_search_id=e3fb08f2-9f4d-485b-b6ef-9358841d0f1a',\n",
       " 'https://www.airbnb.com.sg/rooms/28233237?adults=1&category_tag=Tag%3A7769&children=0&infants=0&search_mode=flex_destinations_search&check_in=2022-10-02&check_out=2022-10-07&previous_page_section_name=1000&federated_search_id=e3fb08f2-9f4d-485b-b6ef-9358841d0f1a',\n",
       " 'https://www.airbnb.com.sg/rooms/41497775?adults=1&category_tag=Tag%3A7769&children=0&infants=0&search_mode=flex_destinations_search&check_in=2022-10-02&check_out=2022-10-07&previous_page_section_name=1000&federated_search_id=e3fb08f2-9f4d-485b-b6ef-9358841d0f1a',\n",
       " 'https://www.airbnb.com.sg/rooms/48584285?adults=1&category_tag=Tag%3A7769&children=0&infants=0&search_mode=flex_destinations_search&check_in=2022-09-25&check_out=2022-09-30&previous_page_section_name=1000&federated_search_id=e3fb08f2-9f4d-485b-b6ef-9358841d0f1a',\n",
       " 'https://www.airbnb.com.sg/rooms/3096322?adults=1&category_tag=Tag%3A7769&children=0&infants=0&search_mode=flex_destinations_search&check_in=2022-10-03&check_out=2022-10-08&previous_page_section_name=1000&federated_search_id=e3fb08f2-9f4d-485b-b6ef-9358841d0f1a',\n",
       " 'https://www.airbnb.com.sg/rooms/44659156?adults=1&category_tag=Tag%3A7769&children=0&infants=0&search_mode=flex_destinations_search&check_in=2022-09-18&check_out=2022-09-23&previous_page_section_name=1000&federated_search_id=e3fb08f2-9f4d-485b-b6ef-9358841d0f1a',\n",
       " 'https://www.airbnb.com.sg/rooms/18708866?adults=1&category_tag=Tag%3A7769&children=0&infants=0&search_mode=flex_destinations_search&check_in=2022-09-18&check_out=2022-09-23&previous_page_section_name=1000&federated_search_id=e3fb08f2-9f4d-485b-b6ef-9358841d0f1a',\n",
       " 'https://www.airbnb.com.sg/rooms/16948499?adults=1&category_tag=Tag%3A7769&children=0&infants=0&search_mode=flex_destinations_search&check_in=2022-09-26&check_out=2022-10-01&previous_page_section_name=1000&federated_search_id=e3fb08f2-9f4d-485b-b6ef-9358841d0f1a']"
      ]
     },
     "execution_count": 6,
     "metadata": {},
     "output_type": "execute_result"
    }
   ],
   "source": [
    "url_list = [p.get_attribute('href') for p in product_list]\n",
    "url_list\n"
   ]
  },
  {
   "cell_type": "code",
   "execution_count": 7,
   "id": "4434dc57",
   "metadata": {},
   "outputs": [],
   "source": [
    "with open(\"Product_URL_List.txt\", \"w\") as f:\n",
    "    for i in url_list:\n",
    "        f.write(f\"{i}\")\n",
    "        f.write('\\n')"
   ]
  },
  {
   "cell_type": "code",
   "execution_count": 8,
   "id": "b28ce76d",
   "metadata": {},
   "outputs": [],
   "source": [
    "def open_driver():\n",
    "    op = webdriver.ChromeOptions()\n",
    "    op.add_argument('headless')\n",
    "    s = Service('chromedriver')\n",
    "    driver = webdriver.Chrome(service=s, options=op)\n",
    "    return driver"
   ]
  },
  {
   "cell_type": "code",
   "execution_count": 9,
   "id": "e9201ce6",
   "metadata": {},
   "outputs": [],
   "source": [
    "def headline_scrap(driver):\n",
    "    try:\n",
    "        headline = driver.find_element(by=By.TAG_NAME, value = 'h1').text\n",
    "        print(\"Title: \",headline)\n",
    "        return headline\n",
    "    except:\n",
    "        print(\"Headline is not found\")\n",
    "        return 'N/A'"
   ]
  },
  {
   "cell_type": "code",
   "execution_count": 10,
   "id": "699eb86f",
   "metadata": {},
   "outputs": [],
   "source": [
    "def rating_scrap(driver):\n",
    "    try:\n",
    "        rating = driver.find_element(by=By.CLASS_NAME, value = '_1jvg42j').text\n",
    "        print(\"Rating: \",rating)\n",
    "        return rating\n",
    "    except:\n",
    "        print(\"No Rating\")\n",
    "        return 'N/A'"
   ]
  },
  {
   "cell_type": "code",
   "execution_count": 11,
   "id": "e59cee31",
   "metadata": {},
   "outputs": [],
   "source": [
    "def address_scrap(driver):\n",
    "    try:\n",
    "        address = driver.find_element(by=By.CLASS_NAME, value = '_9xiloll').text\n",
    "        print(\"Addresss: \",address)\n",
    "        return address\n",
    "    except:\n",
    "        print(\"Address is no found\")\n",
    "        return 'N/A'"
   ]
  },
  {
   "cell_type": "code",
   "execution_count": 12,
   "id": "80ccd447",
   "metadata": {},
   "outputs": [],
   "source": [
    "def image_scrap(driver, category):\n",
    "    try:\n",
    "        images = driver.find_element(by=By.XPATH, value = '//*[@id=\"FMP-target\"]')\n",
    "        img_path = []\n",
    "        for img in images.find_elements(by=By.TAG_NAME, value = 'img'):\n",
    "            img_urls = img.get_attribute('src')\n",
    "\n",
    "            img_urls_rename = img_urls + '/620/466/fitted.jpg'\n",
    "\n",
    "            #img_name = '@'.join(img_urls_firstname.split('/')[-2:])\n",
    "\n",
    "            r = requests.get(img_urls_rename)\n",
    "            i = Image.open(BytesIO(r.content))\n",
    "            i.save(f\"img/{category}/{img_name}.jpg\")\n",
    "            img_path.append(img_name)\n",
    "            return img_path\n",
    "    except:\n",
    "        print(\"No Image\")\n",
    "        return \"N/A\"\n",
    "    "
   ]
  },
  {
   "cell_type": "code",
   "execution_count": 13,
   "id": "d09cb413",
   "metadata": {},
   "outputs": [],
   "source": [
    "def price_scrap(driver):\n",
    "    try:\n",
    "        price = driver.find_element(by=By.XPATH, value = '/html/body/div[5]/div/div/div[1]/div/div/div[1]/div/div/div/div/div[1]/main/div/div[1]/div[3]/div/div[2]/div/div/div[1]/div/div/div/div/div/div/div[1]/div[1]/div/div/span/div/span[1]').text\n",
    "        print(\"Price: \",price)\n",
    "        return price\n",
    "    except:\n",
    "        print(\"Price is not given\")\n",
    "        return 'N/A'"
   ]
  },
  {
   "cell_type": "code",
   "execution_count": 14,
   "id": "1195e8b4",
   "metadata": {},
   "outputs": [],
   "source": [
    "def description_scraping(driver):\n",
    "    try:\n",
    "        description = driver.find_element(by=By.CLASS_NAME, value = 'll4r2nl').text\n",
    "        print(\"Description: \",description)\n",
    "        return description\n",
    "    except:\n",
    "        print(\"No Description\")\n",
    "        return 'N/A'"
   ]
  },
  {
   "cell_type": "code",
   "execution_count": 15,
   "id": "42158306",
   "metadata": {},
   "outputs": [],
   "source": [
    "def place_offer_scraping(driver):\n",
    "    try:\n",
    "        place_offer = driver.find_element(by=By.XPATH, value = '//*[@id=\"site-content\"]/div/div[1]/div[3]/div/div[1]/div/div[6]/div/div[2]/section').text\n",
    "        print(\"What this place offers: \",place_offer)\n",
    "        return place_offer\n",
    "    except:\n",
    "        print(\"No description of what it offers\")\n",
    "        return \"N/A\""
   ]
  },
  {
   "cell_type": "code",
   "execution_count": 16,
   "id": "765d85e6",
   "metadata": {},
   "outputs": [],
   "source": [
    "def all_review_scraping(driver):\n",
    "    try:\n",
    "        review = driver.find_element(by=By.XPATH, value = '//*[@id=\"site-content\"]/div/div[1]/div[4]/div/div/div/div[2]/section').text\n",
    "        print(\"Review: \",review)\n",
    "        return review\n",
    "    except:\n",
    "        print(\"There is no review\")\n",
    "        return 'N/A'"
   ]
  },
  {
   "cell_type": "code",
   "execution_count": 17,
   "id": "8a9cd216",
   "metadata": {},
   "outputs": [],
   "source": [
    "def product_scrap(driver, url, category):\n",
    "    driver.get(url)\n",
    "    time.sleep(3)\n",
    "    #scraping headlines\n",
    "    headline = headline_scrap(driver)\n",
    "#     if not headline:\n",
    "#         return [None]*8\n",
    "    \n",
    "    #rating scraping\n",
    "    rating = rating_scrap(driver)\n",
    "    \n",
    "    #address scraping\n",
    "    address = address_scrap(driver)\n",
    "    \n",
    "    #image_scraping\n",
    "    image = image_scrap(driver, category)\n",
    "    \n",
    "    #price scraping\n",
    "    price = price_scrap(driver)\n",
    "    \n",
    "    #description_scraping\n",
    "    description = description_scraping(driver)\n",
    "    \n",
    "    #what this place offers scraping\n",
    "    place_offer = place_offer_scraping(driver)\n",
    "    \n",
    "    #Review scraping\n",
    "    all_review = all_review_scraping(driver)\n",
    "    \n",
    "    return headline, rating, address, image, price, description, place_offer,all_review"
   ]
  },
  {
   "cell_type": "code",
   "execution_count": 18,
   "id": "70fefff4",
   "metadata": {},
   "outputs": [
    {
     "name": "stdout",
     "output_type": "stream",
     "text": [
      "20 https://www.airbnb.com.sg/rooms/16948499?adults=1&category_tag=Tag%3A7769&children=0&infants=0&search_mode=flex_destinations_search&check_in=2022-09-26&check_out=2022-10-01&previous_page_section_name=1000&federated_search_id=e3fb08f2-9f4d-485b-b6ef-9358841d0f1a\n",
      "\n",
      "Title:  The Nipah Chalet Beach Front 1\n",
      "Rating:  5.0 ·\n",
      "59 reviews\n",
      "Addresss:  Tioman Island, Mersing, Malaysia\n",
      "Price:  $78 SGD\n",
      "Description:  More or less 8 steps to sea\n",
      "No description of what it offers\n",
      "Review:  5.0 out of 5 stars from 59 reviews\n",
      "5.0 · 59 reviews\n",
      "Cleanliness\n",
      "4.8\n",
      "Accuracy\n",
      "4.9\n",
      "Communication\n",
      "4.9\n",
      "Location\n",
      "5.0\n",
      "Check-in\n",
      "5.0\n",
      "Value\n",
      "4.8\n",
      "Gaurav\n",
      "August 2022\n",
      "Abbas is gem of a person and a wonderful host. Location is awesome. Come here if you want to get disconnected from the world. Lovely cats on the property. And a cute ball of fur LuLu was our fav.\n",
      "Abbas prepare finger licking food.\n",
      "All in all, give it a try and you wouldn’t regret.\n",
      "Show more\n",
      "Nicholas\n",
      "September 2020\n",
      "This place is a GEM. My friends had such a great time here and will definitely recommend to our personal friends on coming here. Some details on place itself for potential visitors:\n",
      "- Pro: Chalets are on basically a private beach. My friends and I had the whole beach to ourselves. Entirely remote and away from it all\n",
      "- Pro: Beach itself is pretty great! Since there's so few people, there's almost no trash and the whole place is clean\n",
      "- Pro: The chalets themselves are on the basic side, but there's neat touches all around to make it feel homely: drapes on the wall, plants in room, hammocks on the veranda, pails of water in front of the steps so you can wash the sand off your feet, etc\n",
      "- Pro: Chalet 1 has a great nature-esque bathroom. Its fully covered but there are openings between the roof and the walls high enough to fully cover your view, but you do get to see the sky at an angle and hear the outside, including the waves\n",
      "- Pro: Abbas is wonderfully helpful host! Polite, speaks perfect english, respectful to not intrude on company, and is a wonderful cook (even asks us our dietary needs)\n",
      "- Pro: Abbas will take you on trips for activities such as snorkeling and hiking. You will have to pay extra\n",
      "- Pro: There are plenty of pets around the place, in particular are the 8 cats on site. Super friendly and inquisitive.\n",
      "\n",
      "There are some cons to be fair. So be forewarned about what you're getting into:\n",
      "- Con: place is a bit light on amenities. Necessities are present: towels, shampoo, soap. But dont expect stuff like: hot water, air-conditioning, and WIFI.\n",
      "- Con: Place is so remote, there's almost no Data available. Abbas says that weirdly, only Oppo phones are capable of receiving data there.\n",
      "- Con: If you don't like pets/cats, you may not enjoy how free the cats are to roam around. They'd rub themselves on your legs, enter your room, jump on your bed, jump on your lap, etc.\n",
      "- Con: Everything other than the room is extra costs. This includes the speedboat ride between your jetty and the chalets (RM35/pax each way), food (various, read description), activites (RM150/pax for snorkeling). This can drive your budget way up. However, Abbas is a wonderful host and makes the costs worth it.\n",
      "\n",
      "All in all, this was exactly what we were looking for: a clean, rustic, remote location for us to completely relax, unwind, and tear ourselves away from the world. 100% will consider coming back again.\n",
      "Show more\n",
      "Kaspar\n",
      "March 2020\n",
      "I'm afraid I'm lost for words to adequately describe our stay at Nipah. Everything has been amazing from the place itself to Abbas cooking skills and the activities around the island with him. If we've had more time, we would have stayed longer without thinking twice about it.\n",
      "Hannah\n",
      "September 2019\n",
      "We had a fantastic time at nipah beach. If you are looking for beautiful nature, peace and friendly people this the right place. Abbas was a very good host, always helpful and a talented cook. We loved the animals that lived there with him. We would totally recommend this place to everyone who wants to spend some days in paradise. The jungle trekking with abbas was also very cool.\n",
      "On the whole beach is rarely no internet nor wifi, so make sure to book your following trip before.\n",
      "Show more\n",
      "Arthur\n",
      "September 2019\n",
      "We had an amazing time,the chalets are super nice, right on the beach, and just to feel all alone on this island is really cool, really nice place ! Abbas was the friendliest host, we had some really good time playing cards or just chilling with a beer. We had a wonderful stay, and go back to the main land with a lot of memories and the only regret to not have staid longer. We felt just like home, with the beach on top of that.\n",
      "Show more\n",
      "Hanna\n",
      "September 2019\n",
      "If you are looking for a quiet, lonely place with a beautiful beach and lovely Chalets this might be the perfect choice for you. Just keep in mind (since Abbas cooks fresh & delicious food for you every day) that eating times can vary, so take some snacks with you. All in all we loved our stay & would definitely recommend to spend some nights in Nipah!\n",
      "Show more\n",
      "Show all 59 reviews\n",
      "=============================================\n"
     ]
    }
   ],
   "source": [
    "category = 'Beaches'\n",
    "with open('Product_URL_List.txt', 'r') as f:\n",
    "    single_url = f.readlines()\n",
    "    headlines, ratings, addresses, images, prices, descriptions, what_this_place_offers,  reviews = [], [], [], [], [], [], [], []\n",
    "    cnt = 1\n",
    "#     print(single_url)\n",
    "    for s in single_url:\n",
    "        print(cnt, s)\n",
    "        driver = open_driver()\n",
    "        \n",
    "        headline, rating, address, image, price, description, place_offer,  all_review = product_scrap(driver, s, category)\n",
    "        #if headline:\n",
    "        headlines.append(headline)\n",
    "        ratings.append(rating)\n",
    "        addresses.append(address)\n",
    "        images.append(image)\n",
    "        prices.append(price)\n",
    "        descriptions.append(description)\n",
    "        what_this_place_offers.append(place_offer)\n",
    "        reviews.append(all_review)\n",
    "\n",
    "\n",
    "        cnt += 1\n",
    "        print(\"=============================================\")\n",
    "        clear_output(wait=True)"
   ]
  },
  {
   "cell_type": "code",
   "execution_count": 24,
   "id": "b51831c5",
   "metadata": {},
   "outputs": [],
   "source": [
    "with open(\"airnbn_beaches.txt\", \"w\", encoding='utf-8') as f:\n",
    "    for h, ra, ad, img, pr, des, po, re in zip(headlines, ratings, addresses, images, prices, descriptions, what_this_place_offers,  reviews):\n",
    "        f.write(f\"{h}, {ra}, {ad}, {img}, {pr}, {des}, {po}, {re}\")\n",
    "        f.write(\"\\n\")\n",
    "        f.write(\"==========================================================================================================\")"
   ]
  }
 ],
 "metadata": {
  "kernelspec": {
   "display_name": "Python 3 (ipykernel)",
   "language": "python",
   "name": "python3"
  },
  "language_info": {
   "codemirror_mode": {
    "name": "ipython",
    "version": 3
   },
   "file_extension": ".py",
   "mimetype": "text/x-python",
   "name": "python",
   "nbconvert_exporter": "python",
   "pygments_lexer": "ipython3",
   "version": "3.10.1"
  }
 },
 "nbformat": 4,
 "nbformat_minor": 5
}
