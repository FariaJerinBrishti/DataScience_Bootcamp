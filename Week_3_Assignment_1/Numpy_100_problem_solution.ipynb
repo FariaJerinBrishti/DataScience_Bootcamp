{
 "cells": [
  {
   "cell_type": "markdown",
   "id": "7739d189",
   "metadata": {},
   "source": [
    "# 1. Import the numpy package under the name np"
   ]
  },
  {
   "cell_type": "code",
   "execution_count": 1,
   "id": "6d73c2f6",
   "metadata": {},
   "outputs": [],
   "source": [
    "import numpy as np"
   ]
  },
  {
   "cell_type": "markdown",
   "id": "82cb7d50",
   "metadata": {},
   "source": [
    "# 2. Print the numpy version and the configuration"
   ]
  },
  {
   "cell_type": "code",
   "execution_count": 5,
   "id": "35d13ab7",
   "metadata": {},
   "outputs": [
    {
     "name": "stdout",
     "output_type": "stream",
     "text": [
      "1.23.2\n",
      "openblas64__info:\n",
      "    library_dirs = ['D:\\\\a\\\\numpy\\\\numpy\\\\build\\\\openblas64__info']\n",
      "    libraries = ['openblas64__info']\n",
      "    language = f77\n",
      "    define_macros = [('HAVE_CBLAS', None), ('BLAS_SYMBOL_SUFFIX', '64_'), ('HAVE_BLAS_ILP64', None)]\n",
      "blas_ilp64_opt_info:\n",
      "    library_dirs = ['D:\\\\a\\\\numpy\\\\numpy\\\\build\\\\openblas64__info']\n",
      "    libraries = ['openblas64__info']\n",
      "    language = f77\n",
      "    define_macros = [('HAVE_CBLAS', None), ('BLAS_SYMBOL_SUFFIX', '64_'), ('HAVE_BLAS_ILP64', None)]\n",
      "openblas64__lapack_info:\n",
      "    library_dirs = ['D:\\\\a\\\\numpy\\\\numpy\\\\build\\\\openblas64__lapack_info']\n",
      "    libraries = ['openblas64__lapack_info']\n",
      "    language = f77\n",
      "    define_macros = [('HAVE_CBLAS', None), ('BLAS_SYMBOL_SUFFIX', '64_'), ('HAVE_BLAS_ILP64', None), ('HAVE_LAPACKE', None)]\n",
      "lapack_ilp64_opt_info:\n",
      "    library_dirs = ['D:\\\\a\\\\numpy\\\\numpy\\\\build\\\\openblas64__lapack_info']\n",
      "    libraries = ['openblas64__lapack_info']\n",
      "    language = f77\n",
      "    define_macros = [('HAVE_CBLAS', None), ('BLAS_SYMBOL_SUFFIX', '64_'), ('HAVE_BLAS_ILP64', None), ('HAVE_LAPACKE', None)]\n",
      "Supported SIMD extensions in this NumPy install:\n",
      "    baseline = SSE,SSE2,SSE3\n",
      "    found = SSSE3,SSE41,POPCNT,SSE42,AVX,F16C,FMA3,AVX2,AVX512F,AVX512CD,AVX512_SKX,AVX512_CLX,AVX512_CNL,AVX512_ICL\n",
      "    not found = \n",
      "None\n"
     ]
    }
   ],
   "source": [
    "print(np.__version__)\n",
    "print(np.show_config())"
   ]
  },
  {
   "cell_type": "markdown",
   "id": "0198723a",
   "metadata": {},
   "source": [
    "# 3. Create a null vector of size 10"
   ]
  },
  {
   "cell_type": "code",
   "execution_count": 8,
   "id": "daf3b0fc",
   "metadata": {},
   "outputs": [
    {
     "name": "stdout",
     "output_type": "stream",
     "text": [
      "[0. 0. 0. 0. 0. 0. 0. 0. 0. 0.]\n"
     ]
    }
   ],
   "source": [
    "z = np.zeros(10)\n",
    "print(z)"
   ]
  },
  {
   "cell_type": "markdown",
   "id": "35d9bad7",
   "metadata": {},
   "source": [
    "# 4. How to find the memory size of any array"
   ]
  },
  {
   "cell_type": "code",
   "execution_count": 9,
   "id": "36cafa67",
   "metadata": {},
   "outputs": [
    {
     "name": "stdout",
     "output_type": "stream",
     "text": [
      "80\n"
     ]
    }
   ],
   "source": [
    "memory_size = z.nbytes\n",
    "print(memory_size)"
   ]
  },
  {
   "cell_type": "markdown",
   "id": "11562033",
   "metadata": {},
   "source": [
    "# 5. How to get the documentation of the numpy add function from the command line?"
   ]
  },
  {
   "cell_type": "code",
   "execution_count": 10,
   "id": "f92abe5d",
   "metadata": {},
   "outputs": [
    {
     "name": "stdout",
     "output_type": "stream",
     "text": [
      "add(x1, x2, /, out=None, *, where=True, casting='same_kind', order='K', dtype=None, subok=True[, signature, extobj])\n",
      "\n",
      "Add arguments element-wise.\n",
      "\n",
      "Parameters\n",
      "----------\n",
      "x1, x2 : array_like\n",
      "    The arrays to be added.\n",
      "    If ``x1.shape != x2.shape``, they must be broadcastable to a common\n",
      "    shape (which becomes the shape of the output).\n",
      "out : ndarray, None, or tuple of ndarray and None, optional\n",
      "    A location into which the result is stored. If provided, it must have\n",
      "    a shape that the inputs broadcast to. If not provided or None,\n",
      "    a freshly-allocated array is returned. A tuple (possible only as a\n",
      "    keyword argument) must have length equal to the number of outputs.\n",
      "where : array_like, optional\n",
      "    This condition is broadcast over the input. At locations where the\n",
      "    condition is True, the `out` array will be set to the ufunc result.\n",
      "    Elsewhere, the `out` array will retain its original value.\n",
      "    Note that if an uninitialized `out` array is created via the default\n",
      "    ``out=None``, locations within it where the condition is False will\n",
      "    remain uninitialized.\n",
      "**kwargs\n",
      "    For other keyword-only arguments, see the\n",
      "    :ref:`ufunc docs <ufuncs.kwargs>`.\n",
      "\n",
      "Returns\n",
      "-------\n",
      "add : ndarray or scalar\n",
      "    The sum of `x1` and `x2`, element-wise.\n",
      "    This is a scalar if both `x1` and `x2` are scalars.\n",
      "\n",
      "Notes\n",
      "-----\n",
      "Equivalent to `x1` + `x2` in terms of array broadcasting.\n",
      "\n",
      "Examples\n",
      "--------\n",
      ">>> np.add(1.0, 4.0)\n",
      "5.0\n",
      ">>> x1 = np.arange(9.0).reshape((3, 3))\n",
      ">>> x2 = np.arange(3.0)\n",
      ">>> np.add(x1, x2)\n",
      "array([[  0.,   2.,   4.],\n",
      "       [  3.,   5.,   7.],\n",
      "       [  6.,   8.,  10.]])\n",
      "\n",
      "The ``+`` operator can be used as a shorthand for ``np.add`` on ndarrays.\n",
      "\n",
      ">>> x1 = np.arange(9.0).reshape((3, 3))\n",
      ">>> x2 = np.arange(3.0)\n",
      ">>> x1 + x2\n",
      "array([[ 0.,  2.,  4.],\n",
      "       [ 3.,  5.,  7.],\n",
      "       [ 6.,  8., 10.]])\n",
      "None\n"
     ]
    }
   ],
   "source": [
    "print(np.info(np.add))"
   ]
  },
  {
   "cell_type": "markdown",
   "id": "571467a9",
   "metadata": {},
   "source": [
    "# 6. Create a null vector of size 10 but the fifth value which is 1"
   ]
  },
  {
   "cell_type": "code",
   "execution_count": 11,
   "id": "ef05d72e",
   "metadata": {},
   "outputs": [
    {
     "name": "stdout",
     "output_type": "stream",
     "text": [
      "[0. 0. 0. 0. 1. 0. 0. 0. 0. 0.]\n"
     ]
    }
   ],
   "source": [
    "null_vector = np.zeros(10)\n",
    "null_vector[4] = 1\n",
    "print(null_vector)"
   ]
  },
  {
   "cell_type": "markdown",
   "id": "3b6eb943",
   "metadata": {},
   "source": [
    "# 7. Create a vector with values ranging from 10 to 49"
   ]
  },
  {
   "cell_type": "code",
   "execution_count": 13,
   "id": "d0f419bd",
   "metadata": {},
   "outputs": [
    {
     "name": "stdout",
     "output_type": "stream",
     "text": [
      "[10 11 12 13 14 15 16 17 18 19 20 21 22 23 24 25 26 27 28 29 30 31 32 33\n",
      " 34 35 36 37 38 39 40 41 42 43 44 45 46 47 48 49]\n"
     ]
    }
   ],
   "source": [
    "ten_to_fortyNine = np.arange(10,50)\n",
    "print(ten_to_fortyNine)"
   ]
  },
  {
   "cell_type": "markdown",
   "id": "832f75e1",
   "metadata": {},
   "source": [
    "# 8. Reverse a vector (first element becomes last) "
   ]
  },
  {
   "cell_type": "code",
   "execution_count": 15,
   "id": "2625e394",
   "metadata": {},
   "outputs": [
    {
     "name": "stdout",
     "output_type": "stream",
     "text": [
      "[49 48 47 46 45 44 43 42 41 40 39 38 37 36 35 34 33 32 31 30 29 28 27 26\n",
      " 25 24 23 22 21 20 19 18 17 16 15 14 13 12 11 10]\n"
     ]
    }
   ],
   "source": [
    "reverse_vector = np.flip(ten_to_fortyNine)\n",
    "print(reverse_vector)"
   ]
  },
  {
   "cell_type": "markdown",
   "id": "a8bd8610",
   "metadata": {},
   "source": [
    "# 9. Create a 3x3 matrix with values ranging from 0 to 8"
   ]
  },
  {
   "cell_type": "code",
   "execution_count": 16,
   "id": "f51a10e1",
   "metadata": {},
   "outputs": [
    {
     "name": "stdout",
     "output_type": "stream",
     "text": [
      "[[0 1 2]\n",
      " [3 4 5]\n",
      " [6 7 8]]\n"
     ]
    }
   ],
   "source": [
    "three_by_three = np.arange(0,9).reshape(3,3)\n",
    "print(three_by_three)"
   ]
  },
  {
   "cell_type": "markdown",
   "id": "0bc8a61c",
   "metadata": {},
   "source": [
    "# 10. Find indices of non-zero elements from [1,2,0,0,4,0]"
   ]
  },
  {
   "cell_type": "code",
   "execution_count": 21,
   "id": "e76bae36",
   "metadata": {},
   "outputs": [
    {
     "name": "stdout",
     "output_type": "stream",
     "text": [
      "(array([0, 1, 4], dtype=int64),)\n"
     ]
    }
   ],
   "source": [
    "array = np.array([1,2,0,0,4,0])\n",
    "non_zero = np.nonzero(array)\n",
    "print(non_zero)"
   ]
  },
  {
   "cell_type": "markdown",
   "id": "930040d4",
   "metadata": {},
   "source": [
    "# 11. Create a 3x3 identity matrix"
   ]
  },
  {
   "cell_type": "code",
   "execution_count": 25,
   "id": "5defded2",
   "metadata": {},
   "outputs": [
    {
     "name": "stdout",
     "output_type": "stream",
     "text": [
      "[[1. 0. 0.]\n",
      " [0. 1. 0.]\n",
      " [0. 0. 1.]]\n"
     ]
    }
   ],
   "source": [
    "identity_matrix = np.eye(3)\n",
    "print(identity_matrix)"
   ]
  },
  {
   "cell_type": "markdown",
   "id": "7bb9b400",
   "metadata": {},
   "source": [
    "# 12. Create a 3x3x3 array with random values "
   ]
  },
  {
   "cell_type": "code",
   "execution_count": 27,
   "id": "1c9fb4cf",
   "metadata": {},
   "outputs": [
    {
     "data": {
      "text/plain": [
       "array([[[0.48110557, 0.29261087, 0.78432809],\n",
       "        [0.74633228, 0.85288249, 0.93555329],\n",
       "        [0.38001367, 0.84281343, 0.42539989]],\n",
       "\n",
       "       [[0.70078562, 0.55309839, 0.28332946],\n",
       "        [0.27519233, 0.56300047, 0.05676384],\n",
       "        [0.48887526, 0.07011559, 0.64005204]],\n",
       "\n",
       "       [[0.1849602 , 0.33455027, 0.99225205],\n",
       "        [0.0512567 , 0.58751257, 0.98818807],\n",
       "        [0.61046445, 0.60228969, 0.62199884]]])"
      ]
     },
     "execution_count": 27,
     "metadata": {},
     "output_type": "execute_result"
    }
   ],
   "source": [
    "np.random.random((3,3,3))"
   ]
  },
  {
   "cell_type": "markdown",
   "id": "3b05cb91",
   "metadata": {},
   "source": [
    "# 13. Create a 10x10 array with random values and find the minimum and maximum values"
   ]
  },
  {
   "cell_type": "code",
   "execution_count": 36,
   "id": "a1c6d67a",
   "metadata": {},
   "outputs": [
    {
     "name": "stdout",
     "output_type": "stream",
     "text": [
      "[[0.01786827 0.27604607 0.07087041 0.10036027 0.39441977 0.8505041\n",
      "  0.06264553 0.99214928 0.59455225 0.46654902]\n",
      " [0.62784494 0.80006393 0.93983277 0.53578244 0.68928674 0.0875203\n",
      "  0.82363686 0.74939145 0.60901065 0.01300199]\n",
      " [0.70189063 0.04252294 0.96340207 0.57899285 0.2793757  0.6143443\n",
      "  0.87406577 0.77159549 0.23961241 0.62621035]\n",
      " [0.64872284 0.20715812 0.5299704  0.29019675 0.18658973 0.409253\n",
      "  0.63849708 0.4560022  0.43071118 0.44964774]\n",
      " [0.61894995 0.98641431 0.12840877 0.0871217  0.14236365 0.35562684\n",
      "  0.17566648 0.55288131 0.82546175 0.35211077]\n",
      " [0.5027456  0.97898604 0.00898726 0.49067079 0.11752853 0.81866339\n",
      "  0.5760162  0.95851999 0.51792043 0.09693153]\n",
      " [0.36757125 0.10855209 0.69970125 0.77929957 0.53155255 0.04684161\n",
      "  0.1782209  0.02542302 0.20872704 0.29825768]\n",
      " [0.30756614 0.47044396 0.02350344 0.83435749 0.66263424 0.5344569\n",
      "  0.22216151 0.56392157 0.29484754 0.09245421]\n",
      " [0.45794484 0.26079322 0.62501765 0.59963745 0.12342746 0.08640163\n",
      "  0.45077472 0.06546108 0.48031634 0.703995  ]\n",
      " [0.02918004 0.69353524 0.13245695 0.40611799 0.9984705  0.38347461\n",
      "  0.93617879 0.91159785 0.56987129 0.02350792]]\n",
      "0.9984704976384728\n",
      "0.008987258449728475\n"
     ]
    }
   ],
   "source": [
    "ten_by_ten = np.random.random((10, 10))\n",
    "max_value = np.max(ten_by_ten)\n",
    "min_value = np.min(ten_by_ten)\n",
    "print(ten_by_ten)\n",
    "print(max_value)\n",
    "print(min_value)"
   ]
  },
  {
   "cell_type": "markdown",
   "id": "6a0f97a9",
   "metadata": {},
   "source": [
    "# 14. Create a random vector of size 30 and find the mean value"
   ]
  },
  {
   "cell_type": "code",
   "execution_count": 37,
   "id": "fd04975f",
   "metadata": {},
   "outputs": [
    {
     "name": "stdout",
     "output_type": "stream",
     "text": [
      "0.4117276875682093\n"
     ]
    }
   ],
   "source": [
    "random_vector = np.random.random((30))\n",
    "mean_value = np.mean(random_vector)\n",
    "print(mean_value)"
   ]
  },
  {
   "cell_type": "markdown",
   "id": "7564e2d9",
   "metadata": {},
   "source": [
    "# 15. Create a 2d array with 1 on the border and 0 inside"
   ]
  },
  {
   "cell_type": "code",
   "execution_count": 42,
   "id": "f6128e13",
   "metadata": {},
   "outputs": [
    {
     "name": "stdout",
     "output_type": "stream",
     "text": [
      "[[1. 1. 1. 1. 1.]\n",
      " [1. 0. 0. 0. 1.]\n",
      " [1. 0. 0. 0. 1.]\n",
      " [1. 0. 0. 0. 1.]\n",
      " [1. 1. 1. 1. 1.]]\n"
     ]
    }
   ],
   "source": [
    "two_dimension_array = np.ones((5,5))\n",
    "two_dimension_array[1:-1, 1:-1] = 0\n",
    "print(two_dimension_array)"
   ]
  },
  {
   "cell_type": "markdown",
   "id": "69d33dff",
   "metadata": {},
   "source": [
    "# 16. How to add a border (filled with 0's) around an existing array?"
   ]
  },
  {
   "cell_type": "code",
   "execution_count": 48,
   "id": "16491dd0",
   "metadata": {},
   "outputs": [
    {
     "name": "stdout",
     "output_type": "stream",
     "text": [
      "[[0. 0. 0. 0. 0. 0. 0.]\n",
      " [0. 1. 1. 1. 1. 1. 0.]\n",
      " [0. 1. 1. 1. 1. 1. 0.]\n",
      " [0. 1. 1. 1. 1. 1. 0.]\n",
      " [0. 1. 1. 1. 1. 1. 0.]\n",
      " [0. 1. 1. 1. 1. 1. 0.]\n",
      " [0. 0. 0. 0. 0. 0. 0.]]\n"
     ]
    }
   ],
   "source": [
    "array = np.ones((5,5))\n",
    "array = np.pad(array, pad_width=1, mode='constant', constant_values=0)\n",
    "print(array)"
   ]
  },
  {
   "cell_type": "markdown",
   "id": "d7f7b9e2",
   "metadata": {},
   "source": [
    "# 17. What is the result of the following expression?"
   ]
  },
  {
   "cell_type": "code",
   "execution_count": 49,
   "id": "b71aba6f",
   "metadata": {},
   "outputs": [
    {
     "data": {
      "text/plain": [
       "False"
      ]
     },
     "execution_count": 49,
     "metadata": {},
     "output_type": "execute_result"
    }
   ],
   "source": [
    "0 * np.nan\n",
    "np.nan == np.nan\n",
    "np.inf > np.nan\n",
    "np.nan - np.nan\n",
    "np.nan in set([np.nan])\n",
    "0.3 == 3 * 0.1"
   ]
  },
  {
   "cell_type": "code",
   "execution_count": 51,
   "id": "9700d9ec",
   "metadata": {},
   "outputs": [
    {
     "data": {
      "text/plain": [
       "nan"
      ]
     },
     "execution_count": 51,
     "metadata": {},
     "output_type": "execute_result"
    }
   ],
   "source": [
    "0 * np.nan"
   ]
  },
  {
   "cell_type": "code",
   "execution_count": 52,
   "id": "0b98476e",
   "metadata": {},
   "outputs": [
    {
     "data": {
      "text/plain": [
       "False"
      ]
     },
     "execution_count": 52,
     "metadata": {},
     "output_type": "execute_result"
    }
   ],
   "source": [
    "np.nan == np.nan"
   ]
  },
  {
   "cell_type": "code",
   "execution_count": 54,
   "id": "244662ea",
   "metadata": {},
   "outputs": [
    {
     "data": {
      "text/plain": [
       "False"
      ]
     },
     "execution_count": 54,
     "metadata": {},
     "output_type": "execute_result"
    }
   ],
   "source": [
    "np.inf > np.nan"
   ]
  },
  {
   "cell_type": "code",
   "execution_count": 55,
   "id": "c9a44e34",
   "metadata": {},
   "outputs": [
    {
     "data": {
      "text/plain": [
       "nan"
      ]
     },
     "execution_count": 55,
     "metadata": {},
     "output_type": "execute_result"
    }
   ],
   "source": [
    "np.nan - np.nan"
   ]
  },
  {
   "cell_type": "code",
   "execution_count": 56,
   "id": "64e5495b",
   "metadata": {},
   "outputs": [
    {
     "data": {
      "text/plain": [
       "True"
      ]
     },
     "execution_count": 56,
     "metadata": {},
     "output_type": "execute_result"
    }
   ],
   "source": [
    "np.nan in set([np.nan])"
   ]
  },
  {
   "cell_type": "code",
   "execution_count": 57,
   "id": "f80eae27",
   "metadata": {},
   "outputs": [
    {
     "data": {
      "text/plain": [
       "False"
      ]
     },
     "execution_count": 57,
     "metadata": {},
     "output_type": "execute_result"
    }
   ],
   "source": [
    "0.3 == 3 * 0.1"
   ]
  },
  {
   "cell_type": "markdown",
   "id": "f5584350",
   "metadata": {},
   "source": [
    "# 18. Create a 5x5 matrix with values 1,2,3,4 just below the diagonal"
   ]
  },
  {
   "cell_type": "code",
   "execution_count": 59,
   "id": "084f254b",
   "metadata": {},
   "outputs": [
    {
     "name": "stdout",
     "output_type": "stream",
     "text": [
      "[[1. 0. 0. 0.]\n",
      " [0. 2. 0. 0.]\n",
      " [0. 0. 3. 0.]\n",
      " [0. 0. 0. 4.]]\n"
     ]
    }
   ],
   "source": [
    "matrix = np.eye(4)\n",
    "matrix[1][1] = 2\n",
    "matrix[2][2] = 3\n",
    "matrix[3][3] = 4\n",
    "print(matrix)"
   ]
  },
  {
   "cell_type": "markdown",
   "id": "93004d19",
   "metadata": {},
   "source": [
    "# 19. Create a 8x8 matrix and fill it with a checkerboard pattern"
   ]
  },
  {
   "cell_type": "code",
   "execution_count": 68,
   "id": "c36bd980",
   "metadata": {},
   "outputs": [
    {
     "name": "stdout",
     "output_type": "stream",
     "text": [
      "[[0. 1. 0. 1. 0. 1. 0. 1.]\n",
      " [1. 0. 1. 0. 1. 0. 1. 0.]\n",
      " [0. 1. 0. 1. 0. 1. 0. 1.]\n",
      " [1. 0. 1. 0. 1. 0. 1. 0.]\n",
      " [0. 1. 0. 1. 0. 1. 0. 1.]\n",
      " [1. 0. 1. 0. 1. 0. 1. 0.]\n",
      " [0. 1. 0. 1. 0. 1. 0. 1.]\n",
      " [1. 0. 1. 0. 1. 0. 1. 0.]]\n"
     ]
    }
   ],
   "source": [
    "matrix = np.ones((8,8))\n",
    "matrix[::2,::2] = 0\n",
    "matrix[1::2,1::2] = 0\n",
    "print(matrix)"
   ]
  },
  {
   "cell_type": "markdown",
   "id": "d562fbe9",
   "metadata": {},
   "source": [
    "# 20. Consider a (6,7,8) shape array, what is the index (x,y,z) of the 100th element?"
   ]
  },
  {
   "cell_type": "code",
   "execution_count": 69,
   "id": "112f8b31",
   "metadata": {},
   "outputs": [
    {
     "name": "stdout",
     "output_type": "stream",
     "text": [
      "(1, 5, 4)\n"
     ]
    }
   ],
   "source": [
    "print (np.unravel_index(100, (6,7,8)))"
   ]
  },
  {
   "cell_type": "markdown",
   "id": "5062ef93",
   "metadata": {},
   "source": [
    "# 21. Create a checkerboard 8x8 matrix using the tile function"
   ]
  },
  {
   "cell_type": "code",
   "execution_count": 73,
   "id": "d77e24d5",
   "metadata": {},
   "outputs": [
    {
     "data": {
      "text/plain": [
       "array([[0, 1, 0, 1, 0, 1, 0, 1],\n",
       "       [1, 0, 1, 0, 1, 0, 1, 0],\n",
       "       [0, 1, 0, 1, 0, 1, 0, 1],\n",
       "       [1, 0, 1, 0, 1, 0, 1, 0],\n",
       "       [0, 1, 0, 1, 0, 1, 0, 1],\n",
       "       [1, 0, 1, 0, 1, 0, 1, 0],\n",
       "       [0, 1, 0, 1, 0, 1, 0, 1],\n",
       "       [1, 0, 1, 0, 1, 0, 1, 0]])"
      ]
     },
     "execution_count": 73,
     "metadata": {},
     "output_type": "execute_result"
    }
   ],
   "source": [
    "a = np.array([[0,1],[1,0]])\n",
    "np.tile(a, (4,4))"
   ]
  },
  {
   "cell_type": "markdown",
   "id": "07733632",
   "metadata": {},
   "source": [
    "# 22. Normalize a 5x5 random matrix"
   ]
  },
  {
   "cell_type": "code",
   "execution_count": 77,
   "id": "7cad51e0",
   "metadata": {},
   "outputs": [
    {
     "name": "stdout",
     "output_type": "stream",
     "text": [
      "[[0.08946349 0.27115303 0.29884955 0.09530989 0.05831266]\n",
      " [0.26804389 0.00090918 0.1742909  0.0887142  0.07831682]\n",
      " [0.27062879 0.32428792 0.05428729 0.2944791  0.11046896]\n",
      " [0.22264572 0.32411593 0.16189476 0.29454348 0.03951208]\n",
      " [0.25492852 0.03544533 0.1938748  0.13645073 0.16904464]]\n"
     ]
    }
   ],
   "source": [
    "arr =np.random.random((5,5))\n",
    "normalized_vector = arr / np.linalg.norm(arr)\n",
    "print(normalized_vector)"
   ]
  },
  {
   "cell_type": "markdown",
   "id": "4304e1cf",
   "metadata": {},
   "source": [
    "# 23. Create a custom dtype that describes a color as four unsigned bytes (RGBA)"
   ]
  },
  {
   "cell_type": "code",
   "execution_count": 7,
   "id": "fa429d9f",
   "metadata": {},
   "outputs": [
    {
     "name": "stdout",
     "output_type": "stream",
     "text": [
      "[('r', 'u1'), ('g', 'u1'), ('b', 'u1'), ('a', 'u1')]\n"
     ]
    }
   ],
   "source": [
    "rgba_color = np.dtype([(\"r\", np.ubyte),\n",
    "                      (\"g\", np.ubyte),\n",
    "                      (\"b\", np.ubyte),\n",
    "                      (\"a\", np.ubyte)])\n",
    "print(rgba_color)"
   ]
  },
  {
   "cell_type": "code",
   "execution_count": 3,
   "id": "3f747482",
   "metadata": {},
   "outputs": [
    {
     "data": {
      "text/plain": [
       "dtype([('f0', '<i4'), ('f1', '<f8', (2, 3)), ('f2', '<f4')])"
      ]
     },
     "execution_count": 3,
     "metadata": {},
     "output_type": "execute_result"
    }
   ],
   "source": [
    "np.dtype(\"i4, (2,3)f8, f4\")"
   ]
  },
  {
   "cell_type": "markdown",
   "id": "fc725229",
   "metadata": {},
   "source": [
    "# 24. Multiply a 5x3 matrix by a 3x2 matrix (real matrix product)"
   ]
  },
  {
   "cell_type": "code",
   "execution_count": 9,
   "id": "ddb65423",
   "metadata": {},
   "outputs": [
    {
     "name": "stdout",
     "output_type": "stream",
     "text": [
      "[[15. 15.]\n",
      " [15. 15.]\n",
      " [15. 15.]\n",
      " [15. 15.]\n",
      " [15. 15.]]\n"
     ]
    }
   ],
   "source": [
    "matrix_1 = np.ones((5,3))\n",
    "matrix_2 = np.full((3,2),5)\n",
    "multi = np.dot(matrix_1, matrix_2)\n",
    "print(multi)"
   ]
  },
  {
   "cell_type": "markdown",
   "id": "78242593",
   "metadata": {},
   "source": [
    "# 25. Given a 1D array, negate all elements which are between 3 and 8, in place."
   ]
  },
  {
   "cell_type": "code",
   "execution_count": 12,
   "id": "842efa5a",
   "metadata": {},
   "outputs": [
    {
     "name": "stdout",
     "output_type": "stream",
     "text": [
      "[ 0  1  2  3 -4 -5 -6 -7  8  9]\n"
     ]
    }
   ],
   "source": [
    "array = np.arange(10)\n",
    "array = np.where((array>3) & (array<8), array*(-1), array)\n",
    "print(array)"
   ]
  },
  {
   "cell_type": "markdown",
   "id": "bc04da3c",
   "metadata": {},
   "source": [
    "# 26. What is the output of the following script?\n",
    "Author: Jake VanderPlas\n",
    "\n",
    "print(sum(range(5),-1))\n",
    "from numpy import *\n",
    "print(sum(range(5),-1))"
   ]
  },
  {
   "cell_type": "code",
   "execution_count": 13,
   "id": "2c367317",
   "metadata": {},
   "outputs": [
    {
     "name": "stdout",
     "output_type": "stream",
     "text": [
      "9\n",
      "10\n"
     ]
    }
   ],
   "source": [
    "print(sum(range(5),-1))\n",
    "from numpy import *\n",
    "print(sum(range(5),-1))"
   ]
  },
  {
   "cell_type": "markdown",
   "id": "bc26592d",
   "metadata": {},
   "source": [
    "# 27. Consider an integer vector Z, which of these expressions are legal? \n"
   ]
  },
  {
   "cell_type": "code",
   "execution_count": 18,
   "id": "2cb4574e",
   "metadata": {},
   "outputs": [
    {
     "name": "stdout",
     "output_type": "stream",
     "text": [
      "[       1        1        4       27      256     3125    46656   823543\n",
      " 16777216]\n",
      "[  0   1   2   4   8  16  32  64 128]\n",
      "[False False False False False False False False False]\n",
      "[0.+0.j 0.+1.j 0.+2.j 0.+3.j 0.+4.j 0.+5.j 0.+6.j 0.+7.j 0.+8.j]\n",
      "[0. 1. 2. 3. 4. 5. 6. 7. 8.]\n"
     ]
    }
   ],
   "source": [
    "Z = np.arange((9))\n",
    "print(Z**Z)\n",
    "print(2 << Z >> 2)\n",
    "print(Z <- Z)\n",
    "print(1j*Z)\n",
    "print(Z/1/1)"
   ]
  },
  {
   "cell_type": "markdown",
   "id": "7dde03c9",
   "metadata": {},
   "source": [
    "# 28. What are the result of the following expressions?"
   ]
  },
  {
   "cell_type": "code",
   "execution_count": 20,
   "id": "e16e7879",
   "metadata": {},
   "outputs": [
    {
     "name": "stdout",
     "output_type": "stream",
     "text": [
      "nan\n",
      "0\n",
      "[-2.14748365e+09]\n"
     ]
    },
    {
     "name": "stderr",
     "output_type": "stream",
     "text": [
      "C:\\Users\\User\\AppData\\Local\\Temp\\ipykernel_18348\\3912170336.py:1: RuntimeWarning: invalid value encountered in divide\n",
      "  print(np.array(0) / np.array(0))\n",
      "C:\\Users\\User\\AppData\\Local\\Temp\\ipykernel_18348\\3912170336.py:2: RuntimeWarning: divide by zero encountered in floor_divide\n",
      "  print(np.array(0) // np.array(0))\n"
     ]
    }
   ],
   "source": [
    "print(np.array(0) / np.array(0))\n",
    "print(np.array(0) // np.array(0))\n",
    "print(np.array([np.nan]).astype(int).astype(float))"
   ]
  },
  {
   "cell_type": "markdown",
   "id": "d9939b2d",
   "metadata": {},
   "source": [
    "# 29. How to round away from zero a float array ? "
   ]
  },
  {
   "cell_type": "code",
   "execution_count": 21,
   "id": "b0a1d04e",
   "metadata": {},
   "outputs": [
    {
     "name": "stdout",
     "output_type": "stream",
     "text": [
      "[32. 52.  0.]\n"
     ]
    }
   ],
   "source": [
    "array = np.array([32.11, 51.5, 0.112])\n",
    "array = np.round(array)\n",
    "print(array)"
   ]
  },
  {
   "cell_type": "markdown",
   "id": "4f154a82",
   "metadata": {},
   "source": [
    "# 30. How to find common values between two arrays?"
   ]
  },
  {
   "cell_type": "code",
   "execution_count": 23,
   "id": "046587ae",
   "metadata": {},
   "outputs": [
    {
     "name": "stdout",
     "output_type": "stream",
     "text": [
      "[10 40 60]\n"
     ]
    }
   ],
   "source": [
    "array1 = np.array([0, 10, 20, 40, 60])\n",
    "array2 = np.array([10, 30, 40, 50, 60])\n",
    "common_values = np.intersect1d(array1, array2)\n",
    "print(common_values)"
   ]
  },
  {
   "cell_type": "markdown",
   "id": "1a291c89",
   "metadata": {},
   "source": [
    "# 31. How to ignore all numpy warnings (not recommended)?"
   ]
  },
  {
   "cell_type": "code",
   "execution_count": 24,
   "id": "94cf10ac",
   "metadata": {},
   "outputs": [
    {
     "data": {
      "text/plain": [
       "{'divide': 'warn', 'over': 'warn', 'under': 'ignore', 'invalid': 'warn'}"
      ]
     },
     "execution_count": 24,
     "metadata": {},
     "output_type": "execute_result"
    }
   ],
   "source": [
    "np.seterr(all=\"ignore\")"
   ]
  },
  {
   "cell_type": "markdown",
   "id": "7c593c1b",
   "metadata": {},
   "source": [
    "# 32. Is the following expressions true? "
   ]
  },
  {
   "cell_type": "code",
   "execution_count": 25,
   "id": "f7641d1c",
   "metadata": {},
   "outputs": [
    {
     "data": {
      "text/plain": [
       "False"
      ]
     },
     "execution_count": 25,
     "metadata": {},
     "output_type": "execute_result"
    }
   ],
   "source": [
    "np.sqrt(-1) == np.emath.sqrt(-1)"
   ]
  },
  {
   "cell_type": "markdown",
   "id": "b56604b6",
   "metadata": {},
   "source": [
    "# 33. How to get the dates of yesterday, today and tomorrow?"
   ]
  },
  {
   "cell_type": "code",
   "execution_count": 35,
   "id": "c9611988",
   "metadata": {},
   "outputs": [
    {
     "name": "stdout",
     "output_type": "stream",
     "text": [
      "Yesterday =  2022-10-12\n",
      "Today =  2022-10-13\n",
      "Tomorrow =  2022-10-14\n"
     ]
    }
   ],
   "source": [
    "print(\"Yesterday = \",np.datetime64('today', 'D') - np.timedelta64(1, 'D'))\n",
    "print(\"Today = \",np.datetime64('today', 'D'))\n",
    "print(\"Tomorrow = \",np.datetime64('today', 'D') + np.timedelta64(1, 'D'))"
   ]
  },
  {
   "cell_type": "markdown",
   "id": "f4ac14ce",
   "metadata": {},
   "source": [
    "# 34. How to get all the dates corresponding to the month of July 2016?"
   ]
  },
  {
   "cell_type": "code",
   "execution_count": 42,
   "id": "3f05c522",
   "metadata": {},
   "outputs": [
    {
     "name": "stdout",
     "output_type": "stream",
     "text": [
      "['2016-07-01' '2016-07-02' '2016-07-03' '2016-07-04' '2016-07-05'\n",
      " '2016-07-06' '2016-07-07' '2016-07-08' '2016-07-09' '2016-07-10'\n",
      " '2016-07-11' '2016-07-12' '2016-07-13' '2016-07-14' '2016-07-15'\n",
      " '2016-07-16' '2016-07-17' '2016-07-18' '2016-07-19' '2016-07-20'\n",
      " '2016-07-21' '2016-07-22' '2016-07-23' '2016-07-24' '2016-07-25'\n",
      " '2016-07-26' '2016-07-27' '2016-07-28' '2016-07-29' '2016-07-30'\n",
      " '2016-07-31']\n"
     ]
    }
   ],
   "source": [
    "all_date = np.arange('2016-07', '2016-08', dtype='datetime64[D]')\n",
    "print(all_date)"
   ]
  },
  {
   "cell_type": "markdown",
   "id": "7623d319",
   "metadata": {},
   "source": [
    "# 35. How to compute ((A+B)*(-A/2)) in place (without copy)? "
   ]
  },
  {
   "cell_type": "code",
   "execution_count": 43,
   "id": "4cf5b333",
   "metadata": {},
   "outputs": [
    {
     "data": {
      "text/plain": [
       "array([-1., -1., -1.])"
      ]
     },
     "execution_count": 43,
     "metadata": {},
     "output_type": "execute_result"
    }
   ],
   "source": [
    "A = np.ones(3)\n",
    "B = np.ones(3)\n",
    "np.add(A,B,out=B)\n",
    "np.negative(A,out=A)\n",
    "np.divide(A,2,out=A)\n",
    "np.multiply(A,B,out=A)\n"
   ]
  },
  {
   "cell_type": "markdown",
   "id": "9596f5be",
   "metadata": {},
   "source": [
    "# 36. Extract the integer part of a random array of positive numbers using 4 different methods"
   ]
  },
  {
   "cell_type": "code",
   "execution_count": 8,
   "id": "16aa21d7",
   "metadata": {},
   "outputs": [
    {
     "name": "stdout",
     "output_type": "stream",
     "text": [
      "[8. 4. 3. 5. 7. 1. 2. 0. 5. 3.]\n",
      "[8. 4. 3. 5. 7. 1. 2. 0. 5. 3.]\n",
      "[8 4 3 5 7 1 2 0 5 3]\n",
      "[8. 4. 3. 5. 7. 1. 2. 0. 5. 3.]\n"
     ]
    }
   ],
   "source": [
    "array = np.random.uniform(0,10,10)\n",
    "print(np.floor(array))\n",
    "print(np.ceil(array)-1)\n",
    "print(array.astype(int))\n",
    "print(np.trunc(array))"
   ]
  },
  {
   "cell_type": "markdown",
   "id": "3bd6865f",
   "metadata": {},
   "source": [
    "# 37.Create a 5x5 matrix with row values ranging from 0 to 4"
   ]
  },
  {
   "cell_type": "code",
   "execution_count": 16,
   "id": "ebec8bd5",
   "metadata": {},
   "outputs": [
    {
     "name": "stdout",
     "output_type": "stream",
     "text": [
      "[[0. 1. 2. 3. 4.]\n",
      " [0. 1. 2. 3. 4.]\n",
      " [0. 1. 2. 3. 4.]\n",
      " [0. 1. 2. 3. 4.]\n",
      " [0. 1. 2. 3. 4.]]\n"
     ]
    }
   ],
   "source": [
    "array = np.zeros((5,5))\n",
    "array = array+np.arange(5)\n",
    "print(array)"
   ]
  },
  {
   "cell_type": "markdown",
   "id": "518711d0",
   "metadata": {},
   "source": [
    "# 38.Consider a generator function that generates 10 integers and use it to build an array"
   ]
  },
  {
   "cell_type": "code",
   "execution_count": 25,
   "id": "da7e2cd7",
   "metadata": {},
   "outputs": [
    {
     "name": "stdout",
     "output_type": "stream",
     "text": [
      "[0 1 2 3 4 5 6 7 8 9]\n"
     ]
    }
   ],
   "source": [
    "def generator():\n",
    "    for i in range(10):\n",
    "        yield i\n",
    "array = np.fromiter(generator(),dtype = int)\n",
    "print(array)"
   ]
  },
  {
   "cell_type": "markdown",
   "id": "dbdae43d",
   "metadata": {},
   "source": [
    "# 39. Create a vector of size 10 with values ranging from 0 to 1, both excluded"
   ]
  },
  {
   "cell_type": "code",
   "execution_count": 32,
   "id": "3698ba84",
   "metadata": {},
   "outputs": [
    {
     "data": {
      "text/plain": [
       "array([0.11111111, 0.22222222, 0.33333333, 0.44444444, 0.55555556,\n",
       "       0.66666667, 0.77777778, 0.88888889])"
      ]
     },
     "execution_count": 32,
     "metadata": {},
     "output_type": "execute_result"
    }
   ],
   "source": [
    "np.linspace(0,1,10)[1:-1]"
   ]
  },
  {
   "cell_type": "markdown",
   "id": "521b991d",
   "metadata": {},
   "source": [
    "# 40. Create a random vector of size 10 and sort it"
   ]
  },
  {
   "cell_type": "code",
   "execution_count": 36,
   "id": "5e030ee7",
   "metadata": {},
   "outputs": [
    {
     "name": "stdout",
     "output_type": "stream",
     "text": [
      "[0.06364709 0.12127531 0.27147126 0.40243899 0.41765837 0.45778032\n",
      " 0.50645351 0.53315726 0.64222399 0.78551976]\n"
     ]
    }
   ],
   "source": [
    "array = np.random.random(10)\n",
    "array = np.sort(array)\n",
    "print(array)"
   ]
  },
  {
   "cell_type": "markdown",
   "id": "fa269267",
   "metadata": {},
   "source": [
    "# 41. How to sum a small array faster than np.sum?"
   ]
  },
  {
   "cell_type": "code",
   "execution_count": 39,
   "id": "200c9b39",
   "metadata": {},
   "outputs": [
    {
     "data": {
      "text/plain": [
       "45"
      ]
     },
     "execution_count": 39,
     "metadata": {},
     "output_type": "execute_result"
    }
   ],
   "source": [
    "array = np.arange(10)\n",
    "np.add.reduce(array)"
   ]
  },
  {
   "cell_type": "markdown",
   "id": "85eb4e1e",
   "metadata": {},
   "source": [
    "# 42. Consider two random array A and B, check if they are equal"
   ]
  },
  {
   "cell_type": "code",
   "execution_count": 42,
   "id": "3a2ca583",
   "metadata": {},
   "outputs": [
    {
     "name": "stdout",
     "output_type": "stream",
     "text": [
      "False\n"
     ]
    }
   ],
   "source": [
    "A = np.random.random((5))\n",
    "B = np.random.random((5))\n",
    "equal_check = np.array_equal(A,B)\n",
    "print(equal_check)"
   ]
  },
  {
   "cell_type": "markdown",
   "id": "fe89c2f0",
   "metadata": {},
   "source": [
    "# 43. Make an array immutable (read-only)"
   ]
  },
  {
   "cell_type": "code",
   "execution_count": 47,
   "id": "6c81621e",
   "metadata": {},
   "outputs": [
    {
     "ename": "ValueError",
     "evalue": "assignment destination is read-only",
     "output_type": "error",
     "traceback": [
      "\u001b[1;31m---------------------------------------------------------------------------\u001b[0m",
      "\u001b[1;31mValueError\u001b[0m                                Traceback (most recent call last)",
      "Input \u001b[1;32mIn [47]\u001b[0m, in \u001b[0;36m<module>\u001b[1;34m\u001b[0m\n\u001b[0;32m      1\u001b[0m a \u001b[38;5;241m=\u001b[39m np\u001b[38;5;241m.\u001b[39mrandom\u001b[38;5;241m.\u001b[39mrandom(\u001b[38;5;241m10\u001b[39m)\n\u001b[0;32m      2\u001b[0m a\u001b[38;5;241m.\u001b[39mflags\u001b[38;5;241m.\u001b[39mwriteable \u001b[38;5;241m=\u001b[39m \u001b[38;5;28;01mFalse\u001b[39;00m\n\u001b[1;32m----> 3\u001b[0m a[\u001b[38;5;241m0\u001b[39m] \u001b[38;5;241m=\u001b[39m \u001b[38;5;241m1\u001b[39m\n",
      "\u001b[1;31mValueError\u001b[0m: assignment destination is read-only"
     ]
    }
   ],
   "source": [
    "a = np.random.random(10)\n",
    "a.flags.writeable = False\n",
    "a[0] = 1"
   ]
  },
  {
   "cell_type": "markdown",
   "id": "0ae79ee0",
   "metadata": {},
   "source": [
    "# 44. Consider a random 10x2 matrix representing cartesian coordinates, convert them to polar coordinates"
   ]
  },
  {
   "cell_type": "code",
   "execution_count": 54,
   "id": "868f3e24",
   "metadata": {},
   "outputs": [
    {
     "name": "stdout",
     "output_type": "stream",
     "text": [
      "[0.62007265 0.96700677 0.8426617  0.84642802 0.86652596 1.31963312\n",
      " 0.94779652 0.73488542 1.22269395 1.10174303]\n"
     ]
    }
   ],
   "source": [
    "array = np.random.random((10,2))\n",
    "x,y = array[:,0], array[:,1]\n",
    "r = np.sqrt(x**2 + y**2)\n",
    "print(r)"
   ]
  },
  {
   "cell_type": "markdown",
   "id": "077ed0b9",
   "metadata": {},
   "source": [
    "# 45. Create random vector of size 10 and replace the maximum value by 0"
   ]
  },
  {
   "cell_type": "code",
   "execution_count": 69,
   "id": "4f547ec0",
   "metadata": {},
   "outputs": [
    {
     "name": "stdout",
     "output_type": "stream",
     "text": [
      "[0.07639992 0.13562468 0.82807194 0.8965369  0.59801954 0.34656322\n",
      " 0.04138089 0.30743447 0.25749363 0.52089522]\n",
      "[0.07639992 0.13562468 0.82807194 0.         0.59801954 0.34656322\n",
      " 0.04138089 0.30743447 0.25749363 0.52089522]\n"
     ]
    }
   ],
   "source": [
    "array = np.random.random((10))\n",
    "array[np.argmax(array)] = 0\n",
    "print(array)"
   ]
  },
  {
   "cell_type": "markdown",
   "id": "87bab6ae",
   "metadata": {},
   "source": [
    "# 46. Create a structured array with x and y coordinates covering the [0,1]x[0,1] area"
   ]
  },
  {
   "cell_type": "code",
   "execution_count": 73,
   "id": "09bd02fe",
   "metadata": {},
   "outputs": [
    {
     "name": "stdout",
     "output_type": "stream",
     "text": [
      "[[(0.  , 0.  ) (0.25, 0.  ) (0.5 , 0.  ) (0.75, 0.  ) (1.  , 0.  )]\n",
      " [(0.  , 0.25) (0.25, 0.25) (0.5 , 0.25) (0.75, 0.25) (1.  , 0.25)]\n",
      " [(0.  , 0.5 ) (0.25, 0.5 ) (0.5 , 0.5 ) (0.75, 0.5 ) (1.  , 0.5 )]\n",
      " [(0.  , 0.75) (0.25, 0.75) (0.5 , 0.75) (0.75, 0.75) (1.  , 0.75)]\n",
      " [(0.  , 1.  ) (0.25, 1.  ) (0.5 , 1.  ) (0.75, 1.  ) (1.  , 1.  )]]\n"
     ]
    }
   ],
   "source": [
    "array = np.zeros((5,5), [('x', float),('y',float)])\n",
    "array['x'],array['y'] = np.meshgrid(np.linspace(0,1,5),\n",
    "                                   np.linspace(0,1,5))\n",
    "print(array)"
   ]
  },
  {
   "cell_type": "markdown",
   "id": "b58e30ca",
   "metadata": {},
   "source": [
    "# 47. Given two arrays, X and Y, construct the Cauchy matrix C (Cij =1/(xi - yj))"
   ]
  },
  {
   "cell_type": "code",
   "execution_count": 6,
   "id": "cff5c622",
   "metadata": {},
   "outputs": [
    {
     "name": "stdout",
     "output_type": "stream",
     "text": [
      "[[-1.         -1.         -1.         -1.         -1.        ]\n",
      " [        inf         inf         inf         inf         inf]\n",
      " [ 1.          1.          1.          1.          1.        ]\n",
      " [ 0.5         0.5         0.5         0.5         0.5       ]\n",
      " [ 0.33333333  0.33333333  0.33333333  0.33333333  0.33333333]]\n"
     ]
    },
    {
     "name": "stderr",
     "output_type": "stream",
     "text": [
      "C:\\Users\\User\\AppData\\Local\\Temp\\ipykernel_16404\\1792209794.py:3: RuntimeWarning: divide by zero encountered in divide\n",
      "  c = 1 / np.subtract.outer(x,y)\n"
     ]
    }
   ],
   "source": [
    "x = np.arange((5))\n",
    "y = np.ones((5))\n",
    "c = 1 / np.subtract.outer(x,y)\n",
    "print(c)"
   ]
  },
  {
   "cell_type": "markdown",
   "id": "2608fc88",
   "metadata": {},
   "source": [
    "# 48. Print the minimum and maximum representable value for each numpy scalar type"
   ]
  },
  {
   "cell_type": "code",
   "execution_count": 8,
   "id": "230df5ca",
   "metadata": {},
   "outputs": [
    {
     "name": "stdout",
     "output_type": "stream",
     "text": [
      "-128\n",
      "127\n",
      "-2147483648\n",
      "2147483647\n",
      "-9223372036854775808\n",
      "9223372036854775807\n",
      "-3.4028235e+38\n",
      "3.4028235e+38\n",
      "-1.7976931348623157e+308\n",
      "1.7976931348623157e+308\n"
     ]
    }
   ],
   "source": [
    "for dtype in [np.int8, np.int32, np.int64]:\n",
    "    print(np.iinfo(dtype).min)\n",
    "    print(np.iinfo(dtype).max)\n",
    "for dtype in [np.float32, np.float64]:\n",
    "    print(np.finfo(dtype).min)\n",
    "    print(np.finfo(dtype).max)"
   ]
  },
  {
   "cell_type": "markdown",
   "id": "1a20e989",
   "metadata": {},
   "source": [
    "# 49. How to print all the values of an array? "
   ]
  },
  {
   "cell_type": "code",
   "execution_count": 18,
   "id": "f8620f08",
   "metadata": {},
   "outputs": [
    {
     "name": "stdout",
     "output_type": "stream",
     "text": [
      "[ 0  1  2  3  4  5  6  7  8  9 10 11 12 13 14 15 16 17 18 19 20 21 22 23\n",
      " 24 25 26 27 28 29 30 31 32 33 34 35 36 37 38 39]\n"
     ]
    }
   ],
   "source": [
    "np.set_printoptions(threshold=float(\"inf\"))\n",
    "Z = np.arange((40))\n",
    "print(Z)"
   ]
  },
  {
   "cell_type": "markdown",
   "id": "a7a22adb",
   "metadata": {},
   "source": [
    "# 50. How to find the closest value (to a given scalar) in a vector?"
   ]
  },
  {
   "cell_type": "code",
   "execution_count": 26,
   "id": "6c770570",
   "metadata": {},
   "outputs": [
    {
     "name": "stdout",
     "output_type": "stream",
     "text": [
      "93\n"
     ]
    }
   ],
   "source": [
    "x = np.arange(100)\n",
    "a = np.random.uniform(0,100)\n",
    "index = (np.abs(x-a)).argmin()\n",
    "print(index)"
   ]
  },
  {
   "cell_type": "markdown",
   "id": "c89a3c1f",
   "metadata": {},
   "source": [
    "# 51. Create a structured array representing a position (x,y) and a color (r,g,b)"
   ]
  },
  {
   "cell_type": "code",
   "execution_count": 35,
   "id": "a1ece0fb",
   "metadata": {},
   "outputs": [
    {
     "name": "stdout",
     "output_type": "stream",
     "text": [
      "[('R', 1.7,  6.) ('G', 3.9,  5.) ('G', 8.3, 27.)]\n"
     ]
    }
   ],
   "source": [
    "x = np.array([('R', 1.7, 6.0), ('G', 3.9, 5.0), ('G', 8.3, 27.0)],\n",
    "             dtype=[('color', 'U10'), ('x', 'f4'), ('y', 'f4')])\n",
    "print(x)"
   ]
  },
  {
   "cell_type": "markdown",
   "id": "a16a7401",
   "metadata": {},
   "source": [
    "# 52. Consider a random vector with shape (100,2) representing coordinates, find point by point distances"
   ]
  },
  {
   "cell_type": "code",
   "execution_count": 41,
   "id": "f6e7be03",
   "metadata": {
    "scrolled": true
   },
   "outputs": [
    {
     "name": "stdout",
     "output_type": "stream",
     "text": [
      "[[0.         0.12752883 0.56698997 0.67119281 0.5688444  0.66858822\n",
      "  0.56704091 0.2349924  0.37930464 0.38732604 0.1404602  0.30796353\n",
      "  0.56590086 0.26694337 0.52785774 0.30025537 0.31172596 0.86584712\n",
      "  0.19157461 0.43393629 0.79779053 0.48963496 0.41931663 0.10448921\n",
      "  0.82917864 0.25246092 0.20401395 0.66299757 0.52902938 0.56850538\n",
      "  0.31625824 0.84463174 0.18983246 0.58740459 0.30720639 0.42213003\n",
      "  0.39939456 0.07785479 0.61730278 0.66785159 0.615083   0.17267023\n",
      "  0.70069449 0.75411807 0.45852731 0.61024169 0.12691991 0.05050395\n",
      "  0.23510628 0.61690656 0.24147896 0.5294604  0.31483292 0.35725211\n",
      "  0.72571714 0.82813655 0.8046345  0.49797391 0.32016665 0.36455458\n",
      "  0.24339201 0.65225036 0.10860839 0.09834183 0.58957358 0.65628372\n",
      "  0.17892652 0.70358443 0.52495082 0.36741108 0.56203233 0.1537614\n",
      "  0.44990502 0.6458774  0.38992346 0.74128748 0.58380994 0.1811619\n",
      "  0.23397941 0.73665785 0.63483677 0.60880105 0.57805228 0.60885204\n",
      "  0.70972494 0.85092745 0.74630483 0.30531649 0.30058706 0.25963322\n",
      "  0.43073186 0.66487799 0.59664675 0.50918505 0.50385822 0.30884407\n",
      "  0.47561613 0.32266241 0.38523275 0.55560674]\n",
      " [0.12752883 0.         0.62759777 0.55541143 0.45676151 0.66066843\n",
      "  0.56709505 0.15497573 0.33694325 0.3672958  0.26787113 0.27740105\n",
      "  0.46850363 0.30215057 0.40650167 0.41070582 0.25738571 0.7901002\n",
      "  0.25768612 0.38526164 0.69838491 0.39657509 0.29242286 0.22653143\n",
      "  0.76609187 0.35945351 0.30312374 0.62185379 0.42474803 0.59588552\n",
      "  0.41811428 0.76723825 0.30063797 0.4786831  0.25329081 0.45304342\n",
      "  0.31191666 0.16516679 0.5076149  0.6210977  0.64955873 0.28762603\n",
      "  0.57504667 0.63758489 0.41484702 0.58132545 0.21153096 0.16033076\n",
      "  0.28348914 0.64374968 0.31454149 0.5436442  0.28177072 0.39297754\n",
      "  0.60304955 0.73367612 0.69654375 0.39470704 0.40650739 0.23985058\n",
      "  0.36346181 0.56095741 0.21785401 0.2217185  0.46282192 0.52896592\n",
      "  0.24513601 0.60524407 0.56973463 0.26086593 0.58876884 0.10288226\n",
      "  0.338118   0.52083735 0.48804118 0.63474977 0.49502067 0.12314188\n",
      "  0.35325056 0.62756351 0.51397417 0.48132295 0.46654625 0.5009726\n",
      "  0.58220756 0.76781474 0.63867727 0.42543367 0.28574254 0.2532421\n",
      "  0.32439031 0.56782523 0.46924166 0.57606517 0.45070532 0.24877186\n",
      "  0.37590806 0.26132634 0.26246302 0.52598972]\n",
      " [0.56698997 0.62759777 0.         1.14559494 0.78604096 0.35311714\n",
      "  0.28656203 0.55558831 0.44543923 0.37661629 0.52035764 0.43062947\n",
      "  0.70527556 0.32815199 0.98616868 0.69776333 0.48775589 0.78846357\n",
      "  0.72627326 0.46458653 0.86876014 0.64675709 0.80297983 0.49439615\n",
      "  0.69904292 0.68590556 0.68251407 0.49801246 0.71886776 0.16449753\n",
      "  0.30507756 0.78161991 0.4114347  0.77817318 0.48746773 0.20523207\n",
      "  0.5919307  0.49010049 1.1142172  0.52539256 0.14023188 0.43356675\n",
      "  1.00183229 0.950782   0.44885655 0.42247009 0.66241923 0.51724629\n",
      "  0.34423176 0.1762133  0.32552438 0.22429377 0.88138127 0.24510419\n",
      "  1.16039617 0.86227895 0.92858674 1.01366389 0.78668919 0.74021136\n",
      "  0.62249583 0.72521896 0.61709481 0.57435964 0.99374673 1.0373535\n",
      "  0.39049906 0.79583821 0.09264794 0.65069901 0.167287   0.5375993\n",
      "  0.71304279 1.06659237 0.80178516 0.87095684 0.67371238 0.73579958\n",
      "  0.62405239 0.88403313 0.89545695 0.98791656 1.07126911 1.11090233\n",
      "  1.06234782 0.81625873 0.88160181 0.4061634  0.39738539 0.4041844\n",
      "  0.94251222 0.76320047 0.95684552 0.06371233 0.49158328 0.86772697\n",
      "  0.99828396 0.50437725 0.85146208 0.40945645]\n",
      " [0.67119281 0.55541143 1.14559494 0.         0.50961397 1.05111012\n",
      "  0.9906415  0.59001515 0.73320014 0.79728316 0.8053055  0.72178865\n",
      "  0.6089342  0.82245374 0.15960575 0.86845823 0.66809729 0.92213399\n",
      "  0.67704557 0.74625045 0.72311577 0.60259962 0.35432589 0.77558156\n",
      "  0.96049879 0.81878009 0.76064143 0.92905119 0.55351081 1.067125\n",
      "  0.9729598  0.89682529 0.85545763 0.54208492 0.66720687 0.94657676\n",
      "  0.59857814 0.72057696 0.07871394 0.91065158 1.12765575 0.84120525\n",
      "  0.37130075 0.54297427 0.77688166 0.93335445 0.68325331 0.71302744\n",
      "  0.81710557 1.10911376 0.86068773 0.99826255 0.48016138 0.90049733\n",
      "  0.11122191 0.77890594 0.65740038 0.19541292 0.80283233 0.41123264\n",
      "  0.85676268 0.68793207 0.71906556 0.74443576 0.20100468 0.22455333\n",
      "  0.79271025 0.6724174  1.07042351 0.5167836  1.05968318 0.61942211\n",
      "  0.49073265 0.14252643 0.89481388 0.63250682 0.66536687 0.50531862\n",
      "  0.84559966 0.60801267 0.43804095 0.24074613 0.10021597 0.09540346\n",
      "  0.27894097 0.86818073 0.62621789 0.97648198 0.75147018 0.74141059\n",
      "  0.24714713 0.65927646 0.28008216 1.10384537 0.77345405 0.4257872\n",
      "  0.22402768 0.65493215 0.29811839 0.8895622 ]\n",
      " [0.5688444  0.45676151 0.78604096 0.50961397 0.         0.58478904\n",
      "  0.55336996 0.34302466 0.34363921 0.4107663  0.69536482 0.38212158\n",
      "  0.10464928 0.52978436 0.3850197  0.86589599 0.32954489 0.42339312\n",
      "  0.70986491 0.32229407 0.26038102 0.13956422 0.2291826  0.64058497\n",
      "  0.45175431 0.81539844 0.75982533 0.43652216 0.06744451 0.65985278\n",
      "  0.7443862  0.39768051 0.67553047 0.03409216 0.33224409 0.58430766\n",
      "  0.20707372 0.55949529 0.52883577 0.41381609 0.71983158 0.67436438\n",
      "  0.22268949 0.18917131 0.34247933 0.45967288 0.66823806 0.57725441\n",
      "  0.54916242 0.69098116 0.6103278  0.58539148 0.64354653 0.56697474\n",
      "  0.463571   0.30790249 0.24117988 0.50981729 0.86103515 0.23834118\n",
      "  0.81221001 0.17923855 0.67177268 0.66706635 0.30888429 0.31045087\n",
      "  0.5651142  0.1802084  0.69585979 0.20215182 0.65309715 0.42352297\n",
      "  0.11909085 0.37677915 0.94457011 0.18248235 0.16044169 0.52848128\n",
      "  0.80281895 0.17180635 0.111566   0.27463793 0.49432907 0.53703238\n",
      "  0.30482651 0.37714121 0.18454024 0.8041223  0.41862833 0.43787488\n",
      "  0.46827874 0.15605155 0.23415298 0.76635977 0.31375585 0.5783241\n",
      "  0.51873948 0.31033766 0.35681513 0.42880597]\n",
      " [0.66858822 0.66066843 0.35311714 1.05111012 0.58478904 0.\n",
      "  0.1053399  0.52312568 0.33697031 0.2935689  0.69655155 0.38404425\n",
      "  0.48304874 0.4115825  0.89816294 0.90515867 0.41713967 0.45052421\n",
      "  0.85907626 0.30856484 0.5753103  0.45770845 0.69926354 0.64752008\n",
      "  0.35463567 0.87539578 0.84887615 0.17492935 0.52183027 0.19153994\n",
      "  0.55488229 0.44835064 0.59967236 0.5638292  0.42013033 0.28186193\n",
      "  0.45349973 0.59799032 1.04379384 0.20511651 0.21912868 0.61690634\n",
      "  0.80569257 0.70499907 0.27650017 0.12549432 0.79258488 0.63157824\n",
      "  0.44995994 0.18025079 0.4821829  0.1652583  0.94241941 0.3386867\n",
      "  1.03191626 0.55443531 0.6506164  0.97363981 0.96718092 0.65021851\n",
      "  0.82757598 0.45998055 0.75971102 0.72447755 0.8645092  0.88587482\n",
      "  0.51041498 0.52442953 0.27821439 0.53873831 0.19090051 0.55826208\n",
      "  0.56245061 0.93869942 1.0114318  0.60426209 0.43336885 0.78380481\n",
      "  0.82463933 0.62388981 0.69406754 0.84258809 1.00201324 1.04590684\n",
      "  0.88896606 0.48860102 0.61590664 0.66296557 0.37615235 0.41319289\n",
      "  0.90788913 0.50194995 0.80434899 0.38309727 0.27911218 0.90420177\n",
      "  0.96772215 0.4222685  0.79372502 0.16167196]\n",
      " [0.56704091 0.56709505 0.28656203 0.9906415  0.55336996 0.1053399\n",
      "  0.         0.43751544 0.26001198 0.20502762 0.59133891 0.29467263\n",
      "  0.45837464 0.30709205 0.83419834 0.7998237  0.33536667 0.50221274\n",
      "  0.7566365  0.24581398 0.5912929  0.41739364 0.63635457 0.54270779\n",
      "  0.41490022 0.77025571 0.74440789 0.21163107 0.4870123  0.12476717\n",
      "  0.45331665 0.49506501 0.49440171 0.53760145 0.33771719 0.17827818\n",
      "  0.3937457  0.4950783  0.97688039 0.23883155 0.1758383  0.51157267\n",
      "  0.77599675 0.69580178 0.21743954 0.13599825 0.68991212 0.52861561\n",
      "  0.34517044 0.1414093  0.37688134 0.06848592 0.84846909 0.23348005\n",
      "  0.98118044 0.58007829 0.65786804 0.89867272 0.86247385 0.58233331\n",
      "  0.72223614 0.45718218 0.65601794 0.62019306 0.81207873 0.840927\n",
      "  0.40579214 0.52634471 0.1995476  0.47390006 0.12047    0.46421831\n",
      "  0.51096127 0.88678878 0.90611781 0.60463544 0.41624356 0.68999776\n",
      "  0.71930813 0.62097384 0.664845   0.79502024 0.93437598 0.97764723\n",
      "  0.85169133 0.52994554 0.61587957 0.56050937 0.28137684 0.3156717\n",
      "  0.83093335 0.49771956 0.75862836 0.30297716 0.23977659 0.813601\n",
      "  0.89057641 0.34375012 0.72046288 0.13238538]\n",
      " [0.2349924  0.15497573 0.55558831 0.59001515 0.34302466 0.52312568\n",
      "  0.43751544 0.         0.18894297 0.232509   0.35319458 0.14366685\n",
      "  0.33110523 0.23558789 0.43065865 0.53516569 0.10741045 0.6384017\n",
      "  0.40544589 0.23298908 0.56296408 0.25464368 0.25593244 0.29772905\n",
      "  0.61145303 0.48733413 0.43678073 0.46933822 0.29689678 0.48889919\n",
      "  0.42216563 0.61612156 0.33644317 0.35778522 0.10390265 0.35866255\n",
      "  0.16474005 0.21651676 0.560615   0.46728294 0.54739115 0.33323517\n",
      "  0.50732152 0.53173192 0.26380584 0.4336415  0.3507731  0.2357654\n",
      "  0.2380081  0.53434633 0.29230051 0.42673086 0.42729961 0.31048552\n",
      "  0.6100697  0.59326007 0.57292553 0.46831903 0.54872226 0.19145162\n",
      "  0.47512783 0.41763404 0.34289274 0.33082392 0.44826772 0.50169953\n",
      "  0.23426729 0.46871586 0.48222674 0.14242196 0.48147349 0.08229779\n",
      "  0.227267   0.51813502 0.62358218 0.50892906 0.34957622 0.27174225\n",
      "  0.46643109 0.50600158 0.42380703 0.45134287 0.51753334 0.55841538\n",
      "  0.54065905 0.61937189 0.51457307 0.4670292  0.16608651 0.15141815\n",
      "  0.39846837 0.42992977 0.42733253 0.51479607 0.29654207 0.38300504\n",
      "  0.45728609 0.10787491 0.29750399 0.37887785]\n",
      " [0.37930464 0.33694325 0.44543923 0.73320014 0.34363921 0.33697031\n",
      "  0.26001198 0.18894297 0.         0.0691376  0.45749121 0.07358756\n",
      "  0.27604501 0.20820457 0.57558597 0.66291338 0.08153997 0.49904218\n",
      "  0.56768949 0.05591152 0.48326028 0.2069618  0.37920167 0.39988586\n",
      "  0.45227739 0.6215828  0.58041325 0.28662038 0.27763454 0.33721291\n",
      "  0.42791258 0.48034993 0.39565528 0.34007997 0.08508309 0.24148465\n",
      "  0.14723133 0.32697656 0.71718286 0.28913731 0.39840151 0.40317384\n",
      "  0.55648423 0.51939803 0.0796055  0.24507284 0.5056449  0.35767592\n",
      "  0.23917139 0.37694325 0.29941107 0.26596966 0.61524517 0.2251649\n",
      "  0.73069774 0.49738427 0.52122917 0.63936446 0.69855318 0.32306937\n",
      "  0.59217026 0.32755735 0.48476982 0.45990742 0.56153143 0.59798655\n",
      "  0.27914092 0.39435484 0.35778936 0.21742379 0.32988235 0.24004337\n",
      "  0.26900736 0.63599268 0.76189105 0.45794559 0.26183322 0.45812057\n",
      "  0.58576036 0.46495361 0.4511724  0.5497694  0.67458106 0.71774474\n",
      "  0.61847381 0.4950295  0.46697544 0.5091225  0.09756587 0.13553097\n",
      "  0.57236149 0.35613953 0.51622888 0.42286948 0.12615335 0.57194604\n",
      "  0.63214468 0.08531448 0.46061437 0.19006705]\n",
      " [0.38732604 0.3672958  0.37661629 0.79728316 0.4107663  0.2935689\n",
      "  0.20502762 0.232509   0.0691376  0.         0.44511316 0.09059611\n",
      "  0.33765754 0.17070806 0.63879691 0.65471589 0.1318625  0.52459174\n",
      "  0.578773   0.09730329 0.53324831 0.27255635 0.44429594 0.38944745\n",
      "  0.46607858 0.61712191 0.58128059 0.28009628 0.34412959 0.27042068\n",
      "  0.38298798 0.5082841  0.36971458 0.40543584 0.13377905 0.17354139\n",
      "  0.21635057 0.32478432 0.77830399 0.28974745 0.33140605 0.38061025\n",
      "  0.6252163  0.58294048 0.09821541 0.22295571 0.51401865 0.35760215\n",
      "  0.2073635  0.31184393 0.26253174 0.20111526 0.64896363 0.16481348\n",
      "  0.7978691  0.54197717 0.57768061 0.69554419 0.70052267 0.3861412\n",
      "  0.58076924 0.3788421  0.4873162  0.45758515 0.62891762 0.66659706\n",
      "  0.25784504 0.44788739 0.28865848 0.28386448 0.26302107 0.26527927\n",
      "  0.33809721 0.70319997 0.75714529 0.51559261 0.31676289 0.49039023\n",
      "  0.57547281 0.52447925 0.51923849 0.61816201 0.73545446 0.7781196\n",
      "  0.68759605 0.5283063  0.52517013 0.47270492 0.08678723 0.12791336\n",
      "  0.62711789 0.41092557 0.58497619 0.35581138 0.15309024 0.61095415\n",
      "  0.68660023 0.14276624 0.51879087 0.1686657 ]\n",
      " [0.1404602  0.26787113 0.52035764 0.8053055  0.69536482 0.69655155\n",
      "  0.59133891 0.35319458 0.45749121 0.44511316 0.         0.38405281\n",
      "  0.68051237 0.28704589 0.66579554 0.21057741 0.40571052 0.95610396\n",
      "  0.21148807 0.51333664 0.91094126 0.60251618 0.55870613 0.05807532\n",
      "  0.90789569 0.17911003 0.16292984 0.72471183 0.64984537 0.56243347\n",
      "  0.22751087 0.93676037 0.10926887 0.71096834 0.40135638 0.42314853\n",
      "  0.51116845 0.13814953 0.74772229 0.73480825 0.59824864 0.08747681\n",
      "  0.83845597 0.88313078 0.53200812 0.66201719 0.15553086 0.1182838\n",
      "  0.24783192 0.60889678 0.2180806  0.54071718 0.40386894 0.36035233\n",
      "  0.86400185 0.93643104 0.92565135 0.62551066 0.27481834 0.5023417\n",
      "  0.13566556 0.76012476 0.10717773 0.06697361 0.72995008 0.79674044\n",
      "  0.18940281 0.81684643 0.50079501 0.4933353  0.55707964 0.27185746\n",
      "  0.57771632 0.78553443 0.31554022 0.86140499 0.69090379 0.30313861\n",
      "  0.13054849 0.85909305 0.76827612 0.74919405 0.70993902 0.73813844\n",
      "  0.84988525 0.9483678  0.86735252 0.17974236 0.36440763 0.32324397\n",
      "  0.56111753 0.77754556 0.73655606 0.45763302 0.58317871 0.41691266\n",
      "  0.60128672 0.42063913 0.52428374 0.61058839]\n",
      " [0.30796353 0.27740105 0.43062947 0.72178865 0.38212158 0.38404425\n",
      "  0.29467263 0.14366685 0.07358756 0.09059611 0.38405281 0.\n",
      "  0.32931704 0.14908864 0.5623467  0.58935331 0.05754379 0.57218112\n",
      "  0.49780798 0.12949834 0.54688971 0.25419624 0.37336817 0.32637445\n",
      "  0.52570985 0.54823863 0.50776564 0.35527085 0.31985756 0.34777604\n",
      "  0.36828631 0.55317792 0.32533801 0.38429198 0.05690126 0.22673353\n",
      "  0.17529836 0.25355321 0.69812898 0.35996218 0.40734661 0.33171327\n",
      "  0.58325731 0.565728   0.15110808 0.30656435 0.43473417 0.28453906\n",
      "  0.17436508 0.39222622 0.23604373 0.28357618 0.55881774 0.19160955\n",
      "  0.73047316 0.56448551 0.57852811 0.61050998 0.6262296  0.31181657\n",
      "  0.51861324 0.39150063 0.4123194  0.38665642 0.56323456 0.60730211\n",
      "  0.20832763 0.45568326 0.34999584 0.22069957 0.34031989 0.17623748\n",
      "  0.28963574 0.63637321 0.68858075 0.51428913 0.32366891 0.40034965\n",
      "  0.51217829 0.51872943 0.48369509 0.55763352 0.6550856  0.69699896\n",
      "  0.63538607 0.56669581 0.52254779 0.44284474 0.03666699 0.06432821\n",
      "  0.54121125 0.41668184 0.52748106 0.39844586 0.19970602 0.52035828\n",
      "  0.60033189 0.07548392 0.43627501 0.25121198]\n",
      " [0.56590086 0.46850363 0.70527556 0.6089342  0.10464928 0.48304874\n",
      "  0.45837464 0.33110523 0.27604501 0.33765754 0.68051237 0.32931704\n",
      "  0.         0.47796909 0.47615706 0.86615467 0.28532623 0.34658234\n",
      "  0.72618011 0.24244788 0.23188974 0.07828116 0.29923946 0.62339081\n",
      "  0.35965658 0.81786353 0.76584233 0.33193644 0.05949359 0.57016919\n",
      "  0.69760306 0.32130959 0.64466865 0.08078134 0.28900223 0.50886008\n",
      "  0.16941173 0.54237584 0.62275893 0.30918584 0.62893173 0.6468817\n",
      "  0.3226595  0.24595864 0.25650251 0.35759818 0.67718609 0.56507711\n",
      "  0.50316751 0.59817078 0.56499643 0.4959653  0.6902172  0.50063774\n",
      "  0.56735138 0.26521195 0.24993061 0.59149415 0.87429505 0.28727629\n",
      "  0.80581689 0.09807611 0.67320349 0.66187454 0.40942312 0.41478394\n",
      "  0.52936763 0.13771694 0.61349886 0.20953872 0.56372083 0.4132097\n",
      "  0.15249473 0.47920154 0.95263769 0.1853674  0.05660547 0.55907433\n",
      "  0.79729037 0.18960792 0.21111186 0.37759883 0.58614607 0.62971726\n",
      "  0.40877827 0.31033984 0.19331024 0.76852227 0.36394065 0.39111397\n",
      "  0.54269065 0.09944496 0.33729026 0.69142665 0.21948536 0.62870842\n",
      "  0.59702387 0.26729287 0.42547766 0.33025367]\n",
      " [0.26694337 0.30215057 0.32815199 0.82245374 0.52978436 0.4115825\n",
      "  0.30709205 0.23558789 0.20820457 0.17070806 0.28704589 0.14908864\n",
      "  0.47796909 0.         0.66389397 0.49737611 0.20041721 0.69524305\n",
      "  0.45231114 0.25829607 0.69134996 0.40327266 0.49075895 0.23612124\n",
      "  0.63562147 0.46485776 0.4373405  0.44305656 0.46854379 0.302254\n",
      "  0.22021916 0.67869511 0.20096816 0.533084   0.19797225 0.15591856\n",
      "  0.32273685 0.19119754 0.78770644 0.45618084 0.35149822 0.21397262\n",
      "  0.72444153 0.71456636 0.26731657 0.37681882 0.38529484 0.22419903\n",
      "  0.03934456 0.35071327 0.09229163 0.26358837 0.56971995 0.09221921\n",
      "  0.84564743 0.70521691 0.7265266  0.68556019 0.55561191 0.4264124\n",
      "  0.4209778  0.53561981 0.34947033 0.31311185 0.68330473 0.7344499\n",
      "  0.09886626 0.60171039 0.26777685 0.35466798 0.29562441 0.20945127\n",
      "  0.43130294 0.75365236 0.60257049 0.66252299 0.46918143 0.41664225\n",
      "  0.4169547  0.66752276 0.62862507 0.68413451 0.74491607 0.78386358\n",
      "  0.76900683 0.69757177 0.67098979 0.3029119  0.11405707 0.09325276\n",
      "  0.61439847 0.56310376 0.6576175  0.28180742 0.32203277 0.54776069\n",
      "  0.67015647 0.21962919 0.52590659 0.32728527]\n",
      " [0.52785774 0.40650167 0.98616868 0.15960575 0.3850197  0.89816294\n",
      "  0.83419834 0.43065865 0.57558597 0.63879691 0.66579554 0.5623467\n",
      "  0.47615706 0.66389397 0.         0.75314732 0.50900193 0.80774672\n",
      "  0.56258208 0.59123552 0.62472136 0.45838317 0.19890484 0.63115886\n",
      "  0.83472471 0.70155759 0.64174545 0.78408664 0.4178749  0.90822632\n",
      "  0.82090406 0.78206158 0.70697936 0.41897359 0.50801928 0.78697264\n",
      "  0.4446657  0.57087143 0.14811235 0.76770016 0.96862149 0.69410002\n",
      "  0.31103416 0.4648943  0.62246039 0.78293727 0.55740135 0.56638618\n",
      "  0.65973567 0.95061555 0.70508389 0.83989566 0.39272848 0.74109471\n",
      "  0.19828548 0.67846726 0.57215813 0.14350782 0.70107861 0.25271347\n",
      "  0.73146942 0.56354764 0.58796919 0.60853036 0.11540717 0.18268542\n",
      "  0.63789013 0.56014721 0.91082002 0.36064495 0.90077756 0.46308771\n",
      "  0.34398766 0.13049915 0.79390693 0.53486875 0.53123265 0.37583634\n",
      "  0.72032549 0.51312275 0.33940038 0.16179801 0.10999064 0.1537558\n",
      "  0.25158592 0.75875622 0.53088922 0.83143437 0.59187616 0.5819997\n",
      "  0.14429343 0.5404932  0.18741646 0.94494187 0.6227009  0.32796271\n",
      "  0.16408813 0.49619811 0.14425077 0.73716928]\n",
      " [0.30025537 0.41070582 0.69776333 0.86845823 0.86589599 0.90515867\n",
      "  0.7998237  0.53516569 0.66291338 0.65471589 0.21057741 0.58935331\n",
      "  0.86615467 0.49737611 0.75314732 0.         0.60446257 1.15900073\n",
      "  0.19165497 0.71879749 1.09804439 0.78975935 0.69439946 0.26527093\n",
      "  1.11492767 0.05257104 0.11267099 0.93466603 0.82865075 0.76228369\n",
      "  0.39268926 1.13874589 0.30705079 0.88595147 0.59998033 0.62812763\n",
      "  0.69923347 0.336289   0.79928785 0.94407838 0.79241817 0.28860181\n",
      "  0.97829426 1.04825229 0.73923515 0.87255693 0.20388777 0.30729594\n",
      "  0.45808224 0.80711341 0.42353555 0.74672361 0.39969422 0.56717119\n",
      "  0.94695247 1.12797017 1.10366919 0.67460026 0.10793131 0.64813338\n",
      "  0.07807812 0.95183878 0.19418199 0.20586458 0.83909827 0.91049436\n",
      "  0.39997986 1.00383167 0.69353122 0.66596846 0.757478   0.45345866\n",
      "  0.74682625 0.8819482  0.10688068 1.0407026  0.88312417 0.38063927\n",
      "  0.08055851 1.03528064 0.9239957  0.86751973 0.76839448 0.78636791\n",
      "  0.9712629  1.14754631 1.0454264  0.29789998 0.57242235 0.53075929\n",
      "  0.62346027 0.96509324 0.86334366 0.63407007 0.78905781 0.44393233\n",
      "  0.64672114 0.61750345 0.62598199 0.8209362 ]\n",
      " [0.31172596 0.25738571 0.48775589 0.66809729 0.32954489 0.41713967\n",
      "  0.33536667 0.10741045 0.08153997 0.1318625  0.40571052 0.05754379\n",
      "  0.28532623 0.20041721 0.50900193 0.60446257 0.         0.55503208\n",
      "  0.4957705  0.12799338 0.50989465 0.20793163 0.31759843 0.34766057\n",
      "  0.51807004 0.56036137 0.51537802 0.36448081 0.26953819 0.39928726\n",
      "  0.41585242 0.53441285 0.36005315 0.3341754  0.00452086 0.28333205\n",
      "  0.12276712 0.26943242 0.64704865 0.36440544 0.45961962 0.36347861\n",
      "  0.52679016 0.5155132  0.1575581  0.32634275 0.43598296 0.29717419\n",
      "  0.22038842 0.44231103 0.28202944 0.33215944 0.5341361  0.24907122\n",
      "  0.67417978 0.53196667 0.535229   0.56381178 0.63182183 0.25711417\n",
      "  0.53729655 0.35633761 0.41954009 0.39897035 0.50650164 0.54987481\n",
      "  0.24414464 0.41690576 0.40605041 0.16320442 0.39183392 0.16444102\n",
      "  0.23301653 0.5799059  0.69986185 0.47060625 0.28726644 0.37750732\n",
      "  0.52994663 0.47312886 0.42867678 0.50026958 0.60412473 0.64660052\n",
      "  0.57789497 0.54351296 0.47822063 0.48321207 0.09327798 0.10843481\n",
      "  0.49565999 0.37752505 0.46995742 0.45598913 0.19519795 0.49040805\n",
      "  0.55525299 0.01921664 0.38696002 0.27149373]\n",
      " [0.86584712 0.7901002  0.78846357 0.92213399 0.42339312 0.45052421\n",
      "  0.50221274 0.6384017  0.49904218 0.52459174 0.95610396 0.57218112\n",
      "  0.34658234 0.69524305 0.80774672 1.15900073 0.55503208 0.\n",
      "  1.0438278  0.44352148 0.21732521 0.40135918 0.64411371 0.89826612\n",
      "  0.10084644 1.11538149 1.06984143 0.29058449 0.40508167 0.6246614\n",
      "  0.90315669 0.02571335 0.89214406 0.38930395 0.55954136 0.64577413\n",
      "  0.47866917 0.82292117 0.94922864 0.26426516 0.66529466 0.90110477\n",
      "  0.57208479 0.40887282 0.42871909 0.36719461 0.9876644  0.85181587\n",
      "  0.73112551 0.62654366 0.78710593 0.5676656  1.03240586 0.6722317\n",
      "  0.85770979 0.16568639 0.30376472 0.93249227 1.18504348 0.63346665\n",
      "  1.09008229 0.24963401 0.97415226 0.95387429 0.72237325 0.7051112\n",
      "  0.77692345 0.24977908 0.70136166 0.54561755 0.62134754 0.71412412\n",
      "  0.49895277 0.78224239 1.25485588 0.29932147 0.30282652 0.89339344\n",
      "  1.08326289 0.32560036 0.48483534 0.68145878 0.91636017 0.95836179\n",
      "  0.67338646 0.06320073 0.30847043 0.99694537 0.59480331 0.63440811\n",
      "  0.8873538  0.26739485 0.64210713 0.80303958 0.37496154 0.97278687\n",
      "  0.94010508 0.54321793 0.77135214 0.39267753]\n",
      " [0.19157461 0.25768612 0.72627326 0.67704557 0.70986491 0.85907626\n",
      "  0.7566365  0.40544589 0.56768949 0.578773   0.21148807 0.49780798\n",
      "  0.72618011 0.45231114 0.56258208 0.19165497 0.4957705  1.0438278\n",
      "  0.         0.62125403 0.95568539 0.65397148 0.51904951 0.23232246\n",
      "  1.01344714 0.14185442 0.08592501 0.85306381 0.68161366 0.74943473\n",
      "  0.43896899 1.02155996 0.31652459 0.73365207 0.49130723 0.60428137\n",
      "  0.56782949 0.26170152 0.60864095 0.85681761 0.79173873 0.29435548\n",
      "  0.80038797 0.88476078 0.64725729 0.80160904 0.06703461 0.2283029\n",
      "  0.41712442 0.79739849 0.40822813 0.71588715 0.21682096 0.53916221\n",
      "  0.75551463 0.99136139 0.95083642 0.48372852 0.15176155 0.47982708\n",
      "  0.18902961 0.81839474 0.10919663 0.15196296 0.65185468 0.72387044\n",
      "  0.35707245 0.86277446 0.69730999 0.51801132 0.74334734 0.33177121\n",
      "  0.59258896 0.69199111 0.24014129 0.89005445 0.75197213 0.19548761\n",
      "  0.17848524 0.88154993 0.75557777 0.68252811 0.57707347 0.59606049\n",
      "  0.78635919 1.02396891 0.89343764 0.38065488 0.49199667 0.45118363\n",
      "  0.4318053  0.82547457 0.68124379 0.66462134 0.69039174 0.25386259\n",
      "  0.4560961  0.5043393  0.43934077 0.7468405 ]\n",
      " [0.43393629 0.38526164 0.46458653 0.74625045 0.32229407 0.30856484\n",
      "  0.24581398 0.23298908 0.05591152 0.09730329 0.51333664 0.12949834\n",
      "  0.24244788 0.25829607 0.59123552 0.71879749 0.12799338 0.44352148\n",
      "  0.62125403 0.         0.43678597 0.18273036 0.39253629 0.45576857\n",
      "  0.39655411 0.67731675 0.63570204 0.23664073 0.25488876 0.34016586\n",
      "  0.47602202 0.42512555 0.44987073 0.31359561 0.13220006 0.26641284\n",
      "  0.14808363 0.3827852  0.73590723 0.23659841 0.40098899 0.45799157\n",
      "  0.54159616 0.48836109 0.03260975 0.20406696 0.55989797 0.41331828\n",
      "  0.29133974 0.37507499 0.35038532 0.26614067 0.66016257 0.26211551\n",
      "  0.7354262  0.44758145 0.48039566 0.66557498 0.75360492 0.34176643\n",
      "  0.64807142 0.28189583 0.53996646 0.51559632 0.56628089 0.59652486\n",
      "  0.33382191 0.35066944 0.3737806  0.23077763 0.33316617 0.29148563\n",
      "  0.26579461 0.64099469 0.81759468 0.41844529 0.21947455 0.50457255\n",
      "  0.64167135 0.42775643 0.43287078 0.54995507 0.69390669 0.73768543\n",
      "  0.61087933 0.44089831 0.42811117 0.56083974 0.15163925 0.19089002\n",
      "  0.60067371 0.31362396 0.5142149  0.44899265 0.07034602 0.61390475\n",
      "  0.66046459 0.12516334 0.48545818 0.15151899]\n",
      " [0.79779053 0.69838491 0.86876014 0.72311577 0.26038102 0.5753103\n",
      "  0.5912929  0.56296408 0.48326028 0.53324831 0.91094126 0.54688971\n",
      "  0.23188974 0.69134996 0.62472136 1.09804439 0.50989465 0.21732521\n",
      "  0.95568539 0.43678597 0.         0.30887865 0.48897304 0.85347786\n",
      "  0.2928313  1.04970023 0.99738394 0.40043983 0.27438377 0.71489945\n",
      "  0.91116033 0.19569305 0.86960261 0.22973019 0.51392082 0.69078363\n",
      "  0.4001332  0.77282681 0.75852698 0.37031326 0.7667153  0.873372\n",
      "  0.36117395 0.19280072 0.43782171 0.46133556 0.90822021 0.79632459\n",
      "  0.72066739 0.73055479 0.78181496 0.64582533 0.90325178 0.69726413\n",
      "  0.65018065 0.0561661  0.08787849 0.75922173 1.10479251 0.4968068\n",
      "  1.03738495 0.15573163 0.90502498 0.8936643  0.52793223 0.50087503\n",
      "  0.75300256 0.09428275 0.77646515 0.43767445 0.70976677 0.64500037\n",
      "  0.36715359 0.58102661 1.18408747 0.09076975 0.22332972 0.78237984\n",
      "  1.02894868 0.1152117  0.28739486 0.48370464 0.7295265  0.76934782\n",
      "  0.46259097 0.15535209 0.0970373  0.98972829 0.57860013 0.61081672\n",
      "  0.72388095 0.13342091 0.44650452 0.86772364 0.38596304 0.83846706\n",
      "  0.77110866 0.49304685 0.61585358 0.4608669 ]\n",
      " [0.48963496 0.39657509 0.64675709 0.60259962 0.13956422 0.45770845\n",
      "  0.41739364 0.25464368 0.2069618  0.27255635 0.60251618 0.25419624\n",
      "  0.07828116 0.40327266 0.45838317 0.78975935 0.20793163 0.40135918\n",
      "  0.65397148 0.18273036 0.30887865 0.         0.26670245 0.54529409\n",
      "  0.39759793 0.74194876 0.69077949 0.3265773  0.07217195 0.52099121\n",
      "  0.62206732 0.37711206 0.5666426  0.1331301  0.21148236 0.44591508\n",
      "  0.09135661 0.46436695 0.60649552 0.3093458  0.58125722 0.56867716\n",
      "  0.3600861  0.31305163 0.20357779 0.33500829 0.6031056  0.48746994\n",
      "  0.42704766 0.55322842 0.48888338 0.44657505 0.63117805 0.43194462\n",
      "  0.57508177 0.3388567  0.32755176 0.5603286  0.80074028 0.23961176\n",
      "  0.72851562 0.16442375 0.59742338 0.5849662  0.40937999 0.42818566\n",
      "  0.45164298 0.21461268 0.55636786 0.14425875 0.51416353 0.33638015\n",
      "  0.11482068 0.48276645 0.87764862 0.26287376 0.09947473 0.49332578\n",
      "  0.72011089 0.26529382 0.25040906 0.3851543  0.56727728 0.61150036\n",
      "  0.43457082 0.37297527 0.27032468 0.69105535 0.28963763 0.3147724\n",
      "  0.50530077 0.17553776 0.34666759 0.62835976 0.18004342 0.5724047\n",
      "  0.56235658 0.18961336 0.38592209 0.29769217]\n",
      " [0.41931663 0.29242286 0.80297983 0.35432589 0.2291826  0.69926354\n",
      "  0.63635457 0.25593244 0.37920167 0.44429594 0.55870613 0.37336817\n",
      "  0.29923946 0.49075895 0.19890484 0.69439946 0.31759843 0.64411371\n",
      "  0.51904951 0.39253629 0.48897304 0.26670245 0.         0.51257385\n",
      "  0.6573347  0.64199625 0.58277594 0.58877799 0.23984703 0.71466813\n",
      "  0.67265212 0.61856467 0.57311862 0.26171492 0.31722962 0.6000538\n",
      "  0.24576395 0.43916042 0.34524719 0.57398644 0.77553241 0.5648426\n",
      "  0.28409309 0.37441579 0.4236234  0.58460952 0.49057356 0.44495007\n",
      "  0.49375673 0.75578074 0.54633286 0.64481468 0.42031939 0.5596608\n",
      "  0.35741895 0.53708155 0.45891248 0.29420105 0.67007185 0.06448309\n",
      "  0.65383718 0.39453972 0.50655922 0.51399169 0.19255187 0.24730298\n",
      "  0.48423826 0.40852439 0.72333883 0.16246295 0.70725431 0.31027009\n",
      "  0.15248616 0.26389286 0.75907896 0.40671146 0.35024953 0.32571733\n",
      "  0.6433169  0.39115348 0.24060456 0.19723347 0.30427419 0.34850554\n",
      "  0.2929921  0.60255682 0.40653824 0.70350996 0.40562962 0.40235866\n",
      "  0.24349259 0.38057709 0.17870595 0.76655444 0.4244453  0.35337553\n",
      "  0.29810856 0.30305972 0.12802738 0.53834756]\n",
      " [0.10448921 0.22653143 0.49439615 0.77558156 0.64058497 0.64752008\n",
      "  0.54270779 0.29772905 0.39988586 0.38944745 0.05807532 0.32637445\n",
      "  0.62339081 0.23612124 0.63115886 0.26527093 0.34766057 0.89826612\n",
      "  0.23232246 0.45576857 0.85347786 0.54529409 0.51257385 0.\n",
      "  0.85085333 0.22929669 0.20249014 0.66943624 0.59375396 0.52194988\n",
      "  0.21958374 0.8788357  0.09113981 0.65537276 0.34331238 0.37931212\n",
      "  0.45398734 0.08136542 0.72171311 0.67885264 0.56149622 0.07108098\n",
      "  0.78947371 0.82889491 0.47493595 0.60811958 0.16805173 0.06762519\n",
      "  0.19756342 0.56930895 0.17747236 0.49506828 0.40210307 0.315079\n",
      "  0.82862682 0.87858669 0.86927729 0.60194591 0.31979949 0.45423597\n",
      "  0.19240744 0.7023267  0.12324667 0.08154468 0.68895722 0.75409932\n",
      "  0.13729026 0.75944969 0.46590595 0.43893284 0.51621275 0.21740765\n",
      "  0.52361808 0.74732424 0.36837383 0.80491859 0.63309912 0.28250567\n",
      "  0.18642886 0.80306035 0.71615817 0.70575462 0.68253485 0.71314772\n",
      "  0.80509012 0.89030717 0.81103243 0.20090363 0.30758067 0.26615611\n",
      "  0.53507424 0.72011673 0.69113631 0.43328091 0.52573357 0.40551923\n",
      "  0.57918642 0.36267189 0.48785988 0.55601699]\n",
      " [0.82917864 0.76609187 0.69904292 0.96049879 0.45175431 0.35463567\n",
      "  0.41490022 0.61145303 0.45227739 0.46607858 0.90789569 0.52570985\n",
      "  0.35965658 0.63562147 0.83472471 1.11492767 0.51807004 0.10084644\n",
      "  1.01344714 0.39655411 0.2928313  0.39759793 0.6573347  0.85085333\n",
      "  0.         1.07385487 1.03188649 0.20607992 0.41896109 0.53458433\n",
      "  0.83500378 0.10808857 0.83572844 0.41866969 0.52256699 0.56928178\n",
      "  0.4616452  0.77924208 0.98012268 0.18427603 0.57191727 0.84661512\n",
      "  0.62758743 0.47530225 0.37591939 0.28344729 0.95404234 0.80987106\n",
      "  0.67317851 0.53298412 0.72587807 0.48212267 1.02286771 0.60220036\n",
      "  0.90546174 0.24910126 0.38062135 0.95077497 1.14930002 0.63690614\n",
      "  1.04324203 0.2726739  0.93605329 0.91214916 0.75949417 0.75117492\n",
      "  0.72330293 0.29742021 0.61436111 0.53840641 0.53181248 0.6816763\n",
      "  0.50624724 0.82429664 1.2141462  0.36241782 0.3070852  0.87661867\n",
      "  1.03719164 0.38833177 0.53042739 0.72205956 0.9445919  0.98780037\n",
      "  0.72718484 0.15461602 0.37301618 0.93313781 0.54350657 0.58471134\n",
      "  0.89993325 0.302598   0.68176189 0.71773523 0.32620957 0.96692836\n",
      "  0.95543379 0.50912544 0.78131384 0.31747879]\n",
      " [0.25246092 0.35945351 0.68590556 0.81878009 0.81539844 0.87539578\n",
      "  0.77025571 0.48733413 0.6215828  0.61712191 0.17911003 0.54823863\n",
      "  0.81786353 0.46485776 0.70155759 0.05257104 0.56036137 1.11538149\n",
      "  0.14185442 0.67731675 1.04970023 0.74194876 0.64199625 0.22929669\n",
      "  1.07385487 0.         0.06021382 0.89718261 0.77927924 0.73985315\n",
      "  0.38218909 1.09472511 0.28344256 0.83595085 0.5558555  0.60199085\n",
      "  0.651848   0.29471265 0.75048162 0.90545653 0.77328275 0.26323016\n",
      "  0.92583685 0.99701922 0.69891671 0.83711083 0.15142829 0.26411667\n",
      "  0.42590207 0.78573392 0.39677202 0.71977228 0.35445558 0.53943669\n",
      "  0.89592718 1.08056725 1.053803   0.62558175 0.10097832 0.59615266\n",
      "  0.06923604 0.90471119 0.144689   0.16178841 0.78675304 0.85807823\n",
      "  0.36628779 0.95558037 0.67492191 0.61615746 0.73469554 0.40619188\n",
      "  0.69639243 0.83009927 0.14037198 0.991086   0.83624263 0.32833423\n",
      "  0.06394413 0.98523899 0.87219699 0.8150053  0.71886192 0.73784795\n",
      "  0.91873622 1.10238424 0.99562883 0.29687432 0.53330863 0.4914264\n",
      "  0.5731056  0.91701122 0.81077269 0.62228357 0.74766183 0.39550503\n",
      "  0.59792575 0.57271411 0.57363032 0.78461176]\n",
      " [0.20401395 0.30312374 0.68251407 0.76064143 0.75982533 0.84887615\n",
      "  0.74440789 0.43678073 0.58041325 0.58128059 0.16292984 0.50776564\n",
      "  0.76584233 0.4373405  0.64174545 0.11267099 0.51537802 1.06984143\n",
      "  0.08592501 0.63570204 0.99738394 0.69077949 0.58277594 0.20249014\n",
      "  1.03188649 0.06021382 0.         0.86043156 0.72559414 0.72324282\n",
      "  0.38427716 1.04864549 0.27214394 0.78119066 0.51085726 0.58161122\n",
      "  0.60151443 0.2564988  0.69325292 0.86714408 0.76056754 0.25040645\n",
      "  0.86642169 0.94009361 0.6588737  0.80326796 0.09257364 0.22393882\n",
      "  0.39937529 0.77018683 0.37812586 0.69755313 0.30236232 0.51753885\n",
      "  0.83653722 1.02963609 0.99912593 0.56823    0.11929958 0.53796023\n",
      "  0.10402386 0.85435774 0.09587788 0.12467108 0.72654027 0.79786831\n",
      "  0.3386347  0.90347904 0.66345753 0.56195681 0.71767426 0.35700621\n",
      "  0.64102657 0.7700983  0.18686917 0.93683952 0.78634707 0.26813275\n",
      "  0.09391638 0.93031573 0.814268   0.75484936 0.66091449 0.68092474\n",
      "  0.85859613 1.05468213 0.94109184 0.31213064 0.49584083 0.45396413\n",
      "  0.51442743 0.86520369 0.75083258 0.61947545 0.70593063 0.33921044\n",
      "  0.54083865 0.5266315  0.51341748 0.74976625]\n",
      " [0.66299757 0.62185379 0.49801246 0.92905119 0.43652216 0.17492935\n",
      "  0.21163107 0.46933822 0.28662038 0.28009628 0.72471183 0.35527085\n",
      "  0.33193644 0.44305656 0.78408664 0.93466603 0.36448081 0.29058449\n",
      "  0.85306381 0.23664073 0.40043983 0.3265773  0.58877799 0.66943624\n",
      "  0.20607992 0.89718261 0.86043156 0.         0.3798439  0.33464143\n",
      "  0.63298334 0.28381815 0.64395307 0.41106863 0.3686118  0.36390617\n",
      "  0.35238668 0.60408845 0.93210142 0.0302067  0.3782016  0.65681394\n",
      "  0.65106706 0.53703556 0.20738082 0.07746298 0.7898729  0.636497\n",
      "  0.48185982 0.34003071 0.53033456 0.27744319 0.89598482 0.40020919\n",
      "  0.89672589 0.38014406 0.47678054 0.87792565 0.97949883 0.55036202\n",
      "  0.86027228 0.29210603 0.76577225 0.73725773 0.73402064 0.74566074\n",
      "  0.5362277  0.35310197 0.41086099 0.43950786 0.33109493 0.52661616\n",
      "  0.44016759 0.80627252 1.03723926 0.43277226 0.27745262 0.74106162\n",
      "  0.85520443 0.45360226 0.5408438  0.70624501 0.89220685 0.9364893\n",
      "  0.74038815 0.32029373 0.44447901 0.73382762 0.36460075 0.40650202\n",
      "  0.81758809 0.33398057 0.66647309 0.51311563 0.17530815 0.84789772\n",
      "  0.87657463 0.36147586 0.69885683 0.11624756]\n",
      " [0.52902938 0.42474803 0.71886776 0.55351081 0.06744451 0.52183027\n",
      "  0.4870123  0.29689678 0.27763454 0.34412959 0.64984537 0.31985756\n",
      "  0.05949359 0.46854379 0.4178749  0.82865075 0.26953819 0.40508167\n",
      "  0.68161366 0.25488876 0.27438377 0.07217195 0.23984703 0.59375396\n",
      "  0.41896109 0.77927924 0.72559414 0.3798439  0.         0.59254735\n",
      "  0.68539042 0.3796745  0.62258936 0.06463883 0.27259935 0.51762443\n",
      "  0.14703404 0.51238869 0.56496423 0.35915323 0.65261754 0.62288493\n",
      "  0.28913482 0.2460794  0.27512671 0.39738117 0.63546428 0.53265978\n",
      "  0.48992526 0.62403762 0.55152542 0.51809391 0.63567635 0.50191685\n",
      "  0.51688212 0.31375016 0.2760613  0.53202671 0.83124649 0.23046028\n",
      "  0.77128329 0.15559818 0.63472245 0.62640485 0.35545821 0.36643007\n",
      "  0.50978546 0.18301166 0.6285369  0.16391469 0.58577071 0.37899453\n",
      "  0.09590572 0.42680475 0.91185994 0.21230758 0.11335836 0.50887057\n",
      "  0.76232805 0.20930718 0.17868613 0.32640583 0.52784682 0.57157586\n",
      "  0.36730157 0.36668745 0.2176973  0.74950289 0.35603846 0.37786581\n",
      "  0.48333108 0.14847418 0.28665681 0.69990553 0.2478478  0.57313702\n",
      "  0.53754262 0.25050621 0.36641712 0.36405338]\n",
      " [0.56850538 0.59588552 0.16449753 1.067125   0.65985278 0.19153994\n",
      "  0.12476717 0.48889919 0.33721291 0.27042068 0.56243347 0.34777604\n",
      "  0.57016919 0.302254   0.90822632 0.76228369 0.39928726 0.6246614\n",
      "  0.74943473 0.34016586 0.71489945 0.52099121 0.71466813 0.52194988\n",
      "  0.53458433 0.73985315 0.72324282 0.33464143 0.59254735 0.\n",
      "  0.38619158 0.61845947 0.45654816 0.64731654 0.40041724 0.14642172\n",
      "  0.48228621 0.49158702 1.04573367 0.36263693 0.06122967 0.47664021\n",
      "  0.88100888 0.81203034 0.31744397 0.26035018 0.6826     0.52364899\n",
      "  0.33371692 0.04845977 0.34511699 0.07446532 0.870483   0.21128404\n",
      "  1.06787832 0.70468347 0.7795685  0.9572148  0.83723719 0.65589931\n",
      "  0.68429749 0.57747921 0.64289284 0.60308492 0.89874095 0.93406075\n",
      "  0.39265372 0.6473723  0.08761469 0.55412485 0.00745936 0.49547218\n",
      "  0.60347568 0.97317733 0.86908581 0.72475374 0.53217387 0.71509883\n",
      "  0.68323577 0.73997211 0.77122706 0.88635621 1.00271923 1.04475143\n",
      "  0.95083232 0.65415114 0.73581478 0.49543879 0.32292226 0.34579087\n",
      "  0.88729188 0.61721914 0.85197154 0.19178215 0.35102014 0.84446135\n",
      "  0.9458662  0.4122072  0.78404362 0.25422788]\n",
      " [0.31625824 0.41811428 0.30507756 0.9729598  0.7443862  0.55488229\n",
      "  0.45331665 0.42216563 0.42791258 0.38298798 0.22751087 0.36828631\n",
      "  0.69760306 0.22021916 0.82090406 0.39268926 0.41585242 0.90315669\n",
      "  0.43896899 0.47602202 0.91116033 0.62206732 0.67265212 0.21958374\n",
      "  0.83500378 0.38218909 0.38427716 0.63298334 0.68539042 0.38619158\n",
      "  0.         0.8884258  0.12846885 0.75002695 0.41282017 0.27570289\n",
      "  0.53850172 0.25368013 0.92545433 0.65123345 0.40690265 0.14903209\n",
      "  0.92815166 0.931316   0.48120314 0.55911961 0.38065918 0.26757957\n",
      "  0.19546636 0.42681566 0.1340589  0.38963578 0.62159966 0.23292471\n",
      "  1.01389769 0.92360119 0.94658427 0.80991933 0.48316318 0.60903255\n",
      "  0.31765129 0.7554691  0.33262284 0.28993454 0.86139302 0.91995096\n",
      "  0.18857787 0.82188054 0.30842695 0.55783502 0.38270296 0.36330631\n",
      "  0.63936997 0.92660454 0.49703398 0.88247093 0.68933299 0.49741146\n",
      "  0.31959666 0.88697677 0.83839771 0.86986115 0.88460643 0.91836172\n",
      "  0.96214662 0.91058257 0.89080924 0.10929449 0.33409961 0.30763289\n",
      "  0.74075682 0.78331336 0.84824625 0.24138091 0.53605543 0.62381699\n",
      "  0.7889937  0.43490126 0.67689618 0.51799332]\n",
      " [0.84463174 0.76723825 0.78161991 0.89682529 0.39768051 0.44835064\n",
      "  0.49506501 0.61612156 0.48034993 0.5082841  0.93676037 0.55317792\n",
      "  0.32130959 0.67869511 0.78206158 1.13874589 0.53441285 0.02571335\n",
      "  1.02155996 0.42512555 0.19569305 0.37711206 0.61856467 0.8788357\n",
      "  0.10808857 1.09472511 1.04864549 0.28381815 0.3796745  0.61845947\n",
      "  0.8884258  0.         0.87454365 0.36359159 0.53891128 0.63402685\n",
      "  0.45553215 0.80290875 0.92363735 0.25627143 0.66085605 0.88307805\n",
      "  0.5479632  0.38605804 0.41160146 0.35933089 0.96588484 0.831468\n",
      "  0.71411757 0.6222967  0.77076456 0.55951455 1.00793666 0.65843334\n",
      "  0.8330074  0.14613297 0.28291495 0.90679573 1.16344194 0.60834426\n",
      "  1.07036754 0.22415502 0.95305341 0.93338033 0.69695054 0.68020528\n",
      "  0.75888887 0.2244138  0.69351497 0.52135131 0.61487965 0.69247712\n",
      "  0.47374367 0.75709795 1.23398287 0.27566508 0.27827861 0.86964669\n",
      "  1.06341384 0.30197796 0.45973686 0.6561892  0.89070488 0.93273558\n",
      "  0.64916208 0.04668783 0.28506836 0.98096272 0.57668339 0.61586063\n",
      "  0.8617628  0.2416869  0.61677046 0.79427026 0.35736352 0.94806537\n",
      "  0.91444799 0.52217916 0.74586655 0.38162732]\n",
      " [0.18983246 0.30063797 0.4114347  0.85545763 0.67553047 0.59967236\n",
      "  0.49440171 0.33644317 0.39565528 0.36971458 0.10926887 0.32533801\n",
      "  0.64466865 0.20096816 0.70697936 0.30705079 0.36005315 0.89214406\n",
      "  0.31652459 0.44987073 0.86960261 0.5666426  0.57311862 0.09113981\n",
      "  0.83572844 0.28344256 0.27214394 0.64395307 0.62258936 0.45654816\n",
      "  0.12846885 0.87454365 0.         0.68627507 0.35616308 0.32112924\n",
      "  0.47723619 0.1364561  0.80463869 0.65709301 0.49026058 0.02220444\n",
      "  0.84158302 0.86467394 0.4634991  0.57667093 0.25525683 0.14322856\n",
      "  0.16264923 0.50229494 0.11759063 0.43983527 0.49323197 0.26101602\n",
      "  0.90276375 0.88939497 0.89411718 0.68684801 0.38189823 0.51159342\n",
      "  0.22900702 0.71514325 0.20806962 0.16500248 0.75653942 0.81878528\n",
      "  0.11704514 0.77690586 0.39232281 0.47834115 0.45148599 0.26470409\n",
      "  0.56281077 0.81839365 0.41389423 0.82942475 0.64646534 0.37069112\n",
      "  0.22717432 0.83038141 0.76023371 0.76941552 0.76457695 0.79679441\n",
      "  0.86582472 0.89061511 0.83657019 0.13111416 0.29830993 0.26108173\n",
      "  0.6186956  0.7375446  0.75139707 0.34899266 0.51725161 0.49579705\n",
      "  0.66500304 0.37756362 0.56278641 0.52803081]\n",
      " [0.58740459 0.4786831  0.77817318 0.54208492 0.03409216 0.5638292\n",
      "  0.53760145 0.35778522 0.34007997 0.40543584 0.71096834 0.38429198\n",
      "  0.08078134 0.533084   0.41897359 0.88595147 0.3341754  0.38930395\n",
      "  0.73365207 0.31359561 0.22973019 0.1331301  0.26171492 0.65537276\n",
      "  0.41866969 0.83595085 0.78119066 0.41106863 0.06463883 0.64731654\n",
      "  0.75002695 0.36359159 0.68627507 0.         0.33722755 0.57855607\n",
      "  0.21162063 0.57404786 0.56245242 0.38732757 0.70666186 0.68615831\n",
      "  0.24189519 0.18148655 0.3311335  0.43837394 0.69015487 0.59329015\n",
      "  0.55456123 0.67667026 0.61615203 0.5729143  0.6735216  0.56496021\n",
      "  0.49331391 0.27572376 0.21793527 0.54383966 0.88433353 0.26718793\n",
      "  0.83040952 0.14599829 0.69178147 0.68530022 0.34115037 0.33946207\n",
      "  0.57397527 0.14690346 0.68712852 0.22006682 0.64072328 0.43937653\n",
      "  0.14106872 0.40791443 0.96670846 0.15641478 0.13363475 0.55506357\n",
      "  0.82123768 0.149333   0.13043855 0.30556375 0.52818409 0.5707891\n",
      "  0.32937554 0.34321848 0.15999655 0.8136207  0.42037678 0.44250321\n",
      "  0.50183155 0.1219608  0.26504657 0.76113297 0.29799094 0.60883995\n",
      "  0.55260457 0.3151366  0.38960541 0.41050928]\n",
      " [0.30720639 0.25329081 0.48746773 0.66720687 0.33224409 0.42013033\n",
      "  0.33771719 0.10390265 0.08508309 0.13377905 0.40135638 0.05690126\n",
      "  0.28900223 0.19797225 0.50801928 0.59998033 0.00452086 0.55954136\n",
      "  0.49130723 0.13220006 0.51392082 0.21148236 0.31722962 0.34331238\n",
      "  0.52256699 0.5558555  0.51085726 0.3686118  0.27259935 0.40041724\n",
      "  0.41282017 0.53891128 0.35616308 0.33722755 0.         0.28328016\n",
      "  0.12569101 0.26500537 0.64565372 0.36867363 0.46063952 0.35945532\n",
      "  0.52850713 0.51850011 0.16158492 0.33004127 0.4314822  0.29269534\n",
      "  0.2173576  0.44366901 0.27892611 0.33367599 0.53035234 0.2480864\n",
      "  0.67403261 0.53617594 0.5388741  0.5617721  0.6273044  0.25640139\n",
      "  0.53286673 0.36048231 0.4150196  0.39447473 0.50654119 0.55041065\n",
      "  0.24039177 0.42086156 0.40621015 0.16386871 0.39296105 0.16003116\n",
      "  0.23473913 0.57982655 0.69534817 0.47423625 0.29138559 0.37359267\n",
      "  0.52550307 0.47660428 0.43085475 0.5007326  0.60270469 0.64509367\n",
      "  0.57892691 0.54795724 0.48179947 0.47959153 0.09207035 0.10563252\n",
      "  0.49346691 0.38147196 0.47067017 0.45517663 0.1995816  0.48690004\n",
      "  0.55301791 0.0220996  0.38523481 0.2751249 ]\n",
      " [0.42213003 0.45304342 0.20523207 0.94657676 0.58430766 0.28186193\n",
      "  0.17827818 0.35866255 0.24148465 0.17354139 0.42314853 0.22673353\n",
      "  0.50886008 0.15591856 0.78697264 0.62812763 0.28333205 0.64577413\n",
      "  0.60428137 0.26641284 0.69078363 0.44591508 0.6000538  0.37931212\n",
      "  0.56928178 0.60199085 0.58161122 0.36390617 0.51762443 0.14642172\n",
      "  0.27570289 0.63402685 0.32112924 0.57855607 0.28328016 0.\n",
      "  0.38714547 0.34537132 0.9192661  0.38523743 0.1966743  0.33973955\n",
      "  0.79781624 0.75474926 0.25603359 0.28772511 0.53732354 0.37764607\n",
      "  0.18761764 0.19486561 0.20523242 0.11886885 0.72502972 0.06515738\n",
      "  0.9572061  0.69217787 0.74261622 0.82455507 0.69743366 0.53810448\n",
      "  0.5501167  0.54031799 0.49867185 0.459745   0.78981278 0.83235857\n",
      "  0.24720911 0.61072926 0.12384921 0.44585989 0.13990309 0.35466759\n",
      "  0.50797105 0.8630787  0.73492045 0.68223005 0.48293673 0.57061795\n",
      "  0.54801861 0.69295654 0.69257758 0.78304225 0.87618075 0.91703552\n",
      "  0.85715757 0.66199725 0.69231408 0.38231275 0.19518658 0.20905468\n",
      "  0.75386009 0.57556459 0.7517005  0.18266855 0.30516172 0.70085796\n",
      "  0.81143849 0.29954614 0.65616654 0.25326354]\n",
      " [0.39939456 0.31191666 0.5919307  0.59857814 0.20707372 0.45349973\n",
      "  0.3937457  0.16474005 0.14723133 0.21635057 0.51116845 0.17529836\n",
      "  0.16941173 0.32273685 0.4446657  0.69923347 0.12276712 0.47866917\n",
      "  0.56782949 0.14808363 0.4001332  0.09135661 0.24576395 0.45398734\n",
      "  0.4616452  0.651848   0.60151443 0.35238668 0.14703404 0.48228621\n",
      "  0.53850172 0.45553215 0.47723619 0.21162063 0.12569101 0.38714547\n",
      "  0.         0.37302053 0.59055591 0.34214581 0.54350216 0.47855357\n",
      "  0.41128598 0.39281429 0.1783078  0.34022257 0.51497711 0.39619395\n",
      "  0.34304466 0.51994024 0.40456822 0.40955372 0.56134404 0.3631563\n",
      "  0.58797756 0.4287657  0.41722996 0.52706964 0.7128958  0.19954369\n",
      "  0.63736674 0.25291632 0.50754413 0.49410865 0.41870306 0.45178046\n",
      "  0.36336217 0.30589881 0.50493534 0.08753366 0.47505551 0.24578687\n",
      "  0.12180675 0.49341397 0.7883222  0.35256777 0.18490088 0.41609039\n",
      "  0.62903482 0.3531635  0.30903247 0.40417824 0.54904618 0.59309945\n",
      "  0.47124563 0.45617581 0.35945622 0.603116   0.21191337 0.23120139\n",
      "  0.4654376  0.26673142 0.36974501 0.5666121  0.18105072 0.50669675\n",
      "  0.52464668 0.10363347 0.34721345 0.29274026]\n",
      " [0.07785479 0.16516679 0.49010049 0.72057696 0.55949529 0.59799032\n",
      "  0.4950783  0.21651676 0.32697656 0.32478432 0.13814953 0.25355321\n",
      "  0.54237584 0.19119754 0.57087143 0.336289   0.26943242 0.82292117\n",
      "  0.26170152 0.3827852  0.77282681 0.46436695 0.43916042 0.08136542\n",
      "  0.77924208 0.29471265 0.2564988  0.60408845 0.51238869 0.49158702\n",
      "  0.25368013 0.80290875 0.1364561  0.57404786 0.26500537 0.34537132\n",
      "  0.37302053 0.         0.67185028 0.61137412 0.53749266 0.12592194\n",
      "  0.71242861 0.74799549 0.40422543 0.54698305 0.19485783 0.03359326\n",
      "  0.15788461 0.53992605 0.16498603 0.45466123 0.39128087 0.28031881\n",
      "  0.76635745 0.79873641 0.78794163 0.55645772 0.37574141 0.37894316\n",
      "  0.26786541 0.62235857 0.16306732 0.13340163 0.62059501 0.68362575\n",
      "  0.10107813 0.67871287 0.44709718 0.35810399 0.48520263 0.13701783\n",
      "  0.44289532 0.6819894  0.43507548 0.72360424 0.55316407 0.25019539\n",
      "  0.26060258 0.72169498 0.63658722 0.63454668 0.63115716 0.66468473\n",
      "  0.73215197 0.81291848 0.72968737 0.26488046 0.23950876 0.19759172\n",
      "  0.48710788 0.63942228 0.61781862 0.43309238 0.45311156 0.38095559\n",
      "  0.53596432 0.28361407 0.42663018 0.49331202]\n",
      " [0.61730278 0.5076149  1.1142172  0.07871394 0.52883577 1.04379384\n",
      "  0.97688039 0.560615   0.71718286 0.77830399 0.74772229 0.69812898\n",
      "  0.62275893 0.78770644 0.14811235 0.79928785 0.64704865 0.94922864\n",
      "  0.60864095 0.73590723 0.75852698 0.60649552 0.34524719 0.72171311\n",
      "  0.98012268 0.75048162 0.69325292 0.93210142 0.56496423 1.04573367\n",
      "  0.92545433 0.92363735 0.80463869 0.56245242 0.64565372 0.9192661\n",
      "  0.59055591 0.67185028 0.         0.91580957 1.1054755  0.78919035\n",
      "  0.41942462 0.5866031  0.76752847 0.9298566  0.61921404 0.66146004\n",
      "  0.778988   1.08932271 0.81878988 0.97916976 0.40645296 0.86963061\n",
      "  0.18701924 0.81348682 0.69877103 0.12504969 0.73008833 0.39469522\n",
      "  0.79140434 0.70801682 0.65723345 0.68502992 0.23085182 0.27337374\n",
      "  0.74988948 0.70005747 1.04282889 0.50517635 1.03827435 0.58054638\n",
      "  0.49206864 0.1924721  0.82155054 0.66783678 0.67824908 0.44509809\n",
      "  0.780287   0.64454591 0.47113555 0.27663095 0.04309163 0.01689727\n",
      "  0.33546727 0.89810584 0.66265382 0.92207464 0.7254345  0.71134294\n",
      "  0.18677869 0.68292574 0.31219009 1.06944988 0.76968142 0.35538478\n",
      "  0.15257691 0.63560572 0.26314544 0.88329582]\n",
      " [0.66785159 0.6210977  0.52539256 0.91065158 0.41381609 0.20511651\n",
      "  0.23883155 0.46728294 0.28913731 0.28974745 0.73480825 0.35996218\n",
      "  0.30918584 0.45618084 0.76770016 0.94407838 0.36440544 0.26426516\n",
      "  0.85681761 0.23659841 0.37031326 0.3093458  0.57398644 0.67885264\n",
      "  0.18427603 0.90545653 0.86714408 0.0302067  0.35915323 0.36263693\n",
      "  0.65123345 0.25627143 0.65709301 0.38732757 0.36867363 0.38523743\n",
      "  0.34214581 0.61137412 0.91580957 0.         0.40731293 0.66918819\n",
      "  0.62610653 0.50892764 0.20956103 0.10308899 0.7944816  0.64333038\n",
      "  0.49453912 0.36931293 0.54496563 0.30348603 0.89237161 0.41832311\n",
      "  0.87564513 0.35000511 0.44703694 0.86497493 0.98591226 0.53810029\n",
      "  0.87047295 0.26452787 0.77199521 0.74475997 0.71430508 0.72378895\n",
      "  0.54735262 0.32424656 0.43735784 0.42841855 0.35887265 0.52804528\n",
      "  0.4238106  0.78595773 1.04573199 0.40377643 0.25380422 0.73881417\n",
      "  0.86507895 0.42493987 0.51647754 0.68532555 0.87639205 0.92064637\n",
      "  0.71665982 0.29160952 0.41549157 0.75050959 0.37214859 0.4140427\n",
      "  0.80590756 0.30622929 0.64532539 0.53877445 0.1708312  0.8426403\n",
      "  0.86453051 0.35983151 0.68675011 0.13331537]\n",
      " [0.615083   0.64955873 0.14023188 1.12765575 0.71983158 0.21912868\n",
      "  0.1758383  0.54739115 0.39840151 0.33140605 0.59824864 0.40734661\n",
      "  0.62893173 0.35149822 0.96862149 0.79241817 0.45961962 0.66529466\n",
      "  0.79173873 0.40098899 0.7667153  0.58125722 0.77553241 0.56149622\n",
      "  0.57191727 0.77328275 0.76056754 0.3782016  0.65261754 0.06122967\n",
      "  0.40690265 0.66085605 0.49026058 0.70666186 0.46063952 0.1966743\n",
      "  0.54350216 0.53749266 1.1054755  0.40731293 0.         0.51123415\n",
      "  0.94133972 0.86949555 0.37768533 0.30737577 0.72533311 0.56868284\n",
      "  0.38011946 0.03896762 0.38406299 0.13487237 0.92120452 0.25932071\n",
      "  1.1290319  0.75391466 0.83369341 1.0155993  0.8721588  0.71647753\n",
      "  0.71490765 0.63267234 0.68390504 0.64302454 0.95991676 0.99527111\n",
      "  0.43710322 0.70205406 0.09899085 0.61520235 0.06852292 0.55038054\n",
      "  0.66464862 1.0343342  0.89873424 0.78012121 0.58956009 0.7672506\n",
      "  0.71468838 0.79604806 0.83129748 0.94758397 1.06243159 1.10427541\n",
      "  1.01179225 0.69844893 0.79130865 0.51482185 0.38130822 0.40206776\n",
      "  0.9454269  0.67294441 0.91317041 0.1856831  0.40948277 0.89752539\n",
      "  1.00373515 0.47284611 0.84339507 0.30801955]\n",
      " [0.17267023 0.28762603 0.43356675 0.84120525 0.67436438 0.61690634\n",
      "  0.51157267 0.33323517 0.40317384 0.38061025 0.08747681 0.33171327\n",
      "  0.6468817  0.21397262 0.69410002 0.28860181 0.36347861 0.90110477\n",
      "  0.29435548 0.45799157 0.873372   0.56867716 0.5648426  0.07108098\n",
      "  0.84661512 0.26323016 0.25040645 0.65681394 0.62288493 0.47664021\n",
      "  0.14903209 0.88307805 0.02220444 0.68615831 0.35945532 0.33973955\n",
      "  0.47855357 0.12592194 0.78919035 0.66918819 0.51123415 0.\n",
      "  0.83601903 0.86352233 0.47291711 0.59066107 0.2333258  0.12817907\n",
      "  0.17496658 0.52267759 0.13493812 0.45818619 0.47262986 0.27860034\n",
      "  0.8905578  0.89445559 0.89577324 0.67054012 0.36105746 0.5041087\n",
      "  0.21076461 0.71951987 0.18599922 0.14293933 0.74636668 0.80954751\n",
      "  0.12419337 0.78024989 0.41353046 0.47558985 0.47146611 0.25873175\n",
      "  0.56033634 0.80715856 0.39527945 0.83109918 0.65059834 0.35271901\n",
      "  0.20831986 0.83135366 0.75678642 0.76044968 0.74946647 0.78104933\n",
      "  0.85780309 0.89812148 0.83799536 0.13897092 0.30639472 0.26784208\n",
      "  0.60289574 0.74084376 0.74342296 0.37117152 0.52616399 0.47656545\n",
      "  0.6482857  0.38048865 0.55008673 0.54121067]\n",
      " [0.70069449 0.57504667 1.00183229 0.37130075 0.22268949 0.80569257\n",
      "  0.77599675 0.50732152 0.55648423 0.6252163  0.83845597 0.58325731\n",
      "  0.3226595  0.72444153 0.31103416 0.97829426 0.52679016 0.57208479\n",
      "  0.80038797 0.54159616 0.36117395 0.3600861  0.28409309 0.78947371\n",
      "  0.62758743 0.92583685 0.86642169 0.65106706 0.28913482 0.88100888\n",
      "  0.92815166 0.5479632  0.84158302 0.24189519 0.52850713 0.79781624\n",
      "  0.41128598 0.71242861 0.41942462 0.62610653 0.94133972 0.83601903\n",
      "  0.         0.17302649 0.56365479 0.68025576 0.77441439 0.72226288\n",
      "  0.73732793 0.91312166 0.79582661 0.80662229 0.67518782 0.77377504\n",
      "  0.28964742 0.41729696 0.2883731  0.45453143 0.95023288 0.33622318\n",
      "  0.93763402 0.36802517 0.79051628 0.79672762 0.19682578 0.14716641\n",
      "  0.74133019 0.3301695  0.913133   0.37096845 0.87414683 0.57730322\n",
      "  0.2937764  0.22965947 1.04047458 0.27325727 0.37426293 0.60530959\n",
      "  0.92717457 0.24722598 0.11170716 0.14945282 0.39903947 0.43286258\n",
      "  0.10150396 0.51339341 0.26497245 0.97267986 0.61973463 0.63121119\n",
      "  0.44381046 0.33012444 0.1284491  0.97789402 0.53644222 0.6068444\n",
      "  0.4743992  0.5080469  0.37167466 0.65119568]\n",
      " [0.75411807 0.63758489 0.950782   0.54297427 0.18917131 0.70499907\n",
      "  0.69580178 0.53173192 0.51939803 0.58294048 0.88313078 0.565728\n",
      "  0.24595864 0.71456636 0.4648943  1.04825229 0.5155132  0.40887282\n",
      "  0.88476078 0.48836109 0.19280072 0.31305163 0.37441579 0.82889491\n",
      "  0.47530225 0.99701922 0.94009361 0.53703556 0.2460794  0.81203034\n",
      "  0.931316   0.38605804 0.86467394 0.18148655 0.51850011 0.75474926\n",
      "  0.39281429 0.74799549 0.5866031  0.50892764 0.86949555 0.86352233\n",
      "  0.17302649 0.         0.50194381 0.58143101 0.84776488 0.7648742\n",
      "  0.73585739 0.83700581 0.79736636 0.73841165 0.79298126 0.74456269\n",
      "  0.46233315 0.24815547 0.11540168 0.6063443  1.03651978 0.40506632\n",
      "  0.99735742 0.24530189 0.85473072 0.85245888 0.35734148 0.31843884\n",
      "  0.75380602 0.18697961 0.85875135 0.38996402 0.80583911 0.61155285\n",
      "  0.3054145  0.40059851 1.12262309 0.11299541 0.27994114 0.69619515\n",
      "  0.98770872 0.08759601 0.13502975 0.31038328 0.56234735 0.59903887\n",
      "  0.2730471  0.3478107  0.10228811 0.9930692  0.60173598 0.62389795\n",
      "  0.58318885 0.20329278 0.2781173  0.93735372 0.46146975 0.7251713\n",
      "  0.62261736 0.49642723 0.4899184  0.56425542]\n",
      " [0.45852731 0.41484702 0.44885655 0.77688166 0.34247933 0.27650017\n",
      "  0.21743954 0.26380584 0.0796055  0.09821541 0.53200812 0.15110808\n",
      "  0.25650251 0.26731657 0.62246039 0.73923515 0.1575581  0.42871909\n",
      "  0.64725729 0.03260975 0.43782171 0.20357779 0.4236234  0.47493595\n",
      "  0.37591939 0.69891671 0.6588737  0.20738082 0.27512671 0.31744397\n",
      "  0.48120314 0.41160146 0.4634991  0.3311335  0.16158492 0.25603359\n",
      "  0.1783078  0.40422543 0.76752847 0.20956103 0.37768533 0.47291711\n",
      "  0.56365479 0.50194381 0.         0.17166925 0.58502908 0.43553511\n",
      "  0.30252368 0.35011783 0.35954721 0.24300897 0.69110508 0.25971519\n",
      "  0.76409614 0.44452283 0.4866957  0.69801567 0.77730173 0.37371847\n",
      "  0.66732269 0.28508587 0.56340717 0.53751717 0.59517259 0.6235504\n",
      "  0.34889898 0.35517153 0.3569966  0.2623587  0.31064866 0.31929689\n",
      "  0.2935778  0.66984545 0.8392874  0.42621143 0.22699535 0.53496515\n",
      "  0.66129422 0.43730699 0.45379286 0.5775839  0.72563262 0.76947662\n",
      "  0.63574333 0.43045369 0.43634083 0.57007399 0.16772776 0.20879304\n",
      "  0.63323122 0.31959332 0.54123999 0.43735693 0.05491886 0.64555391\n",
      "  0.69301522 0.15631758 0.51785897 0.11890968]\n",
      " [0.61024169 0.58132545 0.42247009 0.93335445 0.45967288 0.12549432\n",
      "  0.13599825 0.4336415  0.24507284 0.22295571 0.66201719 0.30656435\n",
      "  0.35759818 0.37681882 0.78293727 0.87255693 0.32634275 0.36719461\n",
      "  0.80160904 0.20406696 0.46133556 0.33500829 0.58460952 0.60811958\n",
      "  0.28344729 0.83711083 0.80326796 0.07746298 0.39738117 0.26035018\n",
      "  0.55911961 0.35933089 0.57667093 0.43837394 0.33004127 0.28772511\n",
      "  0.34022257 0.54698305 0.9298566  0.10308899 0.30737577 0.59066107\n",
      "  0.68025576 0.58143101 0.17166925 0.         0.73697079 0.58005044\n",
      "  0.41606343 0.27018942 0.46127939 0.20047101 0.86031771 0.32711145\n",
      "  0.91006444 0.44660857 0.5324624  0.86623836 0.92256682 0.53950518\n",
      "  0.79701931 0.3372584  0.70985498 0.67907602 0.74368669 0.76258548\n",
      "  0.47266234 0.40359728 0.33427464 0.42731275 0.25634048 0.48217613\n",
      "  0.44290459 0.81746805 0.97649066 0.48319696 0.30799272 0.70304643\n",
      "  0.792503   0.50180361 0.5686594  0.72013961 0.88872263 0.93287648\n",
      "  0.76415004 0.39395244 0.49474111 0.66156106 0.30965464 0.35084512\n",
      "  0.80272558 0.37902822 0.6814569  0.43596441 0.16023753 0.81636219\n",
      "  0.862378   0.32715156 0.68600247 0.0554099 ]\n",
      " [0.12691991 0.21153096 0.66241923 0.68325331 0.66823806 0.79258488\n",
      "  0.68991212 0.3507731  0.5056449  0.51401865 0.15553086 0.43473417\n",
      "  0.67718609 0.38529484 0.55740135 0.20388777 0.43598296 0.9876644\n",
      "  0.06703461 0.55989797 0.90822021 0.6031056  0.49057356 0.16805173\n",
      "  0.95404234 0.15142829 0.09257364 0.7898729  0.63546428 0.6826\n",
      "  0.38065918 0.96588484 0.25525683 0.69015487 0.4314822  0.53732354\n",
      "  0.51497711 0.19485783 0.61921404 0.7944816  0.72533311 0.2333258\n",
      "  0.77441439 0.84776488 0.58502908 0.73697079 0.         0.1613885\n",
      "  0.35010416 0.73061371 0.34231292 0.64886333 0.25080066 0.47219264\n",
      "  0.75401735 0.94174139 0.90804685 0.4945065  0.19795422 0.44538662\n",
      "  0.17426696 0.76724094 0.04837428 0.09072792 0.63806608 0.70884307\n",
      "  0.29011942 0.8145891  0.63135823 0.4715941  0.67648266 0.27359973\n",
      "  0.54964887 0.6842561  0.27656394 0.84610303 0.69982459 0.18158844\n",
      "  0.16309732 0.83909036 0.72170329 0.66499221 0.58458414 0.60793247\n",
      "  0.76856484 0.97010173 0.85013678 0.33237663 0.42734375 0.3861874\n",
      "  0.43610635 0.77662917 0.65985281 0.60131403 0.62954187 0.27251051\n",
      "  0.46822992 0.44568191 0.42519556 0.68242476]\n",
      " [0.05050395 0.16033076 0.51724629 0.71302744 0.57725441 0.63157824\n",
      "  0.52861561 0.2357654  0.35767592 0.35760215 0.1182838  0.28453906\n",
      "  0.56507711 0.22419903 0.56638618 0.30729594 0.29717419 0.85181587\n",
      "  0.2283029  0.41331828 0.79632459 0.48746994 0.44495007 0.06762519\n",
      "  0.80987106 0.26411667 0.22393882 0.636497   0.53265978 0.52364899\n",
      "  0.26757957 0.831468   0.14322856 0.59329015 0.29269534 0.37764607\n",
      "  0.39619395 0.03359326 0.66146004 0.64333038 0.56868284 0.12817907\n",
      "  0.72226288 0.7648742  0.43553511 0.58005044 0.1613885  0.\n",
      "  0.19002849 0.57191389 0.19176764 0.48776965 0.36512025 0.31251392\n",
      "  0.76330182 0.82367658 0.80866869 0.54371527 0.3430372  0.38676817\n",
      "  0.24151326 0.64726297 0.1298129  0.10232903 0.62190792 0.68670866\n",
      "  0.13158246 0.70207655 0.47722876 0.37515988 0.5173416  0.15392172\n",
      "  0.4594628  0.6810227  0.40430333 0.74460218 0.57819985 0.23033681\n",
      "  0.23358326 0.74174178 0.65029906 0.63826459 0.6215203  0.65356824\n",
      "  0.73747965 0.84045004 0.75032313 0.26514782 0.27192021 0.23006733\n",
      "  0.47546715 0.6629251  0.62351247 0.45905764 0.48366158 0.35903977\n",
      "  0.52210454 0.31044757 0.42258886 0.5262203 ]\n",
      " [0.23510628 0.28348914 0.34423176 0.81710557 0.54916242 0.44995994\n",
      "  0.34517044 0.2380081  0.23917139 0.2073635  0.24783192 0.17436508\n",
      "  0.50316751 0.03934456 0.65973567 0.45808224 0.22038842 0.73112551\n",
      "  0.41712442 0.29133974 0.72066739 0.42704766 0.49375673 0.19756342\n",
      "  0.67317851 0.42590207 0.39937529 0.48185982 0.48992526 0.33371692\n",
      "  0.19546636 0.71411757 0.16264923 0.55456123 0.2173576  0.18761764\n",
      "  0.34304466 0.15788461 0.778988   0.49453912 0.38011946 0.17496658\n",
      "  0.73732793 0.73585739 0.30252368 0.41606343 0.35010416 0.19002849\n",
      "  0.         0.38204373 0.0618432  0.29941118 0.54319263 0.12249364\n",
      "  0.84539954 0.73644139 0.75271479 0.67323247 0.51730353 0.4292871\n",
      "  0.3816372  0.56504611 0.31282725 0.27553723 0.68575887 0.7396678\n",
      "  0.06085358 0.62991245 0.29194054 0.36636977 0.32736057 0.19845397\n",
      "  0.44606774 0.75462431 0.56337173 0.68837385 0.49769194 0.39308481\n",
      "  0.37764216 0.69221912 0.64472698 0.68930557 0.73650836 0.77434386\n",
      "  0.77724046 0.73188645 0.69647702 0.26995218 0.14221245 0.11230421\n",
      "  0.60211734 0.59097875 0.66459957 0.29303323 0.35687687 0.52489625\n",
      "  0.65651123 0.23943591 0.51926653 0.36625776]\n",
      " [0.61690656 0.64374968 0.1762133  1.10911376 0.69098116 0.18025079\n",
      "  0.1414093  0.53434633 0.37694325 0.31184393 0.60889678 0.39222622\n",
      "  0.59817078 0.35071327 0.95061555 0.80711341 0.44231103 0.62654366\n",
      "  0.79739849 0.37507499 0.73055479 0.55322842 0.75578074 0.56930895\n",
      "  0.53298412 0.78573392 0.77018683 0.34003071 0.62403762 0.04845977\n",
      "  0.42681566 0.6222967  0.50229494 0.67667026 0.44366901 0.19486561\n",
      "  0.51994024 0.53992605 1.08932271 0.36931293 0.03896762 0.52267759\n",
      "  0.91312166 0.83700581 0.35011783 0.27018942 0.73061371 0.57191389\n",
      "  0.38204373 0.         0.3921609  0.11098715 0.91881222 0.25966117\n",
      "  1.10717684 0.7167843  0.79867031 1.00248266 0.88359168 0.69798327\n",
      "  0.72924357 0.59849732 0.69060613 0.65057142 0.93788728 0.97116102\n",
      "  0.4407972  0.66746856 0.11987803 0.59435992 0.05522677 0.54301214\n",
      "  0.64026142 1.01248359 0.91379838 0.74593451 0.55725984 0.76325403\n",
      "  0.72846208 0.76237717 0.80254378 0.92401921 1.04636909 1.08866997\n",
      "  0.98566396 0.66015749 0.75720387 0.53568905 0.368729   0.39291767\n",
      "  0.93280965 0.63910977 0.88890829 0.21646659 0.37878783 0.89241142\n",
      "  0.99158766 0.4544442  0.8283058  0.27373356]\n",
      " [0.24147896 0.31454149 0.32552438 0.86068773 0.6103278  0.4821829\n",
      "  0.37688134 0.29230051 0.29941107 0.26253174 0.2180806  0.23604373\n",
      "  0.56499643 0.09229163 0.70508389 0.42353555 0.28202944 0.78710593\n",
      "  0.40822813 0.35038532 0.78181496 0.48888338 0.54633286 0.17747236\n",
      "  0.72587807 0.39677202 0.37812586 0.53033456 0.55152542 0.34511699\n",
      "  0.1340589  0.77076456 0.11759063 0.61615203 0.27892611 0.20523242\n",
      "  0.40456822 0.16498603 0.81878988 0.54496563 0.38406299 0.13493812\n",
      "  0.79582661 0.79736636 0.35954721 0.46127939 0.34231292 0.19176764\n",
      "  0.0618432  0.3921609  0.         0.32337703 0.55608136 0.14367846\n",
      "  0.89412032 0.79677521 0.81449947 0.70886593 0.49272839 0.48209392\n",
      "  0.34569336 0.62612626 0.29994228 0.25897497 0.73724557 0.7932503\n",
      "  0.06940549 0.69136066 0.28908883 0.42501049 0.33956579 0.24211602\n",
      "  0.50583912 0.80465881 0.53017452 0.75018048 0.5590313  0.41364724\n",
      "  0.34320205 0.75406223 0.70477041 0.74295361 0.77682675 0.81318039\n",
      "  0.83292493 0.78985763 0.7583043  0.2106216  0.2032211  0.17412138\n",
      "  0.63818249 0.6524933  0.71961639 0.26810883 0.41429997 0.54512863\n",
      "  0.69044146 0.30102056 0.56264174 0.41410578]\n",
      " [0.5294604  0.5436442  0.22429377 0.99826255 0.58539148 0.1652583\n",
      "  0.06848592 0.42673086 0.26596966 0.20111526 0.54071718 0.28357618\n",
      "  0.4959653  0.26358837 0.83989566 0.74672361 0.33215944 0.5676656\n",
      "  0.71588715 0.26614067 0.64582533 0.44657505 0.64481468 0.49506828\n",
      "  0.48212267 0.71977228 0.69755313 0.27744319 0.51809391 0.07446532\n",
      "  0.38963578 0.55951455 0.43983527 0.5729143  0.33367599 0.11886885\n",
      "  0.40955372 0.45466123 0.97916976 0.30348603 0.13487237 0.45818619\n",
      "  0.80662229 0.73841165 0.24300897 0.20047101 0.64886333 0.48776965\n",
      "  0.29941118 0.11098715 0.32337703 0.         0.82238185 0.18039821\n",
      "  0.99636576 0.63812547 0.70837462 0.89403987 0.81429593 0.58721323\n",
      "  0.668757   0.50563966 0.6122376  0.57452635 0.82709967 0.86113501\n",
      "  0.36016131 0.57586199 0.13410117 0.48337881 0.06780938 0.44148147\n",
      "  0.53032421 0.90166459 0.85345972 0.65261326 0.45873672 0.66507585\n",
      "  0.66650605 0.66729147 0.69677653 0.81372985 0.93626712 0.97875391\n",
      "  0.87699234 0.59292755 0.66356854 0.49785599 0.26256971 0.29057018\n",
      "  0.82478367 0.54490263 0.77895108 0.23572316 0.27707796 0.79223549\n",
      "  0.88385926 0.34384878 0.71878413 0.1854054 ]\n",
      " [0.31483292 0.28177072 0.88138127 0.48016138 0.64354653 0.94241941\n",
      "  0.84846909 0.42729961 0.61524517 0.64896363 0.40386894 0.55881774\n",
      "  0.6902172  0.56971995 0.39272848 0.39969422 0.5341361  1.03240586\n",
      "  0.21682096 0.66016257 0.90325178 0.63117805 0.42031939 0.40210307\n",
      "  1.02286771 0.35445558 0.30236232 0.89598482 0.63567635 0.870483\n",
      "  0.62159966 1.00793666 0.49323197 0.6735216  0.53035234 0.72502972\n",
      "  0.56134404 0.39128087 0.40645296 0.89237161 0.92120452 0.47262986\n",
      "  0.67518782 0.79298126 0.69110508 0.86031771 0.25080066 0.36512025\n",
      "  0.54319263 0.91881222 0.55608136 0.82238185 0.         0.66193068\n",
      "  0.57065869 0.94764699 0.87887823 0.28495846 0.32383684 0.40673847\n",
      "  0.40585    0.78810285 0.29789956 0.33701057 0.49872381 0.57078927\n",
      "  0.4914139  0.81680097 0.83513272 0.48703637 0.86358887 0.38444504\n",
      "  0.53982385 0.52221057 0.41509763 0.82485107 0.72965811 0.15863045\n",
      "  0.39529236 0.81061502 0.65806408 0.53797318 0.38051653 0.39227727\n",
      "  0.63828441 1.00040875 0.82545703 0.58265885 0.56729293 0.5334271\n",
      "  0.24937273 0.78401341 0.54770328 0.82399248 0.72172086 0.06842205\n",
      "  0.2562498  0.53500346 0.30525747 0.80523418]\n",
      " [0.35725211 0.39297754 0.24510419 0.90049733 0.56697474 0.3386867\n",
      "  0.23348005 0.31048552 0.2251649  0.16481348 0.36035233 0.19160955\n",
      "  0.50063774 0.09221921 0.74109471 0.56717119 0.24907122 0.6722317\n",
      "  0.53916221 0.26211551 0.69726413 0.43194462 0.5596608  0.315079\n",
      "  0.60220036 0.53943669 0.51753885 0.40020919 0.50191685 0.21128404\n",
      "  0.23292471 0.65843334 0.26101602 0.56496021 0.2480864  0.06515738\n",
      "  0.3631563  0.28031881 0.86963061 0.41832311 0.25932071 0.27860034\n",
      "  0.77377504 0.74456269 0.25971519 0.32711145 0.47219264 0.31251392\n",
      "  0.12249364 0.25966117 0.14367846 0.18039821 0.66193068 0.\n",
      "  0.91690997 0.70385191 0.74245679 0.77117429 0.63396222 0.49632387\n",
      "  0.48936402 0.54339411 0.43377197 0.39514609 0.7513831  0.79783754\n",
      "  0.18209534 0.61264427 0.17705905 0.4118338  0.20488411 0.29715668\n",
      "  0.48067023 0.82354626 0.67374646 0.68020027 0.48155246 0.50867226\n",
      "  0.48678232 0.68860094 0.67203409 0.74792856 0.82663145 0.86661951\n",
      "  0.82696585 0.68282166 0.68967286 0.3345164  0.15611144 0.15909505\n",
      "  0.70016179 0.57573896 0.71857211 0.20742195 0.31315026 0.63957394\n",
      "  0.75689172 0.26704195 0.6066716  0.2850689 ]\n",
      " [0.72571714 0.60304955 1.16039617 0.11122191 0.463571   1.03191626\n",
      "  0.98118044 0.6100697  0.73069774 0.7978691  0.86400185 0.73047316\n",
      "  0.56735138 0.84564743 0.19828548 0.94695247 0.67417978 0.85770979\n",
      "  0.75551463 0.7354262  0.65018065 0.57508177 0.35741895 0.82862682\n",
      "  0.90546174 0.89592718 0.83653722 0.89672589 0.51688212 1.06787832\n",
      "  1.01389769 0.8330074  0.90276375 0.49331391 0.67403261 0.9572061\n",
      "  0.58797756 0.76635745 0.18701924 0.87564513 1.1290319  0.8905578\n",
      "  0.28964742 0.46233315 0.76409614 0.91006444 0.75401735 0.76330182\n",
      "  0.84539954 1.10717684 0.89412032 0.99636576 0.57065869 0.91690997\n",
      "  0.         0.7063466  0.57773041 0.28848002 0.88887535 0.42061725\n",
      "  0.92826811 0.63594273 0.78571091 0.8067784  0.16931497 0.15442603\n",
      "  0.82842976 0.61050575 1.08022543 0.51405906 1.06053055 0.6524175\n",
      "  0.47080742 0.09470636 0.98156538 0.56107922 0.62372946 0.57276215\n",
      "  0.91710371 0.53544757 0.37514111 0.19050775 0.19561062 0.20390648\n",
      "  0.18958391 0.80063069 0.55344415 1.02844918 0.76303032 0.75901705\n",
      "  0.32515271 0.60300242 0.2303215  1.12350424 0.75286354 0.51109321\n",
      "  0.31686607 0.65886468 0.34078143 0.87070305]\n",
      " [0.82813655 0.73367612 0.86227895 0.77890594 0.30790249 0.55443531\n",
      "  0.58007829 0.59326007 0.49738427 0.54197717 0.93643104 0.56448551\n",
      "  0.26521195 0.70521691 0.67846726 1.12797017 0.53196667 0.16568639\n",
      "  0.99136139 0.44758145 0.0561661  0.3388567  0.53708155 0.87858669\n",
      "  0.24910126 1.08056725 1.02963609 0.38014406 0.31375016 0.70468347\n",
      "  0.92360119 0.14613297 0.88939497 0.27572376 0.53617594 0.69217787\n",
      "  0.4287657  0.79873641 0.81348682 0.35000511 0.75391466 0.89445559\n",
      "  0.41729696 0.24815547 0.44452283 0.44660857 0.94174139 0.82367658\n",
      "  0.73644139 0.7167843  0.79677521 0.63812547 0.94764699 0.70385191\n",
      "  0.7063466  0.         0.13862517 0.81164685 1.13914959 0.54093749\n",
      "  1.06518169 0.17642113 0.93614821 0.92264769 0.58310651 0.55692865\n",
      "  0.77238065 0.13097542 0.7707498  0.47438745 0.69998909 0.67454896\n",
      "  0.40870607 0.63692145 1.21650525 0.14639985 0.2455752  0.82248368\n",
      "  1.05709549 0.17125592 0.3424372  0.53920346 0.78396498 0.82410898\n",
      "  0.51868836 0.10261335 0.15311554 1.00634886 0.59432794 0.62879963\n",
      "  0.77452951 0.16623091 0.50169937 0.86536113 0.39070201 0.88374293\n",
      "  0.82283425 0.51612987 0.66465376 0.45282279]\n",
      " [0.8046345  0.69654375 0.92858674 0.65740038 0.24117988 0.6506164\n",
      "  0.65786804 0.57292553 0.52122917 0.57768061 0.92565135 0.57852811\n",
      "  0.24993061 0.7265266  0.57215813 1.10366919 0.535229   0.30376472\n",
      "  0.95083642 0.48039566 0.08787849 0.32755176 0.45891248 0.86927729\n",
      "  0.38062135 1.053803   0.99912593 0.47678054 0.2760613  0.7795685\n",
      "  0.94658427 0.28291495 0.89411718 0.21793527 0.5388741  0.74261622\n",
      "  0.41722996 0.78794163 0.69877103 0.44703694 0.83369341 0.89577324\n",
      "  0.2883731  0.11540168 0.4866957  0.5324624  0.90804685 0.80866869\n",
      "  0.75271479 0.79867031 0.81449947 0.70837462 0.87887823 0.74245679\n",
      "  0.57773041 0.13862517 0.         0.71129692 1.10181419 0.47782266\n",
      "  1.04722628 0.2034003  0.90953277 0.90225423 0.46833562 0.43305266\n",
      "  0.77917104 0.13274865 0.83594486 0.43770388 0.77401811 0.6550544\n",
      "  0.35855359 0.5148929  1.18458458 0.06469254 0.26092112 0.769244\n",
      "  1.0382034  0.06938514 0.2335277  0.42214179 0.67282728 0.71069703\n",
      "  0.38838493 0.24100189 0.05836877 1.01843922 0.6125113  0.64084739\n",
      "  0.68265055 0.16712588 0.38771278 0.92283446 0.43850666 0.81224778\n",
      "  0.72574756 0.51709569 0.58167701 0.52577957]\n",
      " [0.49797391 0.39470704 1.01366389 0.19541292 0.50981729 0.97363981\n",
      "  0.89867272 0.46831903 0.63936446 0.69554419 0.62551066 0.61050998\n",
      "  0.59149415 0.68556019 0.14350782 0.67460026 0.56381178 0.93249227\n",
      "  0.48372852 0.66557498 0.75922173 0.5603286  0.29420105 0.60194591\n",
      "  0.95077497 0.62558175 0.56823    0.87792565 0.53202671 0.9572148\n",
      "  0.80991933 0.90679573 0.68684801 0.54383966 0.5617721  0.82455507\n",
      "  0.52706964 0.55645772 0.12504969 0.86497493 1.0155993  0.67054012\n",
      "  0.45453143 0.6063443  0.69801567 0.86623836 0.4945065  0.54371527\n",
      "  0.67323247 1.00248266 0.70886593 0.89403987 0.28495846 0.77117429\n",
      "  0.28848002 0.81164685 0.71129692 0.         0.60742877 0.32774024\n",
      "  0.66641198 0.68430867 0.53316773 0.56198032 0.25838123 0.32214128\n",
      "  0.63951374 0.68893603 0.946918   0.43954344 0.94978701 0.47623345\n",
      "  0.44663476 0.25576828 0.69940606 0.67059159 0.6438564  0.32238336\n",
      "  0.65530101 0.65003761 0.47777881 0.30520877 0.09555822 0.11344507\n",
      "  0.39071796 0.88686715 0.66746019 0.80142373 0.63436974 0.61550113\n",
      "  0.07117301 0.66566762 0.33023773 0.96585683 0.70807261 0.23094336\n",
      "  0.02872825 0.55493801 0.18026069 0.81636197]\n",
      " [0.32016665 0.40650739 0.78668919 0.80283233 0.86103515 0.96718092\n",
      "  0.86247385 0.54872226 0.69855318 0.70052267 0.27481834 0.6262296\n",
      "  0.87429505 0.55561191 0.70107861 0.10793131 0.63182183 1.18504348\n",
      "  0.15176155 0.75360492 1.10479251 0.80074028 0.67007185 0.31979949\n",
      "  1.14930002 0.10097832 0.11929958 0.97949883 0.83124649 0.83723719\n",
      "  0.48316318 1.16344194 0.38189823 0.88433353 0.6273044  0.69743366\n",
      "  0.7128958  0.37574141 0.73008833 0.98591226 0.8721588  0.36105746\n",
      "  0.95023288 1.03651978 0.77730173 0.92256682 0.19795422 0.3430372\n",
      "  0.51730353 0.88359168 0.49272839 0.81429593 0.32383684 0.63396222\n",
      "  0.88887535 1.13914959 1.10181419 0.60742877 0.         0.63158329\n",
      "  0.16803842 0.96498911 0.21392612 0.24379038 0.79601083 0.86847025\n",
      "  0.45676607 1.01144296 0.7741152  0.6673733  0.83189697 0.47096525\n",
      "  0.74334264 0.83146791 0.09284467 1.04066073 0.89771078 0.34499705\n",
      "  0.16430398 1.03259221 0.90722895 0.82880361 0.70276417 0.71606193\n",
      "  0.93241134 1.16801796 1.04425065 0.39645315 0.61495283 0.57310419\n",
      "  0.56379871 0.97372685 0.8294851  0.72309854 0.82370644 0.37807347\n",
      "  0.57887126 0.64231787 0.5852611  0.86904027]\n",
      " [0.36455458 0.23985058 0.74021136 0.41123264 0.23834118 0.65021851\n",
      "  0.58233331 0.19145162 0.32306937 0.3861412  0.5023417  0.31181657\n",
      "  0.28727629 0.4264124  0.25271347 0.64813338 0.25711417 0.63346665\n",
      "  0.47982708 0.34176643 0.4968068  0.23961176 0.06448309 0.45423597\n",
      "  0.63690614 0.59615266 0.53796023 0.55036202 0.23046028 0.65589931\n",
      "  0.60903255 0.60834426 0.51159342 0.26718793 0.25640139 0.53810448\n",
      "  0.19954369 0.37894316 0.39469522 0.53810029 0.71647753 0.5041087\n",
      "  0.33622318 0.40506632 0.37371847 0.53950518 0.44538662 0.38676817\n",
      "  0.4292871  0.69798327 0.48209392 0.58721323 0.40673847 0.49632387\n",
      "  0.42061725 0.54093749 0.47782266 0.32774024 0.63158329 0.\n",
      "  0.60328924 0.38522945 0.45709803 0.46107749 0.25691647 0.31121838\n",
      "  0.42050374 0.41016151 0.6616828  0.11219298 0.64845907 0.24761161\n",
      "  0.1348616  0.32764029 0.71841163 0.42074635 0.33243955 0.29219037\n",
      "  0.59303433 0.40862652 0.27643005 0.26098404 0.35240829 0.39603267\n",
      "  0.35441798 0.59704658 0.4223455  0.64236719 0.34317711 0.33849822\n",
      "  0.2679372  0.37805467 0.24003057 0.70291596 0.38058975 0.34308249\n",
      "  0.32643222 0.24369962 0.14864986 0.49085998]\n",
      " [0.24339201 0.36346181 0.62249583 0.85676268 0.81221001 0.82757598\n",
      "  0.72223614 0.47512783 0.59217026 0.58076924 0.13566556 0.51861324\n",
      "  0.80581689 0.4209778  0.73146942 0.07807812 0.53729655 1.09008229\n",
      "  0.18902961 0.64807142 1.03738495 0.72851562 0.65383718 0.19240744\n",
      "  1.04324203 0.06923604 0.10402386 0.86027228 0.77128329 0.68429749\n",
      "  0.31765129 1.07036754 0.22900702 0.83040952 0.53286673 0.5501167\n",
      "  0.63736674 0.26786541 0.79140434 0.87047295 0.71490765 0.21076461\n",
      "  0.93763402 0.99735742 0.66732269 0.79701931 0.17426696 0.24151326\n",
      "  0.3816372  0.72924357 0.34569336 0.668757   0.40585    0.48936402\n",
      "  0.92826811 1.06518169 1.04722628 0.66641198 0.16803842 0.60328924\n",
      "  0.         0.88877179 0.14756686 0.14515633 0.80978109 0.87980932\n",
      "  0.32442506 0.9431066  0.61609274 0.61058287 0.67946428 0.39283638\n",
      "  0.69329444 0.85776744 0.18495823 0.98358035 0.81971307 0.35565023\n",
      "  0.01117663 0.97954235 0.8766915  0.83483268 0.7576781  0.77961851\n",
      "  0.93789415 1.08077869 0.98886337 0.22843478 0.49985949 0.45853141\n",
      "  0.60970094 0.90404548 0.82734162 0.55878588 0.71809914 0.43971151\n",
      "  0.63954694 0.55129833 0.59760724 0.74593221]\n",
      " [0.65225036 0.56095741 0.72521896 0.68793207 0.17923855 0.45998055\n",
      "  0.45718218 0.41763404 0.32755735 0.3788421  0.76012476 0.39150063\n",
      "  0.09807611 0.53561981 0.56354764 0.95183878 0.35633761 0.24963401\n",
      "  0.81839474 0.28189583 0.15573163 0.16442375 0.39453972 0.7023267\n",
      "  0.2726739  0.90471119 0.85435774 0.29210603 0.15559818 0.57747921\n",
      "  0.7554691  0.22415502 0.71514325 0.14599829 0.36048231 0.54031799\n",
      "  0.25291632 0.62235857 0.70801682 0.26452787 0.63267234 0.71951987\n",
      "  0.36802517 0.24530189 0.28508587 0.3372584  0.76724094 0.64726297\n",
      "  0.56504611 0.59849732 0.62612626 0.50563966 0.78810285 0.54339411\n",
      "  0.63594273 0.17642113 0.2034003  0.68430867 0.96498911 0.38522945\n",
      "  0.88877179 0.         0.7604576  0.74638414 0.48694181 0.48154226\n",
      "  0.59831722 0.07069214 0.63257321 0.30512647 0.57176547 0.49854803\n",
      "  0.25037895 0.552646   1.04119352 0.1474574  0.06922964 0.65530773\n",
      "  0.88070707 0.16465321 0.26321139 0.45027211 0.6731489  0.71605234\n",
      "  0.46372315 0.21232564 0.1587071  0.83432131 0.42292676 0.45557538\n",
      "  0.63789566 0.04201279 0.40984124 0.71979707 0.23548005 0.72676563\n",
      "  0.69113951 0.3401401  0.52171976 0.32479682]\n",
      " [0.10860839 0.21785401 0.61709481 0.71906556 0.67177268 0.75971102\n",
      "  0.65601794 0.34289274 0.48476982 0.4873162  0.10717773 0.4123194\n",
      "  0.67320349 0.34947033 0.58796919 0.19418199 0.41954009 0.97415226\n",
      "  0.10919663 0.53996646 0.90502498 0.59742338 0.50655922 0.12324667\n",
      "  0.93605329 0.144689   0.09587788 0.76577225 0.63472245 0.64289284\n",
      "  0.33262284 0.95305341 0.20806962 0.69178147 0.4150196  0.49867185\n",
      "  0.50754413 0.16306732 0.65723345 0.77199521 0.68390504 0.18599922\n",
      "  0.79051628 0.85473072 0.56340717 0.70985498 0.04837428 0.1298129\n",
      "  0.31282725 0.69060613 0.29994228 0.6122376  0.29789956 0.43377197\n",
      "  0.78571091 0.93614821 0.90953277 0.53316773 0.21392612 0.45709803\n",
      "  0.14756686 0.7604576  0.         0.04306763 0.66312064 0.7327744\n",
      "  0.25211263 0.81092002 0.58885227 0.47182954 0.63696059 0.26221997\n",
      "  0.55269095 0.71273633 0.28131585 0.84665469 0.69215424 0.21394562\n",
      "  0.13688203 0.8411077  0.73182799 0.68749928 0.62137809 0.64655124\n",
      "  0.79044488 0.95953297 0.85130878 0.28477966 0.40137858 0.35961572\n",
      "  0.47230697 0.77238495 0.67977564 0.55552897 0.61016085 0.31581501\n",
      "  0.5075975  0.43093699 0.4516703  0.65596448]\n",
      " [0.09834183 0.2217185  0.57435964 0.74443576 0.66706635 0.72447755\n",
      "  0.62019306 0.33082392 0.45990742 0.45758515 0.06697361 0.38665642\n",
      "  0.66187454 0.31311185 0.60853036 0.20586458 0.39897035 0.95387429\n",
      "  0.15196296 0.51559632 0.8936643  0.5849662  0.51399169 0.08154468\n",
      "  0.91214916 0.16178841 0.12467108 0.73725773 0.62640485 0.60308492\n",
      "  0.28993454 0.93338033 0.16500248 0.68530022 0.39447473 0.459745\n",
      "  0.49410865 0.13340163 0.68502992 0.74475997 0.64302454 0.14293933\n",
      "  0.79672762 0.85245888 0.53751717 0.67907602 0.09072792 0.10232903\n",
      "  0.27553723 0.65057142 0.25897497 0.57452635 0.33701057 0.39514609\n",
      "  0.8067784  0.92264769 0.90225423 0.56198032 0.24379038 0.46107749\n",
      "  0.14515633 0.74638414 0.04306763 0.         0.6781186  0.74647109\n",
      "  0.21468999 0.79938906 0.54742173 0.46543373 0.5972758  0.248668\n",
      "  0.548177   0.73084438 0.3019991  0.83871222 0.67755206 0.23993526\n",
      "  0.13595411 0.8344716  0.73278352 0.70000706 0.64799916 0.67500172\n",
      "  0.80203458 0.94174766 0.8438996  0.2465958  0.37278121 0.33085374\n",
      "  0.49888524 0.76047001 0.68990051 0.5126584  0.58594214 0.35042342\n",
      "  0.53722933 0.41174128 0.46912536 0.62582983]\n",
      " [0.58957358 0.46282192 0.99374673 0.20100468 0.30888429 0.8645092\n",
      "  0.81207873 0.44826772 0.56153143 0.62891762 0.72995008 0.56323456\n",
      "  0.40942312 0.68330473 0.11540717 0.83909827 0.50650164 0.72237325\n",
      "  0.65185468 0.56628089 0.52793223 0.40937999 0.19255187 0.68895722\n",
      "  0.75949417 0.78675304 0.72654027 0.73402064 0.35545821 0.89874095\n",
      "  0.86139302 0.69695054 0.75653942 0.34115037 0.50654119 0.78981278\n",
      "  0.41870306 0.62059501 0.23085182 0.71430508 0.95991676 0.74636668\n",
      "  0.19682578 0.35734148 0.59517259 0.74368669 0.63806608 0.62190792\n",
      "  0.68575887 0.93788728 0.73724557 0.82709967 0.49872381 0.7513831\n",
      "  0.16931497 0.58310651 0.46833562 0.25838123 0.79601083 0.25691647\n",
      "  0.80978109 0.48694181 0.66312064 0.6781186  0.         0.07262708\n",
      "  0.67369587 0.47260718 0.91242131 0.34530766 0.89140378 0.49808758\n",
      "  0.30237368 0.07471755 0.88837231 0.43718918 0.46600197 0.4584637\n",
      "  0.79880018 0.41373646 0.24067721 0.04761993 0.20501009 0.24239741\n",
      "  0.13960471 0.66956061 0.43186087 0.88530049 0.59649145 0.5946957\n",
      "  0.25531154 0.45845441 0.0814279  0.95854989 0.58541449 0.43181489\n",
      "  0.27949522 0.49075786 0.21312281 0.70301566]\n",
      " [0.65628372 0.52896592 1.0373535  0.22455333 0.31045087 0.88587482\n",
      "  0.840927   0.50169953 0.59798655 0.66659706 0.79674044 0.60730211\n",
      "  0.41478394 0.7344499  0.18268542 0.91049436 0.54987481 0.7051112\n",
      "  0.72387044 0.59652486 0.50087503 0.42818566 0.24730298 0.75409932\n",
      "  0.75117492 0.85807823 0.79786831 0.74566074 0.36643007 0.93406075\n",
      "  0.91995096 0.68020528 0.81878528 0.33946207 0.55041065 0.83235857\n",
      "  0.45178046 0.68362575 0.27337374 0.72378895 0.99527111 0.80954751\n",
      "  0.14716641 0.31843884 0.6235504  0.76258548 0.70884307 0.68670866\n",
      "  0.7396678  0.97116102 0.7932503  0.86113501 0.57078927 0.79783754\n",
      "  0.15442603 0.55692865 0.43305266 0.32214128 0.86847025 0.31121838\n",
      "  0.87980932 0.48154226 0.7327744  0.74647109 0.07262708 0.\n",
      "  0.73153721 0.45691685 0.95348779 0.38671256 0.92683471 0.55729597\n",
      "  0.33090103 0.08249693 0.96077243 0.41076376 0.47087883 0.52997197\n",
      "  0.86887886 0.38567718 0.22113996 0.05036497 0.25612926 0.28738629\n",
      "  0.06892206 0.64903007 0.40383849 0.9484925  0.64187565 0.64381553\n",
      "  0.32564656 0.44864805 0.08232084 1.0052382  0.60776358 0.50411659\n",
      "  0.34526042 0.53298901 0.28467984 0.72566424]\n",
      " [0.17892652 0.24513601 0.39049906 0.79271025 0.5651142  0.51041498\n",
      "  0.40579214 0.23426729 0.27914092 0.25784504 0.18940281 0.20832763\n",
      "  0.52936763 0.09886626 0.63789013 0.39997986 0.24414464 0.77692345\n",
      "  0.35707245 0.33382191 0.75300256 0.45164298 0.48423826 0.13729026\n",
      "  0.72330293 0.36628779 0.3386347  0.5362277  0.50978546 0.39265372\n",
      "  0.18857787 0.75888887 0.11704514 0.57397527 0.24039177 0.24720911\n",
      "  0.36336217 0.10107813 0.74988948 0.54735262 0.43710322 0.12419337\n",
      "  0.74133019 0.75380602 0.34889898 0.47266234 0.29011942 0.13158246\n",
      "  0.06085358 0.4407972  0.06940549 0.36016131 0.4914139  0.18209534\n",
      "  0.82842976 0.77238065 0.77917104 0.63951374 0.45676607 0.42050374\n",
      "  0.32442506 0.59831722 0.25211263 0.21468999 0.67369587 0.73153721\n",
      "  0.         0.66057817 0.34605344 0.37255003 0.386464   0.17609902\n",
      "  0.45568127 0.73990999 0.50455559 0.71450646 0.52975821 0.34594243\n",
      "  0.31984308 0.71628752 0.65452719 0.68140141 0.70804239 0.74412396\n",
      "  0.77361914 0.77416422 0.72192367 0.23975906 0.18220663 0.14413161\n",
      "  0.56887283 0.62126396 0.6596773  0.33501789 0.40199895 0.47773288\n",
      "  0.62103723 0.26208376 0.49488068 0.42154883]\n",
      " [0.70358443 0.60524407 0.79583821 0.6724174  0.1802084  0.52442953\n",
      "  0.52634471 0.46871586 0.39435484 0.44788739 0.81684643 0.45568326\n",
      "  0.13771694 0.60171039 0.56014721 1.00383167 0.41690576 0.24977908\n",
      "  0.86277446 0.35066944 0.09428275 0.21461268 0.40852439 0.75944969\n",
      "  0.29742021 0.95558037 0.90347904 0.35310197 0.18301166 0.6473723\n",
      "  0.82188054 0.2244138  0.77690586 0.14690346 0.42086156 0.61072926\n",
      "  0.30589881 0.67871287 0.70005747 0.32424656 0.70205406 0.78024989\n",
      "  0.3301695  0.18697961 0.35517153 0.40359728 0.8145891  0.70207655\n",
      "  0.62991245 0.66746856 0.69136066 0.57586199 0.81680097 0.61264427\n",
      "  0.61050575 0.13097542 0.13274865 0.68893603 1.01144296 0.41016151\n",
      "  0.9431066  0.07069214 0.81092002 0.79938906 0.47260718 0.45691685\n",
      "  0.66057817 0.         0.70319621 0.34494678 0.6417407  0.55072816\n",
      "  0.27773733 0.53294436 1.09024224 0.07983648 0.13255973 0.69188073\n",
      "  0.93466617 0.10092605 0.23589814 0.43181784 0.66796295 0.70952713\n",
      "  0.42993655 0.19861353 0.09149958 0.89818895 0.48826408 0.51923622\n",
      "  0.64848111 0.03941832 0.39235685 0.7904369  0.30608871 0.75312269\n",
      "  0.69857312 0.39976766 0.53647236 0.3940352 ]\n",
      " [0.52495082 0.56973463 0.09264794 1.07042351 0.69585979 0.27821439\n",
      "  0.1995476  0.48222674 0.35778936 0.28865848 0.50079501 0.34999584\n",
      "  0.61349886 0.26777685 0.91082002 0.69353122 0.40605041 0.70136166\n",
      "  0.69730999 0.3737806  0.77646515 0.55636786 0.72333883 0.46590595\n",
      "  0.61436111 0.67492191 0.66345753 0.41086099 0.6285369  0.08761469\n",
      "  0.30842695 0.69351497 0.39232281 0.68712852 0.40621015 0.12384921\n",
      "  0.50493534 0.44709718 1.04282889 0.43735784 0.09899085 0.41353046\n",
      "  0.913133   0.85875135 0.3569966  0.33427464 0.63135823 0.47722876\n",
      "  0.29194054 0.11987803 0.28908883 0.13410117 0.83513272 0.17705905\n",
      "  1.08022543 0.7707498  0.83594486 0.946918   0.7741152  0.6616828\n",
      "  0.61609274 0.63257321 0.58885227 0.54742173 0.91242131 0.95348779\n",
      "  0.34605344 0.70319621 0.         0.56769892 0.08739758 0.47412994\n",
      "  0.62657122 0.98594803 0.79979298 0.7783336  0.58125621 0.68395146\n",
      "  0.61598683 0.79150369 0.8058477  0.90448784 0.9997516  1.04043614\n",
      "  0.97612629 0.72701882 0.7889928  0.41681034 0.31899647 0.33185899\n",
      "  0.87605096 0.67056907 0.87234895 0.10511074 0.3990401  0.81535461\n",
      "  0.933196   0.42168906 0.77969252 0.31808228]\n",
      " [0.36741108 0.26086593 0.65069901 0.5167836  0.20215182 0.53873831\n",
      "  0.47390006 0.14242196 0.21742379 0.28386448 0.4933353  0.22069957\n",
      "  0.20953872 0.35466798 0.36064495 0.66596846 0.16320442 0.54561755\n",
      "  0.51801132 0.23077763 0.43767445 0.14425875 0.16246295 0.43893284\n",
      "  0.53840641 0.61615746 0.56195681 0.43950786 0.16391469 0.55412485\n",
      "  0.55783502 0.52135131 0.47834115 0.22006682 0.16386871 0.44585989\n",
      "  0.08753366 0.35810399 0.50517635 0.42841855 0.61520235 0.47558985\n",
      "  0.37096845 0.38996402 0.2623587  0.42731275 0.4715941  0.37515988\n",
      "  0.36636977 0.59435992 0.42501049 0.48337881 0.48703637 0.4118338\n",
      "  0.51405906 0.47438745 0.43770388 0.43954344 0.6673733  0.11219298\n",
      "  0.61058287 0.30512647 0.47182954 0.46543373 0.34530766 0.38671256\n",
      "  0.37255003 0.34494678 0.56769892 0.         0.54674988 0.22160339\n",
      "  0.08487639 0.41942381 0.74805239 0.37496461 0.2433316  0.35019625\n",
      "  0.60132789 0.36938817 0.28223454 0.33721929 0.46328631 0.50716949\n",
      "  0.41566589 0.516165   0.37948576 0.60850078 0.25572266 0.26181125\n",
      "  0.37809764 0.30817182 0.30680192 0.61903235 0.26854055 0.42899081\n",
      "  0.43720798 0.14633224 0.25969533 0.37888187]\n",
      " [0.56203233 0.58876884 0.167287   1.05968318 0.65309715 0.19090051\n",
      "  0.12047    0.48147349 0.32988235 0.26302107 0.55707964 0.34031989\n",
      "  0.56372083 0.29562441 0.90077756 0.757478   0.39183392 0.62134754\n",
      "  0.74334734 0.33316617 0.70976677 0.51416353 0.70725431 0.51621275\n",
      "  0.53181248 0.73469554 0.71767426 0.33109493 0.58577071 0.00745936\n",
      "  0.38270296 0.61487965 0.45148599 0.64072328 0.39296105 0.13990309\n",
      "  0.47505551 0.48520263 1.03827435 0.35887265 0.06852292 0.47146611\n",
      "  0.87414683 0.80583911 0.31064866 0.25634048 0.67648266 0.5173416\n",
      "  0.32736057 0.05522677 0.33956579 0.06780938 0.86358887 0.20488411\n",
      "  1.06053055 0.69998909 0.77401811 0.94978701 0.83189697 0.64845907\n",
      "  0.67946428 0.57176547 0.63696059 0.5972758  0.89140378 0.92683471\n",
      "  0.386464   0.6417407  0.08739758 0.54674988 0.         0.48826958\n",
      "  0.59628794 0.96583092 0.86430633 0.71898171 0.52603257 0.70809551\n",
      "  0.67831046 0.73406319 0.76444151 0.87909842 0.99526    1.0372935\n",
      "  0.94375628 0.65026304 0.73001745 0.49198634 0.31550861 0.3385065\n",
      "  0.87987481 0.61139565 0.84475871 0.19220078 0.34468514 0.83737531\n",
      "  0.93846039 0.40476914 0.77658858 0.24896246]\n",
      " [0.1537614  0.10288226 0.5375993  0.61942211 0.42352297 0.55826208\n",
      "  0.46421831 0.08229779 0.24004337 0.26527927 0.27185746 0.17623748\n",
      "  0.4132097  0.20945127 0.46308771 0.45345866 0.16444102 0.71412412\n",
      "  0.33177121 0.29148563 0.64500037 0.33638015 0.31027009 0.21740765\n",
      "  0.6816763  0.40619188 0.35700621 0.52661616 0.37899453 0.49547218\n",
      "  0.36330631 0.69247712 0.26470409 0.43937653 0.16003116 0.35466759\n",
      "  0.24578687 0.13701783 0.58054638 0.52804528 0.55038054 0.25873175\n",
      "  0.57730322 0.61155285 0.31929689 0.48217613 0.27359973 0.15392172\n",
      "  0.19845397 0.54301214 0.24211602 0.44148147 0.38444504 0.29715668\n",
      "  0.6524175  0.67454896 0.6550544  0.47623345 0.47096525 0.24761161\n",
      "  0.39283638 0.49854803 0.26221997 0.248668   0.49808758 0.55729597\n",
      "  0.17609902 0.55072816 0.47412994 0.22160339 0.48826958 0.\n",
      "  0.30622002 0.5638375  0.54344901 0.59113474 0.43005416 0.22585305\n",
      "  0.38416758 0.5879274  0.49963669 0.50741282 0.53805439 0.57601438\n",
      "  0.60201787 0.69771247 0.59669174 0.39578031 0.18288797 0.15091235\n",
      "  0.40506119 0.51183975 0.48764189 0.48987559 0.35959661 0.35080746\n",
      "  0.46071274 0.1725788  0.32133217 0.42676645]\n",
      " [0.44990502 0.338118   0.71304279 0.49073265 0.11909085 0.56245061\n",
      "  0.51096127 0.227267   0.26900736 0.33809721 0.57771632 0.28963574\n",
      "  0.15249473 0.43130294 0.34398766 0.74682625 0.23301653 0.49895277\n",
      "  0.59258896 0.26579461 0.36715359 0.11482068 0.15248616 0.52361808\n",
      "  0.50624724 0.69639243 0.64102657 0.44016759 0.09590572 0.60347568\n",
      "  0.63936997 0.47374367 0.56281077 0.14106872 0.23473913 0.50797105\n",
      "  0.12180675 0.44289532 0.49206864 0.4238106  0.66464862 0.56033634\n",
      "  0.2937764  0.3054145  0.2935778  0.44290459 0.54964887 0.4594628\n",
      "  0.44606774 0.64026142 0.50583912 0.53032421 0.53982385 0.48067023\n",
      "  0.47080742 0.40870607 0.35855359 0.44663476 0.74334264 0.1348616\n",
      "  0.69329444 0.25037895 0.55269095 0.548177   0.30237368 0.33090103\n",
      "  0.45568127 0.27773733 0.62657122 0.08487639 0.59628794 0.30622002\n",
      "  0.         0.37686416 0.82612624 0.29748223 0.19964939 0.41527843\n",
      "  0.6838551  0.28947142 0.19906657 0.28417233 0.45259693 0.49684316\n",
      "  0.34955642 0.46222082 0.30090838 0.69269372 0.32603593 0.33806209\n",
      "  0.39372898 0.24420068 0.24865329 0.68603519 0.28357125 0.47724476\n",
      "  0.44976272 0.21431327 0.27512291 0.40083646]\n",
      " [0.6458774  0.52083735 1.06659237 0.14252643 0.37677915 0.93869942\n",
      "  0.88678878 0.51813502 0.63599268 0.70319997 0.78553443 0.63637321\n",
      "  0.47920154 0.75365236 0.13049915 0.8819482  0.5799059  0.78224239\n",
      "  0.69199111 0.64099469 0.58102661 0.48276645 0.26389286 0.74732424\n",
      "  0.82429664 0.83009927 0.7700983  0.80627252 0.42680475 0.97317733\n",
      "  0.92660454 0.75709795 0.81839365 0.40791443 0.57982655 0.8630787\n",
      "  0.49341397 0.6819894  0.1924721  0.78595773 1.0343342  0.80715856\n",
      "  0.22965947 0.40059851 0.66984545 0.81746805 0.6842561  0.6810227\n",
      "  0.75462431 1.01248359 0.80465881 0.90166459 0.52221057 0.82354626\n",
      "  0.09470636 0.63692145 0.5148929  0.25576828 0.83146791 0.32764029\n",
      "  0.85776744 0.552646   0.71273633 0.73084438 0.07471755 0.08249693\n",
      "  0.73990999 0.53294436 0.98594803 0.41942381 0.96583092 0.5638375\n",
      "  0.37686416 0.         0.92428218 0.49054237 0.53578772 0.5028314\n",
      "  0.84666875 0.46585162 0.29743004 0.10239053 0.17949249 0.20715023\n",
      "  0.14317726 0.72733011 0.48405149 0.94573928 0.66921127 0.66611682\n",
      "  0.27290341 0.52194014 0.14288333 1.03042939 0.65958732 0.45814298\n",
      "  0.28143299 0.56443872 0.26171993 0.77729348]\n",
      " [0.38992346 0.48804118 0.80178516 0.89481388 0.94457011 1.0114318\n",
      "  0.90611781 0.62358218 0.76189105 0.75714529 0.31554022 0.68858075\n",
      "  0.95263769 0.60257049 0.79390693 0.10688068 0.69986185 1.25485588\n",
      "  0.24014129 0.81759468 1.18408747 0.87764862 0.75907896 0.36837383\n",
      "  1.2141462  0.14037198 0.18686917 1.03723926 0.91185994 0.86908581\n",
      "  0.49703398 1.23398287 0.41389423 0.96670846 0.69534817 0.73492045\n",
      "  0.7883222  0.43507548 0.82155054 1.04573199 0.89873424 0.39527945\n",
      "  1.04047458 1.12262309 0.8392874  0.97649066 0.27656394 0.40430333\n",
      "  0.56337173 0.91379838 0.53017452 0.85345972 0.41509763 0.67374646\n",
      "  0.98156538 1.21650525 1.18458458 0.69940606 0.09284467 0.71841163\n",
      "  0.18495823 1.04119352 0.28131585 0.3019991  0.88837231 0.96077243\n",
      "  0.50455559 1.09024224 0.79979298 0.74805239 0.86430633 0.54344901\n",
      "  0.82612624 0.92428218 0.         1.12266376 0.97311482 0.43527892\n",
      "  0.18697266 1.11559163 0.99466959 0.92070577 0.79484149 0.80732462\n",
      "  1.02440141 1.24083493 1.12669499 0.39835845 0.67359686 0.63173142\n",
      "  0.65654083 1.05201956 0.92067665 0.73818191 0.88794062 0.47061349\n",
      "  0.67079123 0.71180825 0.67715287 0.92430679]\n",
      " [0.74128748 0.63474977 0.87095684 0.63250682 0.18248235 0.60426209\n",
      "  0.60463544 0.50892906 0.45794559 0.51559261 0.86140499 0.51428913\n",
      "  0.1853674  0.66252299 0.53486875 1.0407026  0.47060625 0.29932147\n",
      "  0.89005445 0.41844529 0.09076975 0.26287376 0.40671146 0.80491859\n",
      "  0.36241782 0.991086   0.93683952 0.43277226 0.21230758 0.72475374\n",
      "  0.88247093 0.27566508 0.82942475 0.15641478 0.47423625 0.68223005\n",
      "  0.35256777 0.72360424 0.66783678 0.40377643 0.78012121 0.83109918\n",
      "  0.27325727 0.11299541 0.42621143 0.48319696 0.84610303 0.74460218\n",
      "  0.68837385 0.74593451 0.75018048 0.65261326 0.82485107 0.68020027\n",
      "  0.56107922 0.14639985 0.06469254 0.67059159 1.04066073 0.42074635\n",
      "  0.98358035 0.1474574  0.84665469 0.83871222 0.43718918 0.41076376\n",
      "  0.71450646 0.07983648 0.7783336  0.37496461 0.71898171 0.59113474\n",
      "  0.29748223 0.49054237 1.12266376 0.         0.1993735  0.71072957\n",
      "  0.97463511 0.02631893 0.19674846 0.39294413 0.63910612 0.67874095\n",
      "  0.37473803 0.24013616 0.01171902 0.95381777 0.54847468 0.57641754\n",
      "  0.63735988 0.10780858 0.35576161 0.86327142 0.3796227  0.75897318\n",
      "  0.68324329 0.45243975 0.5320216  0.47225027]\n",
      " [0.58380994 0.49502067 0.67371238 0.66536687 0.16044169 0.43336885\n",
      "  0.41624356 0.34957622 0.26183322 0.31676289 0.69090379 0.32366891\n",
      "  0.05660547 0.46918143 0.53123265 0.88312417 0.28726644 0.30282652\n",
      "  0.75197213 0.21947455 0.22332972 0.09947473 0.35024953 0.63309912\n",
      "  0.3070852  0.83624263 0.78634707 0.27745262 0.11335836 0.53217387\n",
      "  0.68933299 0.27827861 0.64646534 0.13363475 0.29138559 0.48293673\n",
      "  0.18490088 0.55316407 0.67824908 0.25380422 0.58956009 0.65059834\n",
      "  0.37426293 0.27994114 0.22699535 0.30799272 0.69982459 0.57819985\n",
      "  0.49769194 0.55725984 0.5590313  0.45873672 0.72965811 0.48155246\n",
      "  0.62372946 0.2455752  0.26092112 0.6438564  0.89771078 0.33243955\n",
      "  0.81971307 0.06922964 0.69215424 0.67755206 0.46600197 0.47087883\n",
      "  0.52975821 0.13255973 0.58125621 0.2433316  0.52603257 0.43005416\n",
      "  0.19964939 0.53578772 0.97311482 0.1993735  0.         0.59279505\n",
      "  0.81169566 0.21052138 0.26351963 0.4341232  0.64120516 0.68492729\n",
      "  0.46300454 0.27354837 0.20937842 0.76646126 0.35585554 0.38751074\n",
      "  0.59301471 0.09443117 0.3937804  0.66429787 0.18238925 0.67000548\n",
      "  0.64835016 0.27095235 0.47472275 0.28545644]\n",
      " [0.1811619  0.12314188 0.73579958 0.50531862 0.52848128 0.78380481\n",
      "  0.68999776 0.27174225 0.45812057 0.49039023 0.30313861 0.40034965\n",
      "  0.55907433 0.41664225 0.37583634 0.38063927 0.37750732 0.89339344\n",
      "  0.19548761 0.50457255 0.78237984 0.49332578 0.32571733 0.28250567\n",
      "  0.87661867 0.32833423 0.26813275 0.74106162 0.50887057 0.71509883\n",
      "  0.49741146 0.86964669 0.37069112 0.55506357 0.37359267 0.57061795\n",
      "  0.41609039 0.25019539 0.44509809 0.73881417 0.7672506  0.35271901\n",
      "  0.60530959 0.69619515 0.53496515 0.70304643 0.18158844 0.23033681\n",
      "  0.39308481 0.76325403 0.41364724 0.66507585 0.15863045 0.50867226\n",
      "  0.57276215 0.82248368 0.769244   0.32238336 0.34499705 0.29219037\n",
      "  0.35565023 0.65530773 0.21394562 0.23993526 0.4584637  0.52997197\n",
      "  0.34594243 0.69188073 0.68395146 0.35019625 0.70809551 0.22585305\n",
      "  0.41527843 0.5028314  0.43527892 0.71072957 0.59279505 0.\n",
      "  0.34450097 0.69990118 0.56471508 0.48767596 0.40822152 0.43517642\n",
      "  0.59151811 0.86614747 0.71302036 0.47994516 0.40873171 0.3753494\n",
      "  0.25906177 0.65651713 0.48576667 0.68095957 0.56798953 0.13193338\n",
      "  0.29825823 0.37958648 0.24536005 0.64782125]\n",
      " [0.23397941 0.35325056 0.62405239 0.84559966 0.80281895 0.82463933\n",
      "  0.71930813 0.46643109 0.58576036 0.57547281 0.13054849 0.51217829\n",
      "  0.79729037 0.4169547  0.72032549 0.08055851 0.52994663 1.08326289\n",
      "  0.17848524 0.64167135 1.02894868 0.72011089 0.6433169  0.18642886\n",
      "  1.03719164 0.06394413 0.09391638 0.85520443 0.76232805 0.68323577\n",
      "  0.31959666 1.06341384 0.22717432 0.82123768 0.52550307 0.54801861\n",
      "  0.62903482 0.26060258 0.780287   0.86507895 0.71468838 0.20831986\n",
      "  0.92717457 0.98770872 0.66129422 0.792503   0.16309732 0.23358326\n",
      "  0.37764216 0.72846208 0.34320205 0.66650605 0.39529236 0.48678232\n",
      "  0.91710371 1.05709549 1.0382034  0.65530101 0.16430398 0.59303433\n",
      "  0.01117663 0.88070707 0.13688203 0.13595411 0.79880018 0.86887886\n",
      "  0.31984308 0.93466617 0.61598683 0.60132789 0.67831046 0.38416758\n",
      "  0.6838551  0.84666875 0.18697266 0.97463511 0.81169566 0.34450097\n",
      "  0.         0.97042201 0.8666978  0.82396838 0.74652743 0.76852037\n",
      "  0.9270685  1.07345953 0.97984712 0.23293941 0.49400892 0.45254827\n",
      "  0.59853344 0.89564864 0.81661651 0.56036393 0.71178313 0.42873896\n",
      "  0.62845642 0.54374394 0.58657112 0.74113676]\n",
      " [0.73665785 0.62756351 0.88403313 0.60801267 0.17180635 0.62388981\n",
      "  0.62097384 0.50600158 0.46495361 0.52447925 0.85909305 0.51872943\n",
      "  0.18960792 0.66752276 0.51312275 1.03528064 0.47312886 0.32560036\n",
      "  0.88154993 0.42775643 0.1152117  0.26529382 0.39115348 0.80306035\n",
      "  0.38833177 0.98523899 0.93031573 0.45360226 0.20930718 0.73997211\n",
      "  0.88697677 0.30197796 0.83038141 0.149333   0.47660428 0.69295654\n",
      "  0.3531635  0.72169498 0.64454591 0.42493987 0.79604806 0.83135366\n",
      "  0.24722598 0.08759601 0.43730699 0.50180361 0.83909036 0.74174178\n",
      "  0.69221912 0.76237717 0.75406223 0.66729147 0.81061502 0.68860094\n",
      "  0.53544757 0.17125592 0.06938514 0.65003761 1.03259221 0.40862652\n",
      "  0.97954235 0.16465321 0.8411077  0.8344716  0.41373646 0.38567718\n",
      "  0.71628752 0.10092605 0.79150369 0.36938817 0.73406319 0.5879274\n",
      "  0.28947142 0.46585162 1.11559163 0.02631893 0.21052138 0.69990118\n",
      "  0.97042201 0.         0.17401798 0.36900853 0.6164636  0.65569165\n",
      "  0.34872627 0.2662221  0.01820558 0.9559432  0.553518   0.57999381\n",
      "  0.61852178 0.12334349 0.3323562  0.87466305 0.39246377 0.74424491\n",
      "  0.66333635 0.45463664 0.51514524 0.48867511]\n",
      " [0.63483677 0.51397417 0.89545695 0.43804095 0.111566   0.69406754\n",
      "  0.664845   0.42380703 0.4511724  0.51923849 0.76827612 0.48369509\n",
      "  0.21111186 0.62862507 0.33940038 0.9239957  0.42867678 0.48483534\n",
      "  0.75557777 0.43287078 0.28739486 0.25040906 0.24060456 0.71615817\n",
      "  0.53042739 0.87219699 0.814268   0.5408438  0.17868613 0.77122706\n",
      "  0.83839771 0.45973686 0.76023371 0.13043855 0.43085475 0.69257758\n",
      "  0.30903247 0.63658722 0.47113555 0.51647754 0.83129748 0.75678642\n",
      "  0.11170716 0.13502975 0.45379286 0.5686594  0.72170329 0.65029906\n",
      "  0.64472698 0.80254378 0.70477041 0.69677653 0.65806408 0.67203409\n",
      "  0.37514111 0.3424372  0.2335277  0.47777881 0.90722895 0.27643005\n",
      "  0.8766915  0.26321139 0.73182799 0.73278352 0.24067721 0.22113996\n",
      "  0.65452719 0.23589814 0.8058477  0.28223454 0.76444151 0.49963669\n",
      "  0.19906657 0.29743004 0.99466959 0.19674846 0.26351963 0.56471508\n",
      "  0.8666978  0.17401798 0.         0.19741641 0.4424921  0.48199257\n",
      "  0.20105499 0.43015273 0.19196729 0.89063158 0.52036054 0.53560101\n",
      "  0.45043605 0.22832728 0.15929467 0.87390143 0.42514561 0.59019405\n",
      "  0.49234658 0.40957287 0.35493145 0.53954991]\n",
      " [0.60880105 0.48132295 0.98791656 0.24074613 0.27463793 0.84258809\n",
      "  0.79502024 0.45134287 0.5497694  0.61816201 0.74919405 0.55763352\n",
      "  0.37759883 0.68413451 0.16179801 0.86751973 0.50026958 0.68145878\n",
      "  0.68252811 0.54995507 0.48370464 0.3851543  0.19723347 0.70575462\n",
      "  0.72205956 0.8150053  0.75484936 0.70624501 0.32640583 0.88635621\n",
      "  0.86986115 0.6561892  0.76941552 0.30556375 0.5007326  0.78304225\n",
      "  0.40417824 0.63454668 0.27663095 0.68532555 0.94758397 0.76044968\n",
      "  0.14945282 0.31038328 0.5775839  0.72013961 0.66499221 0.63826459\n",
      "  0.68930557 0.92401921 0.74295361 0.81372985 0.53797318 0.74792856\n",
      "  0.19050775 0.53920346 0.42214179 0.30520877 0.82880361 0.26098404\n",
      "  0.83483268 0.45027211 0.68749928 0.70000706 0.04761993 0.05036497\n",
      "  0.68140141 0.43181784 0.90448784 0.33721929 0.87909842 0.50741282\n",
      "  0.28417233 0.10239053 0.92070577 0.39294413 0.4341232  0.48767596\n",
      "  0.82396838 0.36900853 0.19741641 0.         0.25221064 0.28873839\n",
      "  0.10384579 0.62747682 0.38718817 0.89934774 0.59204446 0.59360308\n",
      "  0.29842785 0.41985852 0.04052006 0.95534615 0.56381521 0.4703592\n",
      "  0.32562424 0.48354932 0.24355809 0.68175989]\n",
      " [0.57805228 0.46654625 1.07126911 0.10021597 0.49432907 1.00201324\n",
      "  0.93437598 0.51753334 0.67458106 0.73545446 0.70993902 0.6550856\n",
      "  0.58614607 0.74491607 0.10999064 0.76839448 0.60412473 0.91636017\n",
      "  0.57707347 0.69390669 0.7295265  0.56727728 0.30427419 0.68253485\n",
      "  0.9445919  0.71886192 0.66091449 0.89220685 0.52784682 1.00271923\n",
      "  0.88460643 0.89070488 0.76457695 0.52818409 0.60270469 0.87618075\n",
      "  0.54904618 0.63115716 0.04309163 0.87639205 1.06243159 0.74946647\n",
      "  0.39903947 0.56234735 0.72563262 0.88872263 0.58458414 0.6215203\n",
      "  0.73650836 1.04636909 0.77682675 0.93626712 0.38051653 0.82663145\n",
      "  0.19561062 0.78396498 0.67282728 0.09555822 0.70276417 0.35240829\n",
      "  0.7576781  0.6731489  0.62137809 0.64799916 0.20501009 0.25612926\n",
      "  0.70804239 0.66796295 0.9997516  0.46328631 0.99526    0.53805439\n",
      "  0.45259693 0.17949249 0.79484149 0.63910612 0.64120516 0.40822152\n",
      "  0.74652743 0.6164636  0.4424921  0.25221064 0.         0.04428393\n",
      "  0.3217145  0.86643209 0.63445182 0.88318188 0.68234588 0.66829475\n",
      "  0.14916363 0.64937794 0.28511483 1.02668966 0.72863762 0.32557187\n",
      "  0.12427445 0.59279009 0.22008092 0.84175406]\n",
      " [0.60885204 0.5009726  1.11090233 0.09540346 0.53703238 1.04590684\n",
      "  0.97764723 0.55841538 0.71774474 0.7781196  0.73813844 0.69699896\n",
      "  0.62971726 0.78386358 0.1537558  0.78636791 0.64660052 0.95836179\n",
      "  0.59606049 0.73768543 0.76934782 0.61150036 0.34850554 0.71314772\n",
      "  0.98780037 0.73784795 0.68092474 0.9364893  0.57157586 1.04475143\n",
      "  0.91836172 0.93273558 0.79679441 0.5707891  0.64509367 0.91703552\n",
      "  0.59309945 0.66468473 0.01689727 0.92064637 1.10427541 0.78104933\n",
      "  0.43286258 0.59903887 0.76947662 0.93287648 0.60793247 0.65356824\n",
      "  0.77434386 1.08866997 0.81318039 0.97875391 0.39227727 0.86661951\n",
      "  0.20390648 0.82410898 0.71069703 0.11344507 0.71606193 0.39603267\n",
      "  0.77961851 0.71605234 0.64655124 0.67500172 0.24239741 0.28738629\n",
      "  0.74412396 0.70952713 1.04043614 0.50716949 1.0372935  0.57601438\n",
      "  0.49684316 0.20715023 0.80732462 0.67874095 0.68492729 0.43517642\n",
      "  0.76852037 0.65569165 0.48199257 0.28873839 0.04428393 0.\n",
      "  0.35030171 0.90780653 0.67375985 0.9132142  0.7237173  0.70870713\n",
      "  0.1781541  0.69167315 0.32347827 1.06545389 0.7728197  0.34245444\n",
      "  0.14012324 0.63556833 0.26103268 0.88577179]\n",
      " [0.70972494 0.58220756 1.06234782 0.27894097 0.30482651 0.88896606\n",
      "  0.85169133 0.54065905 0.61847381 0.68759605 0.84988525 0.63538607\n",
      "  0.40877827 0.76900683 0.25158592 0.9712629  0.57789497 0.67338646\n",
      "  0.78635919 0.61087933 0.46259097 0.43457082 0.2929921  0.80509012\n",
      "  0.72718484 0.91873622 0.85859613 0.74038815 0.36730157 0.95083232\n",
      "  0.96214662 0.64916208 0.86582472 0.32937554 0.57892691 0.85715757\n",
      "  0.47124563 0.73215197 0.33546727 0.71665982 1.01179225 0.85780309\n",
      "  0.10150396 0.2730471  0.63574333 0.76415004 0.76856484 0.73747965\n",
      "  0.77724046 0.98566396 0.83292493 0.87699234 0.63828441 0.82696585\n",
      "  0.18958391 0.51868836 0.38838493 0.39071796 0.93241134 0.35441798\n",
      "  0.93789415 0.46372315 0.79044488 0.80203458 0.13960471 0.06892206\n",
      "  0.77361914 0.42993655 0.97612629 0.41566589 0.94375628 0.60201787\n",
      "  0.34955642 0.14317726 1.02440141 0.37473803 0.46300454 0.59151811\n",
      "  0.9270685  0.34872627 0.20105499 0.10384579 0.3217145  0.35030171\n",
      "  0.         0.61487036 0.36647519 0.9963917  0.67099082 0.67683236\n",
      "  0.39422726 0.42738891 0.11442823 1.03367088 0.61427003 0.57123428\n",
      "  0.41408184 0.56007603 0.34726247 0.73119574]\n",
      " [0.85092745 0.76781474 0.81625873 0.86818073 0.37714121 0.48860102\n",
      "  0.52994554 0.61937189 0.4950295  0.5283063  0.9483678  0.56669581\n",
      "  0.31033984 0.69757177 0.75875622 1.14754631 0.54351296 0.06320073\n",
      "  1.02396891 0.44089831 0.15535209 0.37297527 0.60255682 0.89030717\n",
      "  0.15461602 1.10238424 1.05468213 0.32029373 0.36668745 0.65415114\n",
      "  0.91058257 0.04668783 0.89061511 0.34321848 0.54795724 0.66199725\n",
      "  0.45617581 0.81291848 0.89810584 0.29160952 0.69844893 0.89812148\n",
      "  0.51339341 0.3478107  0.43045369 0.39395244 0.97010173 0.84045004\n",
      "  0.73188645 0.66015749 0.78985763 0.59292755 1.00040875 0.68282166\n",
      "  0.80063069 0.10261335 0.24100189 0.88686715 1.16801796 0.59704658\n",
      "  1.08077869 0.21232564 0.95953297 0.94174766 0.66956061 0.64903007\n",
      "  0.77416422 0.19861353 0.72701882 0.516165   0.65026304 0.69771247\n",
      "  0.46222082 0.72733011 1.24083493 0.24013616 0.27354837 0.86614747\n",
      "  1.07345953 0.2662221  0.43015273 0.62747682 0.86643209 0.90780653\n",
      "  0.61487036 0.         0.24868422 1.00045535 0.592311   0.63028984\n",
      "  0.84458678 0.22209583 0.58868702 0.82636637 0.37559933 0.93904113\n",
      "  0.8958174  0.5300482  0.73047662 0.41175981]\n",
      " [0.74630483 0.63867727 0.88160181 0.62621789 0.18454024 0.61590664\n",
      "  0.61587957 0.51457307 0.46697544 0.52517013 0.86735252 0.52254779\n",
      "  0.19331024 0.67098979 0.53088922 1.0454264  0.47822063 0.30847043\n",
      "  0.89343764 0.42811117 0.0970373  0.27032468 0.40653824 0.81103243\n",
      "  0.37301618 0.99562883 0.94109184 0.44447901 0.2176973  0.73581478\n",
      "  0.89080924 0.28506836 0.83657019 0.15999655 0.48179947 0.69231408\n",
      "  0.35945622 0.72968737 0.66265382 0.41549157 0.79130865 0.83799536\n",
      "  0.26497245 0.10228811 0.43634083 0.49474111 0.85013678 0.75032313\n",
      "  0.69647702 0.75720387 0.7583043  0.66356854 0.82545703 0.68967286\n",
      "  0.55344415 0.15311554 0.05836877 0.66746019 1.04425065 0.4223455\n",
      "  0.98886337 0.1587071  0.85130878 0.8438996  0.43186087 0.40383849\n",
      "  0.72192367 0.09149958 0.7889928  0.37948576 0.73001745 0.59669174\n",
      "  0.30090838 0.48405149 1.12669499 0.01171902 0.20937842 0.71302036\n",
      "  0.97984712 0.01820558 0.19196729 0.38718817 0.63445182 0.67375985\n",
      "  0.36647519 0.24868422 0.         0.96138002 0.55693277 0.58441214\n",
      "  0.63533621 0.11866881 0.35046846 0.87353345 0.39015067 0.75931289\n",
      "  0.68054353 0.45993685 0.53114802 0.48349543]\n",
      " [0.30531649 0.42543367 0.4061634  0.97648198 0.8041223  0.66296557\n",
      "  0.56050937 0.4670292  0.5091225  0.47270492 0.17974236 0.44284474\n",
      "  0.76852227 0.3029119  0.83143437 0.29789998 0.48321207 0.99694537\n",
      "  0.38065488 0.56083974 0.98972829 0.69105535 0.70350996 0.20090363\n",
      "  0.93313781 0.29687432 0.31213064 0.73382762 0.74950289 0.49543879\n",
      "  0.10929449 0.98096272 0.13111416 0.8136207  0.47959153 0.38231275\n",
      "  0.603116   0.26488046 0.92207464 0.75050959 0.51482185 0.13897092\n",
      "  0.97267986 0.9930692  0.57007399 0.66156106 0.33237663 0.26514782\n",
      "  0.26995218 0.53568905 0.2106216  0.49785599 0.58265885 0.3345164\n",
      "  1.02844918 1.00634886 1.01843922 0.80142373 0.39645315 0.64236719\n",
      "  0.22843478 0.83432131 0.28477966 0.2465958  0.88530049 0.9484925\n",
      "  0.23975906 0.89818895 0.41681034 0.60850078 0.49198634 0.39578031\n",
      "  0.69269372 0.94573928 0.39835845 0.95381777 0.76646126 0.47994516\n",
      "  0.23293941 0.9559432  0.89063158 0.89934774 0.88318188 0.9132142\n",
      "  0.9963917  1.00045535 0.96138002 0.         0.41202481 0.37897963\n",
      "  0.73532313 0.85902922 0.88197971 0.34316726 0.62487169 0.5965541\n",
      "  0.77800391 0.50144509 0.68772877 0.61793032]\n",
      " [0.30058706 0.28574254 0.39738539 0.75147018 0.41862833 0.37615235\n",
      "  0.28137684 0.16608651 0.09756587 0.08678723 0.36440763 0.03666699\n",
      "  0.36394065 0.11405707 0.59187616 0.57242235 0.09327798 0.59480331\n",
      "  0.49199667 0.15163925 0.57860013 0.28963763 0.40562962 0.30758067\n",
      "  0.54350657 0.53330863 0.49584083 0.36460075 0.35603846 0.32292226\n",
      "  0.33409961 0.57668339 0.29830993 0.42037678 0.09207035 0.19518658\n",
      "  0.21191337 0.23950876 0.7254345  0.37214859 0.38130822 0.30639472\n",
      "  0.61973463 0.60173598 0.16772776 0.30965464 0.42734375 0.27192021\n",
      "  0.14221245 0.368729   0.2032211  0.26256971 0.56729293 0.15611144\n",
      "  0.76303032 0.59432794 0.6125113  0.63436974 0.61495283 0.34317711\n",
      "  0.49985949 0.42292676 0.40137858 0.37278121 0.59649145 0.64187565\n",
      "  0.18220663 0.48826408 0.31899647 0.25572266 0.31550861 0.18288797\n",
      "  0.32603593 0.66921127 0.67359686 0.54847468 0.35585554 0.40873171\n",
      "  0.49400892 0.553518   0.52036054 0.59204446 0.68234588 0.7237173\n",
      "  0.67099082 0.592311   0.55693277 0.41202481 0.         0.04192748\n",
      "  0.56437254 0.44949884 0.56247047 0.36339698 0.22001283 0.53256795\n",
      "  0.62296815 0.1117319  0.4626866  0.25510425]\n",
      " [0.25963322 0.2532421  0.4041844  0.74141059 0.43787488 0.41319289\n",
      "  0.3156717  0.15141815 0.13553097 0.12791336 0.32324397 0.06432821\n",
      "  0.39111397 0.09325276 0.5819997  0.53075929 0.10843481 0.63440811\n",
      "  0.45118363 0.19089002 0.61081672 0.3147724  0.40235866 0.26615611\n",
      "  0.58471134 0.4914264  0.45396413 0.40650202 0.37786581 0.34579087\n",
      "  0.30763289 0.61586063 0.26108173 0.44250321 0.10563252 0.20905468\n",
      "  0.23120139 0.19759172 0.71134294 0.4140427  0.40206776 0.26784208\n",
      "  0.63121119 0.62389795 0.20879304 0.35084512 0.3861874  0.23006733\n",
      "  0.11230421 0.39291767 0.17412138 0.29057018 0.5334271  0.15909505\n",
      "  0.75901705 0.62879963 0.64084739 0.61550113 0.57310419 0.33849822\n",
      "  0.45853141 0.45557538 0.35961572 0.33085374 0.5946957  0.64381553\n",
      "  0.14413161 0.51923622 0.33185899 0.26181125 0.3385065  0.15091235\n",
      "  0.33806209 0.66611682 0.63173142 0.57641754 0.38751074 0.3753494\n",
      "  0.45254827 0.57999381 0.53560101 0.59360308 0.66829475 0.70870713\n",
      "  0.67683236 0.63028984 0.58441214 0.37897963 0.04192748 0.\n",
      "  0.54482891 0.48011788 0.56610929 0.36451835 0.26020737 0.50168296\n",
      "  0.60254226 0.12759783 0.44822316 0.29653973]\n",
      " [0.43073186 0.32439031 0.94251222 0.24714713 0.46827874 0.90788913\n",
      "  0.83093335 0.39846837 0.57236149 0.62711789 0.56111753 0.54121125\n",
      "  0.54269065 0.61439847 0.14429343 0.62346027 0.49565999 0.8873538\n",
      "  0.4318053  0.60067371 0.72388095 0.50530077 0.24349259 0.53507424\n",
      "  0.89993325 0.5731056  0.51442743 0.81758809 0.48333108 0.88729188\n",
      "  0.74075682 0.8617628  0.6186956  0.50183155 0.49346691 0.75386009\n",
      "  0.4654376  0.48710788 0.18677869 0.80590756 0.9454269  0.60289574\n",
      "  0.44381046 0.58318885 0.63323122 0.80272558 0.43610635 0.47546715\n",
      "  0.60211734 0.93280965 0.63818249 0.82478367 0.24937273 0.70016179\n",
      "  0.32515271 0.77452951 0.68265055 0.07117301 0.56379871 0.2679372\n",
      "  0.60970094 0.63789566 0.47230697 0.49888524 0.25531154 0.32564656\n",
      "  0.56887283 0.64848111 0.87605096 0.37809764 0.87987481 0.40506119\n",
      "  0.39372898 0.27290341 0.65654083 0.63735988 0.59301471 0.25906177\n",
      "  0.59853344 0.61852178 0.45043605 0.29842785 0.14916363 0.1781541\n",
      "  0.39422726 0.84458678 0.63533621 0.73532313 0.56437254 0.54482891\n",
      "  0.         0.62251144 0.31568362 0.89469762 0.64585611 0.18662738\n",
      "  0.05983302 0.48749683 0.11952027 0.75195464]\n",
      " [0.66487799 0.56782523 0.76320047 0.65927646 0.15605155 0.50194995\n",
      "  0.49771956 0.42992977 0.35613953 0.41092557 0.77754556 0.41668184\n",
      "  0.09944496 0.56310376 0.5404932  0.96509324 0.37752505 0.26739485\n",
      "  0.82547457 0.31362396 0.13342091 0.17553776 0.38057709 0.72011673\n",
      "  0.302598   0.91701122 0.86520369 0.33398057 0.14847418 0.61721914\n",
      "  0.78331336 0.2416869  0.7375446  0.1219608  0.38147196 0.57556459\n",
      "  0.26673142 0.63942228 0.68292574 0.30622929 0.67294441 0.74084376\n",
      "  0.33012444 0.20329278 0.31959332 0.37902822 0.77662917 0.6629251\n",
      "  0.59097875 0.63910977 0.6524933  0.54490263 0.78401341 0.57573896\n",
      "  0.60300242 0.16623091 0.16712588 0.66566762 0.97372685 0.37805467\n",
      "  0.90404548 0.04201279 0.77238495 0.76047001 0.45845441 0.44864805\n",
      "  0.62126396 0.03941832 0.67056907 0.30817182 0.61139565 0.51183975\n",
      "  0.24420068 0.52194014 1.05201956 0.10780858 0.09443117 0.65651713\n",
      "  0.89564864 0.12334349 0.22832728 0.41985852 0.64937794 0.69167315\n",
      "  0.42738891 0.22209583 0.11866881 0.85902922 0.44949884 0.48011788\n",
      "  0.62251144 0.         0.3797166  0.75610398 0.27205299 0.72109346\n",
      "  0.67405038 0.36035834 0.50856093 0.36538466]\n",
      " [0.59664675 0.46924166 0.95684552 0.28008216 0.23415298 0.80434899\n",
      "  0.75862836 0.42733253 0.51622888 0.58497619 0.73655606 0.52748106\n",
      "  0.33729026 0.6576175  0.18741646 0.86334366 0.46995742 0.64210713\n",
      "  0.68124379 0.5142149  0.44650452 0.34666759 0.17870595 0.69113631\n",
      "  0.68176189 0.81077269 0.75083258 0.66647309 0.28665681 0.85197154\n",
      "  0.84824625 0.61677046 0.75139707 0.26504657 0.47067017 0.7517005\n",
      "  0.36974501 0.61781862 0.31219009 0.64532539 0.91317041 0.74342296\n",
      "  0.1284491  0.2781173  0.54123999 0.6814569  0.65985281 0.62351247\n",
      "  0.66459957 0.88890829 0.71961639 0.77895108 0.54770328 0.71857211\n",
      "  0.2303215  0.50169937 0.38771278 0.33023773 0.8294851  0.24003057\n",
      "  0.82734162 0.40984124 0.67977564 0.68990051 0.0814279  0.08232084\n",
      "  0.6596773  0.39235685 0.87234895 0.30680192 0.84475871 0.48764189\n",
      "  0.24865329 0.14288333 0.92067665 0.35576161 0.3937804  0.48576667\n",
      "  0.81661651 0.3323562  0.15929467 0.04052006 0.28511483 0.32347827\n",
      "  0.11442823 0.58868702 0.35046846 0.88197971 0.56247047 0.56610929\n",
      "  0.31568362 0.3797166  0.         0.92582797 0.52592113 0.47947978\n",
      "  0.3485354  0.45273445 0.24622025 0.64385889]\n",
      " [0.50918505 0.57606517 0.06371233 1.10384537 0.76635977 0.38309727\n",
      "  0.30297716 0.51479607 0.42286948 0.35581138 0.45763302 0.39844586\n",
      "  0.69142665 0.28180742 0.94494187 0.63407007 0.45598913 0.80303958\n",
      "  0.66462134 0.44899265 0.86772364 0.62835976 0.76655444 0.43328091\n",
      "  0.71773523 0.62228357 0.61947545 0.51311563 0.69990553 0.19178215\n",
      "  0.24138091 0.79427026 0.34899266 0.76113297 0.45517663 0.18266855\n",
      "  0.5666121  0.43309238 1.06944988 0.53877445 0.1856831  0.37117152\n",
      "  0.97789402 0.93735372 0.43735693 0.43596441 0.60131403 0.45905764\n",
      "  0.29303323 0.21646659 0.26810883 0.23572316 0.82399248 0.20742195\n",
      "  1.12350424 0.86536113 0.92283446 0.96585683 0.72309854 0.70291596\n",
      "  0.55878588 0.71979707 0.55552897 0.5126584  0.95854989 1.0052382\n",
      "  0.33501789 0.7904369  0.10511074 0.61903235 0.19220078 0.48987559\n",
      "  0.68603519 1.03042939 0.73818191 0.86327142 0.66429787 0.68095957\n",
      "  0.56036393 0.87466305 0.87390143 0.95534615 1.02668966 1.06545389\n",
      "  1.03367088 0.82636637 0.87353345 0.34316726 0.36339698 0.36451835\n",
      "  0.89469762 0.75610398 0.92582797 0.         0.48435693 0.81271865\n",
      "  0.94946418 0.47361263 0.80768913 0.41505354]\n",
      " [0.50385822 0.45070532 0.49158328 0.77345405 0.31375585 0.27911218\n",
      "  0.23977659 0.29654207 0.12615335 0.15309024 0.58317871 0.19970602\n",
      "  0.21948536 0.32203277 0.6227009  0.78905781 0.19519795 0.37496154\n",
      "  0.69039174 0.07034602 0.38596304 0.18004342 0.4244453  0.52573357\n",
      "  0.32620957 0.74766183 0.70593063 0.17530815 0.2478478  0.35102014\n",
      "  0.53605543 0.35736352 0.51725161 0.29799094 0.1995816  0.30516172\n",
      "  0.18105072 0.45311156 0.76968142 0.1708312  0.40948277 0.52616399\n",
      "  0.53644222 0.46146975 0.05491886 0.16023753 0.62954187 0.48366158\n",
      "  0.35687687 0.37878783 0.41429997 0.27707796 0.72172086 0.31315026\n",
      "  0.75286354 0.39070201 0.43850666 0.70807261 0.82370644 0.38058975\n",
      "  0.71809914 0.23548005 0.61016085 0.58594214 0.58541449 0.60776358\n",
      "  0.40199895 0.30608871 0.3990401  0.26854055 0.34468514 0.35959661\n",
      "  0.28357125 0.65958732 0.88794062 0.3796227  0.18238925 0.56798953\n",
      "  0.71178313 0.39246377 0.42514561 0.56381521 0.72863762 0.7728197\n",
      "  0.61427003 0.37559933 0.39015067 0.62487169 0.22001283 0.26020737\n",
      "  0.64585611 0.27205299 0.52592113 0.48435693 0.         0.67278545\n",
      "  0.70525523 0.18939336 0.52808527 0.11794998]\n",
      " [0.30884407 0.24877186 0.86772697 0.4257872  0.5783241  0.90420177\n",
      "  0.813601   0.38300504 0.57194604 0.61095415 0.41691266 0.52035828\n",
      "  0.62870842 0.54776069 0.32796271 0.44393233 0.49040805 0.97278687\n",
      "  0.25386259 0.61390475 0.83846706 0.5724047  0.35337553 0.40551923\n",
      "  0.96692836 0.39550503 0.33921044 0.84789772 0.57313702 0.84446135\n",
      "  0.62381699 0.94806537 0.49579705 0.60883995 0.48690004 0.70085796\n",
      "  0.50669675 0.38095559 0.35538478 0.8426403  0.89752539 0.47656545\n",
      "  0.6068444  0.7251713  0.64555391 0.81636219 0.27251051 0.35903977\n",
      "  0.52489625 0.89241142 0.54512863 0.79223549 0.06842205 0.63957394\n",
      "  0.51109321 0.88374293 0.81224778 0.23094336 0.37807347 0.34308249\n",
      "  0.43971151 0.72676563 0.31581501 0.35042342 0.43181489 0.50411659\n",
      "  0.47773288 0.75312269 0.81535461 0.42899081 0.83737531 0.35080746\n",
      "  0.47724476 0.45814298 0.47061349 0.75897318 0.67000548 0.13193338\n",
      "  0.42873896 0.74424491 0.59019405 0.4703592  0.32557187 0.34245444\n",
      "  0.57123428 0.93904113 0.75931289 0.5965541  0.53256795 0.50168296\n",
      "  0.18662738 0.72109346 0.47947978 0.81271865 0.67278545 0.\n",
      "  0.20286113 0.48933042 0.23688576 0.76178498]\n",
      " [0.47561613 0.37590806 0.99828396 0.22402768 0.51873948 0.96772215\n",
      "  0.89057641 0.45728609 0.63214468 0.68660023 0.60128672 0.60033189\n",
      "  0.59702387 0.67015647 0.16408813 0.64672114 0.55525299 0.94010508\n",
      "  0.4560961  0.66046459 0.77110866 0.56235658 0.29810856 0.57918642\n",
      "  0.95543379 0.59792575 0.54083865 0.87657463 0.53754262 0.9458662\n",
      "  0.7889937  0.91444799 0.66500304 0.55260457 0.55301791 0.81143849\n",
      "  0.52464668 0.53596432 0.15257691 0.86453051 1.00373515 0.6482857\n",
      "  0.4743992  0.62261736 0.69301522 0.862378   0.46822992 0.52210454\n",
      "  0.65651123 0.99158766 0.69044146 0.88385926 0.2562498  0.75689172\n",
      "  0.31686607 0.82283425 0.72574756 0.02872825 0.57887126 0.32643222\n",
      "  0.63954694 0.69113951 0.5075975  0.53722933 0.27949522 0.34526042\n",
      "  0.62103723 0.69857312 0.933196   0.43720798 0.93846039 0.46071274\n",
      "  0.44976272 0.28143299 0.67079123 0.68324329 0.64835016 0.29825823\n",
      "  0.62845642 0.66333635 0.49234658 0.32562424 0.12427445 0.14012324\n",
      "  0.41408184 0.8958174  0.68054353 0.77800391 0.62296815 0.60254226\n",
      "  0.05983302 0.67405038 0.3485354  0.94946418 0.70525523 0.20286113\n",
      "  0.         0.54723568 0.17778602 0.81171276]\n",
      " [0.32266241 0.26132634 0.50437725 0.65493215 0.31033766 0.4222685\n",
      "  0.34375012 0.10787491 0.08531448 0.14276624 0.42063913 0.07548392\n",
      "  0.26729287 0.21962919 0.49619811 0.61750345 0.01921664 0.54321793\n",
      "  0.5043393  0.12516334 0.49304685 0.18961336 0.30305972 0.36267189\n",
      "  0.50912544 0.57271411 0.5266315  0.36147586 0.25050621 0.4122072\n",
      "  0.43490126 0.52217916 0.37756362 0.3151366  0.0220996  0.29954614\n",
      "  0.10363347 0.28361407 0.63560572 0.35983151 0.47284611 0.38048865\n",
      "  0.5080469  0.49642723 0.15631758 0.32715156 0.44568191 0.31044757\n",
      "  0.23943591 0.4544442  0.30102056 0.34384878 0.53500346 0.26704195\n",
      "  0.65886468 0.51612987 0.51709569 0.55493801 0.64231787 0.24369962\n",
      "  0.55129833 0.3401401  0.43093699 0.41174128 0.49075786 0.53298901\n",
      "  0.26208376 0.39976766 0.42168906 0.14633224 0.40476914 0.1725788\n",
      "  0.21431327 0.56443872 0.71180825 0.45243975 0.27095235 0.37958648\n",
      "  0.54374394 0.45463664 0.40957287 0.48354932 0.59279009 0.63556833\n",
      "  0.56007603 0.5300482  0.45993685 0.50144509 0.1117319  0.12759783\n",
      "  0.48749683 0.36035834 0.45273445 0.47361263 0.18939336 0.48933042\n",
      "  0.54723568 0.         0.37693932 0.27292161]\n",
      " [0.38523275 0.26246302 0.85146208 0.29811839 0.35681513 0.79372502\n",
      "  0.72046288 0.29750399 0.46061437 0.51879087 0.52428374 0.43627501\n",
      "  0.42547766 0.52590659 0.14425077 0.62598199 0.38696002 0.77135214\n",
      "  0.43934077 0.48545818 0.61585358 0.38592209 0.12802738 0.48785988\n",
      "  0.78131384 0.57363032 0.51341748 0.69885683 0.36641712 0.78404362\n",
      "  0.67689618 0.74586655 0.56278641 0.38960541 0.38523481 0.65616654\n",
      "  0.34721345 0.42663018 0.26314544 0.68675011 0.84339507 0.55008673\n",
      "  0.37167466 0.4899184  0.51785897 0.68600247 0.42519556 0.42258886\n",
      "  0.51926653 0.8283058  0.56264174 0.71878413 0.30525747 0.6066716\n",
      "  0.34078143 0.66465376 0.58167701 0.18026069 0.5852611  0.14864986\n",
      "  0.59760724 0.52171976 0.4516703  0.46912536 0.21312281 0.28467984\n",
      "  0.49488068 0.53647236 0.77969252 0.25969533 0.77658858 0.32133217\n",
      "  0.27512291 0.26171993 0.67715287 0.5320216  0.47472275 0.24536005\n",
      "  0.58657112 0.51514524 0.35493145 0.24355809 0.22008092 0.26103268\n",
      "  0.34726247 0.73047662 0.53114802 0.68772877 0.4626866  0.44822316\n",
      "  0.11952027 0.50856093 0.24622025 0.80768913 0.52808527 0.23688576\n",
      "  0.17778602 0.37693932 0.         0.63612375]\n",
      " [0.55560674 0.52598972 0.40945645 0.8895622  0.42880597 0.16167196\n",
      "  0.13238538 0.37887785 0.19006705 0.1686657  0.61058839 0.25121198\n",
      "  0.33025367 0.32728527 0.73716928 0.8209362  0.27149373 0.39267753\n",
      "  0.7468405  0.15151899 0.4608669  0.29769217 0.53834756 0.55601699\n",
      "  0.31747879 0.78461176 0.74976625 0.11624756 0.36405338 0.25422788\n",
      "  0.51799332 0.38162732 0.52803081 0.41050928 0.2751249  0.25326354\n",
      "  0.29274026 0.49331202 0.88329582 0.13331537 0.30801955 0.54121067\n",
      "  0.65119568 0.56425542 0.11890968 0.0554099  0.68242476 0.5262203\n",
      "  0.36625776 0.27373356 0.41410578 0.1854054  0.80523418 0.2850689\n",
      "  0.87070305 0.45282279 0.52577957 0.81636197 0.86904027 0.49085998\n",
      "  0.74593221 0.32479682 0.65596448 0.62582983 0.70301566 0.72566424\n",
      "  0.42154883 0.3940352  0.31808228 0.37888187 0.24896246 0.42676645\n",
      "  0.40083646 0.77729348 0.92430679 0.47225027 0.28545644 0.64782125\n",
      "  0.74113676 0.48867511 0.53954991 0.68175989 0.84175406 0.88577179\n",
      "  0.73119574 0.41175981 0.48349543 0.61793032 0.25510425 0.29653973\n",
      "  0.75195464 0.36538466 0.64385889 0.41505354 0.11794998 0.76178498\n",
      "  0.81171276 0.27292161 0.63612375 0.        ]]\n"
     ]
    }
   ],
   "source": [
    "a = np.random.random((100,2))\n",
    "x,y = np.atleast_2d(a[:,0], a[:,1])\n",
    "distance = np.sqrt((x-x.T)**2 + (y-y.T)**2)\n",
    "print(distance)"
   ]
  },
  {
   "cell_type": "markdown",
   "id": "2d3bbe5d",
   "metadata": {},
   "source": [
    "# 53. How to convert a float (32 bits) array into an integer (32 bits) in place?"
   ]
  },
  {
   "cell_type": "code",
   "execution_count": 45,
   "id": "b1e03155",
   "metadata": {},
   "outputs": [
    {
     "name": "stdout",
     "output_type": "stream",
     "text": [
      "[1 1 1 1 1]\n"
     ]
    }
   ],
   "source": [
    "a = np.ones((5))\n",
    "print(a.astype(int))"
   ]
  },
  {
   "cell_type": "markdown",
   "id": "c13bafde",
   "metadata": {},
   "source": [
    "# 54. How to read the following file?"
   ]
  },
  {
   "cell_type": "code",
   "execution_count": 48,
   "id": "0f867dbb",
   "metadata": {},
   "outputs": [
    {
     "name": "stdout",
     "output_type": "stream",
     "text": [
      "[[ 1  2  3  4  5]\n",
      " [ 6 -1 -1  7  8]\n",
      " [-1 -1  9 10 11]]\n"
     ]
    },
    {
     "name": "stderr",
     "output_type": "stream",
     "text": [
      "C:\\Users\\User\\AppData\\Local\\Temp\\ipykernel_16404\\2355838675.py:6: DeprecationWarning: `np.int` is a deprecated alias for the builtin `int`. To silence this warning, use `int` by itself. Doing this will not modify any behavior and is safe. When replacing `np.int`, you may wish to use e.g. `np.int64` or `np.int32` to specify the precision. If you wish to review your current use, check the release note link for additional information.\n",
      "Deprecated in NumPy 1.20; for more details and guidance: https://numpy.org/devdocs/release/1.20.0-notes.html#deprecations\n",
      "  a = np.genfromtxt(s, delimiter=\",\", dtype=np.int)\n"
     ]
    }
   ],
   "source": [
    "from io import StringIO\n",
    "s = StringIO('''1, 2, 3, 4, 5\n",
    "                6,  ,  , 7, 8\n",
    "                 ,  , 9,10,11\n",
    "''')\n",
    "a = np.genfromtxt(s, delimiter=\",\", dtype=np.int)\n",
    "print(a)"
   ]
  },
  {
   "cell_type": "markdown",
   "id": "ee96c1ff",
   "metadata": {},
   "source": [
    "# 55. What is the equivalent of enumerate for numpy arrays?"
   ]
  },
  {
   "cell_type": "code",
   "execution_count": null,
   "id": "a7fc0299",
   "metadata": {},
   "outputs": [],
   "source": [
    "np.nindex(array_name.shape)"
   ]
  },
  {
   "cell_type": "markdown",
   "id": "0ecef17c",
   "metadata": {},
   "source": [
    "# 56.Generate a generic 2D Gaussian-like array"
   ]
  },
  {
   "cell_type": "code",
   "execution_count": 52,
   "id": "bdf532d4",
   "metadata": {},
   "outputs": [
    {
     "name": "stdout",
     "output_type": "stream",
     "text": [
      "[[0.36787944 0.44822088 0.51979489 0.57375342 0.60279818 0.60279818\n",
      "  0.57375342 0.51979489 0.44822088 0.36787944]\n",
      " [0.44822088 0.54610814 0.63331324 0.69905581 0.73444367 0.73444367\n",
      "  0.69905581 0.63331324 0.54610814 0.44822088]\n",
      " [0.51979489 0.63331324 0.73444367 0.81068432 0.85172308 0.85172308\n",
      "  0.81068432 0.73444367 0.63331324 0.51979489]\n",
      " [0.57375342 0.69905581 0.81068432 0.89483932 0.9401382  0.9401382\n",
      "  0.89483932 0.81068432 0.69905581 0.57375342]\n",
      " [0.60279818 0.73444367 0.85172308 0.9401382  0.98773022 0.98773022\n",
      "  0.9401382  0.85172308 0.73444367 0.60279818]\n",
      " [0.60279818 0.73444367 0.85172308 0.9401382  0.98773022 0.98773022\n",
      "  0.9401382  0.85172308 0.73444367 0.60279818]\n",
      " [0.57375342 0.69905581 0.81068432 0.89483932 0.9401382  0.9401382\n",
      "  0.89483932 0.81068432 0.69905581 0.57375342]\n",
      " [0.51979489 0.63331324 0.73444367 0.81068432 0.85172308 0.85172308\n",
      "  0.81068432 0.73444367 0.63331324 0.51979489]\n",
      " [0.44822088 0.54610814 0.63331324 0.69905581 0.73444367 0.73444367\n",
      "  0.69905581 0.63331324 0.54610814 0.44822088]\n",
      " [0.36787944 0.44822088 0.51979489 0.57375342 0.60279818 0.60279818\n",
      "  0.57375342 0.51979489 0.44822088 0.36787944]]\n"
     ]
    }
   ],
   "source": [
    "x, y = np.meshgrid(np.linspace(-1,1,10), np.linspace(-1,1,10))\n",
    "x = np.sqrt(x*x+y*y)\n",
    "sigma, mu = 1.0, 0.0\n",
    "g = np.exp(-( (x-mu)**2 / ( 2.0 * sigma**2 ) ) )\n",
    "print(g)"
   ]
  },
  {
   "cell_type": "markdown",
   "id": "0ce26545",
   "metadata": {},
   "source": [
    "# 57. How to randomly place p elements in a 2D array?"
   ]
  },
  {
   "cell_type": "code",
   "execution_count": 62,
   "id": "f5e5f8b9",
   "metadata": {},
   "outputs": [
    {
     "name": "stdout",
     "output_type": "stream",
     "text": [
      "[[3. 0. 3. 0. 0.]\n",
      " [3. 0. 0. 0. 0.]\n",
      " [0. 0. 0. 0. 3.]\n",
      " [0. 0. 0. 0. 3.]\n",
      " [0. 0. 0. 0. 0.]]\n"
     ]
    }
   ],
   "source": [
    "n = 5\n",
    "p = 5\n",
    "a = np.zeros((n,n))\n",
    "np.put(a, np.random.choice(range(n*n), p, replace=False),3)\n",
    "print(a)"
   ]
  },
  {
   "cell_type": "markdown",
   "id": "9880fb75",
   "metadata": {},
   "source": [
    "# 58. Subtract the mean of each row of a matrix "
   ]
  },
  {
   "cell_type": "code",
   "execution_count": 70,
   "id": "f5eae794",
   "metadata": {},
   "outputs": [
    {
     "name": "stdout",
     "output_type": "stream",
     "text": [
      "[[-7. -6. -5.]\n",
      " [-4. -3. -2.]\n",
      " [-1.  0.  1.]\n",
      " [ 2.  3.  4.]\n",
      " [ 5.  6.  7.]]\n"
     ]
    }
   ],
   "source": [
    "x = np.arange(15).reshape(5,3)\n",
    "y = x - x.mean()\n",
    "print(y)"
   ]
  },
  {
   "cell_type": "markdown",
   "id": "c4bacdb7",
   "metadata": {},
   "source": [
    "# 59. How to sort an array by the nth column? "
   ]
  },
  {
   "cell_type": "code",
   "execution_count": 79,
   "id": "f815bacf",
   "metadata": {},
   "outputs": [
    {
     "name": "stdout",
     "output_type": "stream",
     "text": [
      "[[0.59390973 0.75225155 0.03287876]\n",
      " [0.96002588 0.03148874 0.08664208]\n",
      " [0.11667381 0.74181002 0.20256854]\n",
      " [0.01538842 0.97444576 0.23905754]\n",
      " [0.7936005  0.46875769 0.35441973]\n",
      " [0.16985042 0.66062626 0.41021008]\n",
      " [0.88469052 0.29021721 0.45970258]\n",
      " [0.70565831 0.22351218 0.52542681]\n",
      " [0.84440411 0.08896192 0.80404882]\n",
      " [0.93176623 0.22477905 0.89634159]]\n"
     ]
    }
   ],
   "source": [
    "a = np.random.random((10,3))\n",
    "x = a[a[:,2].argsort()]\n",
    "print(x)"
   ]
  },
  {
   "cell_type": "markdown",
   "id": "aa1a9c0b",
   "metadata": {},
   "source": [
    "# 60. How to tell if a given 2D array has null columns?"
   ]
  },
  {
   "cell_type": "code",
   "execution_count": 85,
   "id": "ceac0677",
   "metadata": {},
   "outputs": [
    {
     "name": "stdout",
     "output_type": "stream",
     "text": [
      "False\n"
     ]
    }
   ],
   "source": [
    "a = np.random.random((3,10))\n",
    "print((~a.any(axis=0)).any())"
   ]
  },
  {
   "cell_type": "markdown",
   "id": "44716a94",
   "metadata": {},
   "source": [
    "# 61. Find the nearest value from a given value in an array"
   ]
  },
  {
   "cell_type": "code",
   "execution_count": 106,
   "id": "e36a5cc9",
   "metadata": {},
   "outputs": [
    {
     "name": "stdout",
     "output_type": "stream",
     "text": [
      "0.7156415507525001\n"
     ]
    }
   ],
   "source": [
    "a = .7\n",
    "b = np.random.uniform(0,1,10)\n",
    "nv = b.flat[np.abs(a-b).argmin()]\n",
    "print(nv)"
   ]
  },
  {
   "cell_type": "markdown",
   "id": "8a2f2495",
   "metadata": {},
   "source": [
    "# 62. Considering two arrays with shape (1,3) and (3,1), how to compute their sum using an iterator?"
   ]
  },
  {
   "cell_type": "code",
   "execution_count": 111,
   "id": "a6971168",
   "metadata": {},
   "outputs": [
    {
     "name": "stdout",
     "output_type": "stream",
     "text": [
      "[[0 1 2]\n",
      " [1 2 3]\n",
      " [2 3 4]]\n"
     ]
    }
   ],
   "source": [
    "a = np.arange(3).reshape(1,3)\n",
    "b = np.arange(3).reshape(3,1)\n",
    "for i,j,k in np.nditer([a,b, None]):\n",
    "    c = a + b\n",
    "print(c)"
   ]
  },
  {
   "cell_type": "markdown",
   "id": "b886602b",
   "metadata": {},
   "source": [
    "# 63. Create an array class that has a name attribute"
   ]
  },
  {
   "cell_type": "code",
   "execution_count": null,
   "id": "2f6c71f7",
   "metadata": {},
   "outputs": [],
   "source": []
  },
  {
   "cell_type": "markdown",
   "id": "575a245b",
   "metadata": {},
   "source": [
    "# 64. Consider a given vector, how to add 1 to each element indexed by a second vector (be careful with repeated indices)?"
   ]
  },
  {
   "cell_type": "code",
   "execution_count": 12,
   "id": "0d97d206",
   "metadata": {},
   "outputs": [
    {
     "name": "stdout",
     "output_type": "stream",
     "text": [
      "[ 8  9  6  7 10  2]\n"
     ]
    }
   ],
   "source": [
    "a = np.array([7, 8, 5, 6, 9, 1])\n",
    "b = np.arange((len(a)))\n",
    "np.add.at(a, b, 1)\n",
    "print(a)"
   ]
  },
  {
   "cell_type": "markdown",
   "id": "a6234912",
   "metadata": {},
   "source": [
    "# 65. How to accumulate elements of a vector (X) to an array (F) based on an index list (I)?"
   ]
  },
  {
   "cell_type": "code",
   "execution_count": null,
   "id": "7e38b33b",
   "metadata": {},
   "outputs": [],
   "source": []
  },
  {
   "cell_type": "markdown",
   "id": "b75ef852",
   "metadata": {},
   "source": [
    "# 66. Considering a (w,h,3) image of (dtype=ubyte), compute the number of unique colors"
   ]
  },
  {
   "cell_type": "code",
   "execution_count": null,
   "id": "c537efff",
   "metadata": {},
   "outputs": [],
   "source": []
  },
  {
   "cell_type": "markdown",
   "id": "d7eb49d8",
   "metadata": {},
   "source": [
    "# 67. Considering a four dimensions array, how to get sum over the last two axis at once?"
   ]
  },
  {
   "cell_type": "code",
   "execution_count": 17,
   "id": "7d92d2a4",
   "metadata": {},
   "outputs": [
    {
     "name": "stdout",
     "output_type": "stream",
     "text": [
      "[[3.58496691 5.66127656]\n",
      " [4.20456295 4.71906084]\n",
      " [4.03414659 5.04232316]\n",
      " [5.14046619 2.53603628]]\n"
     ]
    }
   ],
   "source": [
    "a = np.random.random((4,2,2,4))\n",
    "c = a.sum(axis=(-2,-1))\n",
    "print(c)"
   ]
  },
  {
   "cell_type": "markdown",
   "id": "1e9a13da",
   "metadata": {},
   "source": [
    "# 68. Considering a one-dimensional vector D, how to compute means of subsets of D using a vector S of same size describing subset indices?"
   ]
  },
  {
   "cell_type": "code",
   "execution_count": null,
   "id": "54580aa3",
   "metadata": {},
   "outputs": [],
   "source": []
  },
  {
   "cell_type": "markdown",
   "id": "6a1f8bcc",
   "metadata": {},
   "source": [
    "# 69. How to get the diagonal of a dot product?"
   ]
  },
  {
   "cell_type": "code",
   "execution_count": 43,
   "id": "8a3d5961",
   "metadata": {},
   "outputs": [
    {
     "name": "stdout",
     "output_type": "stream",
     "text": [
      "[130 229 124 104]\n"
     ]
    }
   ],
   "source": [
    "a = np.random.randint(1,10,(4,4))\n",
    "b = np.random.randint(1,10,(4,4))\n",
    "s = np.diag(np.dot(a,b))\n",
    "print(s)"
   ]
  },
  {
   "cell_type": "markdown",
   "id": "185aa737",
   "metadata": {},
   "source": [
    "# 70. Consider the vector [1, 2, 3, 4, 5], how to build a new vector with 3 consecutive zeros interleaved between each value? "
   ]
  },
  {
   "cell_type": "code",
   "execution_count": 73,
   "id": "6101c462",
   "metadata": {},
   "outputs": [
    {
     "name": "stdout",
     "output_type": "stream",
     "text": [
      "[1. 0. 0. 0. 2. 0. 0. 0. 3. 0. 0. 0. 4. 0. 0. 0. 5.]\n"
     ]
    }
   ],
   "source": [
    "vector = np.array([1, 2, 3, 4, 5])\n",
    "a = np.zeros(17)\n",
    "a[::4] = vector\n",
    "print(a)"
   ]
  },
  {
   "cell_type": "markdown",
   "id": "cb7876df",
   "metadata": {},
   "source": [
    "# 71. Consider an array of dimension (5,5,3), how to mulitply it by an array with dimensions (5,5)?"
   ]
  },
  {
   "cell_type": "code",
   "execution_count": 88,
   "id": "f9dcafad",
   "metadata": {},
   "outputs": [
    {
     "name": "stdout",
     "output_type": "stream",
     "text": [
      "[[[1. 1. 1.]\n",
      "  [1. 1. 1.]\n",
      "  [1. 1. 1.]\n",
      "  [1. 1. 1.]\n",
      "  [1. 1. 1.]]\n",
      "\n",
      " [[1. 1. 1.]\n",
      "  [1. 1. 1.]\n",
      "  [1. 1. 1.]\n",
      "  [1. 1. 1.]\n",
      "  [1. 1. 1.]]\n",
      "\n",
      " [[1. 1. 1.]\n",
      "  [1. 1. 1.]\n",
      "  [1. 1. 1.]\n",
      "  [1. 1. 1.]\n",
      "  [1. 1. 1.]]\n",
      "\n",
      " [[1. 1. 1.]\n",
      "  [1. 1. 1.]\n",
      "  [1. 1. 1.]\n",
      "  [1. 1. 1.]\n",
      "  [1. 1. 1.]]\n",
      "\n",
      " [[1. 1. 1.]\n",
      "  [1. 1. 1.]\n",
      "  [1. 1. 1.]\n",
      "  [1. 1. 1.]\n",
      "  [1. 1. 1.]]]\n"
     ]
    }
   ],
   "source": [
    "a = np.ones((5,5,3))\n",
    "b = np.ones((5,5))\n",
    "print(a * b[:,:,None])"
   ]
  },
  {
   "cell_type": "markdown",
   "id": "968ecd68",
   "metadata": {},
   "source": [
    "# 72. How to swap two rows of an array?"
   ]
  },
  {
   "cell_type": "code",
   "execution_count": 95,
   "id": "9d47de72",
   "metadata": {},
   "outputs": [
    {
     "name": "stdout",
     "output_type": "stream",
     "text": [
      "[[ 0  1  2]\n",
      " [ 3  4  5]\n",
      " [ 6  7  8]\n",
      " [ 9 10 11]\n",
      " [12 13 14]]\n",
      "\n",
      "\n",
      "[[ 0  1  2]\n",
      " [ 3  4  5]\n",
      " [ 9 10 11]\n",
      " [ 6  7  8]\n",
      " [12 13 14]]\n"
     ]
    }
   ],
   "source": [
    "a = np.arange(15).reshape(5,3)\n",
    "print(a)\n",
    "print('\\n')\n",
    "a[[2,3]] = a[[3,2]]\n",
    "print(a)"
   ]
  },
  {
   "cell_type": "markdown",
   "id": "094b968c",
   "metadata": {},
   "source": [
    "# 73. Consider a set of 10 triplets describing 10 triangles (with shared vertices), find the set of unique line segments composing all the triangles"
   ]
  },
  {
   "cell_type": "code",
   "execution_count": null,
   "id": "44b426da",
   "metadata": {},
   "outputs": [],
   "source": []
  },
  {
   "cell_type": "markdown",
   "id": "b388e0c9",
   "metadata": {},
   "source": [
    "# 74. Given a sorted array C that corresponds to a bincount, how to produce an array A such that np.bincount(A) == C?"
   ]
  },
  {
   "cell_type": "code",
   "execution_count": 100,
   "id": "a99bcafa",
   "metadata": {},
   "outputs": [
    {
     "name": "stdout",
     "output_type": "stream",
     "text": [
      "[1 1 2 3 4 4 6]\n"
     ]
    }
   ],
   "source": [
    "C = np.bincount([1,1,2,3,4,4,6])\n",
    "A = np.repeat(np.arange(len(C)), C)\n",
    "print(A)"
   ]
  },
  {
   "cell_type": "markdown",
   "id": "7362ae9a",
   "metadata": {},
   "source": [
    "# 75. How to compute averages using a sliding window over an array? "
   ]
  },
  {
   "cell_type": "code",
   "execution_count": 5,
   "id": "a51d9afe",
   "metadata": {},
   "outputs": [],
   "source": [
    "from numpy.lib.stride_tricks import sliding_window_view"
   ]
  },
  {
   "cell_type": "code",
   "execution_count": 109,
   "id": "e7b998cd",
   "metadata": {},
   "outputs": [
    {
     "name": "stdout",
     "output_type": "stream",
     "text": [
      "4.5\n"
     ]
    }
   ],
   "source": [
    "a = np.arange(10)\n",
    "print(sliding_window_view(a, 3).mean())"
   ]
  },
  {
   "cell_type": "markdown",
   "id": "7246655d",
   "metadata": {},
   "source": [
    "# 76. Consider a one-dimensional array Z, build a two-dimensional array whose first row is (Z[0],Z[1],Z[2]) and each subsequent row is shifted by 1 (last row should be (Z[-3],Z[-2],Z[-1])"
   ]
  },
  {
   "cell_type": "code",
   "execution_count": 126,
   "id": "ff3cda48",
   "metadata": {},
   "outputs": [
    {
     "name": "stdout",
     "output_type": "stream",
     "text": [
      "[[0 1 2]\n",
      " [1 2 3]\n",
      " [2 3 4]\n",
      " [3 4 5]\n",
      " [4 5 6]\n",
      " [5 6 7]\n",
      " [6 7 8]\n",
      " [7 8 9]]\n"
     ]
    }
   ],
   "source": [
    "z= np.arange(10)\n",
    "print(sliding_window_view(Z, window_shape=3))"
   ]
  },
  {
   "cell_type": "markdown",
   "id": "bd3f4171",
   "metadata": {},
   "source": [
    "# 77. How to negate a boolean, or to change the sign of a float inplace?"
   ]
  },
  {
   "cell_type": "code",
   "execution_count": 129,
   "id": "ba97764a",
   "metadata": {},
   "outputs": [
    {
     "name": "stdout",
     "output_type": "stream",
     "text": [
      "[-0.14541346 -0.30167081 -0.52180418 -0.58159093 -0.19897613 -0.31173242\n",
      " -0.69953738 -0.55733968 -0.41168797 -0.07239911]\n"
     ]
    }
   ],
   "source": [
    "a = np.random.random(10)\n",
    "print(np.negative(a))"
   ]
  },
  {
   "cell_type": "markdown",
   "id": "55d7ba95",
   "metadata": {},
   "source": [
    "# 78. Consider 2 sets of points P0,P1 describing lines (2d) and a point p, how to compute distance from p to each line i (P0[i],P1[i])?"
   ]
  },
  {
   "cell_type": "code",
   "execution_count": null,
   "id": "1fc1c8c4",
   "metadata": {},
   "outputs": [],
   "source": []
  },
  {
   "cell_type": "markdown",
   "id": "f36173e1",
   "metadata": {},
   "source": [
    "# 79. Consider 2 sets of points P0,P1 describing lines (2d) and a set of points P, how to compute distance from each point j (P[j]) to each line i (P0[i],P1[i])?"
   ]
  },
  {
   "cell_type": "code",
   "execution_count": null,
   "id": "bf2790c4",
   "metadata": {},
   "outputs": [],
   "source": []
  },
  {
   "cell_type": "markdown",
   "id": "da5112bd",
   "metadata": {},
   "source": [
    "# 80. Consider an arbitrary array, write a function that extract a subpart with a fixed shape and centered on a given element (pad with a fill value when necessary)"
   ]
  },
  {
   "cell_type": "code",
   "execution_count": null,
   "id": "174b5594",
   "metadata": {},
   "outputs": [],
   "source": []
  },
  {
   "cell_type": "markdown",
   "id": "89ee6f01",
   "metadata": {},
   "source": [
    "# 81. Consider an array Z = [1,2,3,4,5,6,7,8,9,10,11,12,13,14], how to generate an array R = [[1,2,3,4], [2,3,4,5], [3,4,5,6], ..., [11,12,13,14]]? "
   ]
  },
  {
   "cell_type": "code",
   "execution_count": 6,
   "id": "59d1cee6",
   "metadata": {},
   "outputs": [
    {
     "data": {
      "text/plain": [
       "array([[ 0,  1,  2],\n",
       "       [ 2,  3,  4],\n",
       "       [ 4,  5,  6],\n",
       "       [ 6,  7,  8],\n",
       "       [ 8,  9, 10],\n",
       "       [10, 11, 12],\n",
       "       [12, 13, 14]])"
      ]
     },
     "execution_count": 6,
     "metadata": {},
     "output_type": "execute_result"
    }
   ],
   "source": [
    "x = np.arange(15)\n",
    "sliding_window_view(x, 3)[::2, :]"
   ]
  },
  {
   "cell_type": "markdown",
   "id": "cc5d4fe3",
   "metadata": {},
   "source": [
    "# 82. Compute a matrix rank"
   ]
  },
  {
   "cell_type": "code",
   "execution_count": 8,
   "id": "29bb2d2e",
   "metadata": {},
   "outputs": [
    {
     "name": "stdout",
     "output_type": "stream",
     "text": [
      "2\n"
     ]
    }
   ],
   "source": [
    "a = np.arange(20).reshape(4,5)\n",
    "rank = np.linalg.matrix_rank(a)\n",
    "print(rank)"
   ]
  },
  {
   "cell_type": "markdown",
   "id": "9e110b20",
   "metadata": {},
   "source": [
    "# 83. How to find the most frequent value in an array?"
   ]
  },
  {
   "cell_type": "code",
   "execution_count": 14,
   "id": "093ec752",
   "metadata": {},
   "outputs": [
    {
     "name": "stdout",
     "output_type": "stream",
     "text": [
      "4\n"
     ]
    }
   ],
   "source": [
    "c = np.bincount([1,1,2,3,4,4,4,6])\n",
    "mfv = c.argmax()\n",
    "print(mfv)"
   ]
  },
  {
   "cell_type": "markdown",
   "id": "47ae413b",
   "metadata": {},
   "source": [
    "# 84. Extract all the contiguous 3x3 blocks from a random 10x10 matrix"
   ]
  },
  {
   "cell_type": "code",
   "execution_count": 23,
   "id": "0933cc2a",
   "metadata": {},
   "outputs": [
    {
     "name": "stdout",
     "output_type": "stream",
     "text": [
      "Random 10X10 matrix:\n",
      "[[2 3 4 0 3 0 3 4 4 3]\n",
      " [4 1 2 0 4 1 3 1 3 0]\n",
      " [0 2 4 0 1 4 4 1 0 4]\n",
      " [3 1 0 1 0 0 1 0 4 4]\n",
      " [0 1 2 1 1 3 2 0 1 2]\n",
      " [4 4 0 2 0 1 1 1 0 1]\n",
      " [3 0 2 1 1 2 4 4 0 3]\n",
      " [0 2 2 1 2 1 4 0 3 3]\n",
      " [3 3 4 2 4 2 1 0 1 1]\n",
      " [1 4 3 3 1 0 1 2 1 0]]\n",
      "\n",
      "Contiguous 3x3 blocks:\n",
      "[[[[2 3 4]\n",
      "   [4 1 2]\n",
      "   [0 2 4]]\n",
      "\n",
      "  [[3 4 0]\n",
      "   [1 2 0]\n",
      "   [2 4 0]]\n",
      "\n",
      "  [[4 0 3]\n",
      "   [2 0 4]\n",
      "   [4 0 1]]\n",
      "\n",
      "  [[0 3 0]\n",
      "   [0 4 1]\n",
      "   [0 1 4]]\n",
      "\n",
      "  [[3 0 3]\n",
      "   [4 1 3]\n",
      "   [1 4 4]]\n",
      "\n",
      "  [[0 3 4]\n",
      "   [1 3 1]\n",
      "   [4 4 1]]\n",
      "\n",
      "  [[3 4 4]\n",
      "   [3 1 3]\n",
      "   [4 1 0]]\n",
      "\n",
      "  [[4 4 3]\n",
      "   [1 3 0]\n",
      "   [1 0 4]]]\n",
      "\n",
      "\n",
      " [[[4 1 2]\n",
      "   [0 2 4]\n",
      "   [3 1 0]]\n",
      "\n",
      "  [[1 2 0]\n",
      "   [2 4 0]\n",
      "   [1 0 1]]\n",
      "\n",
      "  [[2 0 4]\n",
      "   [4 0 1]\n",
      "   [0 1 0]]\n",
      "\n",
      "  [[0 4 1]\n",
      "   [0 1 4]\n",
      "   [1 0 0]]\n",
      "\n",
      "  [[4 1 3]\n",
      "   [1 4 4]\n",
      "   [0 0 1]]\n",
      "\n",
      "  [[1 3 1]\n",
      "   [4 4 1]\n",
      "   [0 1 0]]\n",
      "\n",
      "  [[3 1 3]\n",
      "   [4 1 0]\n",
      "   [1 0 4]]\n",
      "\n",
      "  [[1 3 0]\n",
      "   [1 0 4]\n",
      "   [0 4 4]]]\n",
      "\n",
      "\n",
      " [[[0 2 4]\n",
      "   [3 1 0]\n",
      "   [0 1 2]]\n",
      "\n",
      "  [[2 4 0]\n",
      "   [1 0 1]\n",
      "   [1 2 1]]\n",
      "\n",
      "  [[4 0 1]\n",
      "   [0 1 0]\n",
      "   [2 1 1]]\n",
      "\n",
      "  [[0 1 4]\n",
      "   [1 0 0]\n",
      "   [1 1 3]]\n",
      "\n",
      "  [[1 4 4]\n",
      "   [0 0 1]\n",
      "   [1 3 2]]\n",
      "\n",
      "  [[4 4 1]\n",
      "   [0 1 0]\n",
      "   [3 2 0]]\n",
      "\n",
      "  [[4 1 0]\n",
      "   [1 0 4]\n",
      "   [2 0 1]]\n",
      "\n",
      "  [[1 0 4]\n",
      "   [0 4 4]\n",
      "   [0 1 2]]]\n",
      "\n",
      "\n",
      " [[[3 1 0]\n",
      "   [0 1 2]\n",
      "   [4 4 0]]\n",
      "\n",
      "  [[1 0 1]\n",
      "   [1 2 1]\n",
      "   [4 0 2]]\n",
      "\n",
      "  [[0 1 0]\n",
      "   [2 1 1]\n",
      "   [0 2 0]]\n",
      "\n",
      "  [[1 0 0]\n",
      "   [1 1 3]\n",
      "   [2 0 1]]\n",
      "\n",
      "  [[0 0 1]\n",
      "   [1 3 2]\n",
      "   [0 1 1]]\n",
      "\n",
      "  [[0 1 0]\n",
      "   [3 2 0]\n",
      "   [1 1 1]]\n",
      "\n",
      "  [[1 0 4]\n",
      "   [2 0 1]\n",
      "   [1 1 0]]\n",
      "\n",
      "  [[0 4 4]\n",
      "   [0 1 2]\n",
      "   [1 0 1]]]\n",
      "\n",
      "\n",
      " [[[0 1 2]\n",
      "   [4 4 0]\n",
      "   [3 0 2]]\n",
      "\n",
      "  [[1 2 1]\n",
      "   [4 0 2]\n",
      "   [0 2 1]]\n",
      "\n",
      "  [[2 1 1]\n",
      "   [0 2 0]\n",
      "   [2 1 1]]\n",
      "\n",
      "  [[1 1 3]\n",
      "   [2 0 1]\n",
      "   [1 1 2]]\n",
      "\n",
      "  [[1 3 2]\n",
      "   [0 1 1]\n",
      "   [1 2 4]]\n",
      "\n",
      "  [[3 2 0]\n",
      "   [1 1 1]\n",
      "   [2 4 4]]\n",
      "\n",
      "  [[2 0 1]\n",
      "   [1 1 0]\n",
      "   [4 4 0]]\n",
      "\n",
      "  [[0 1 2]\n",
      "   [1 0 1]\n",
      "   [4 0 3]]]\n",
      "\n",
      "\n",
      " [[[4 4 0]\n",
      "   [3 0 2]\n",
      "   [0 2 2]]\n",
      "\n",
      "  [[4 0 2]\n",
      "   [0 2 1]\n",
      "   [2 2 1]]\n",
      "\n",
      "  [[0 2 0]\n",
      "   [2 1 1]\n",
      "   [2 1 2]]\n",
      "\n",
      "  [[2 0 1]\n",
      "   [1 1 2]\n",
      "   [1 2 1]]\n",
      "\n",
      "  [[0 1 1]\n",
      "   [1 2 4]\n",
      "   [2 1 4]]\n",
      "\n",
      "  [[1 1 1]\n",
      "   [2 4 4]\n",
      "   [1 4 0]]\n",
      "\n",
      "  [[1 1 0]\n",
      "   [4 4 0]\n",
      "   [4 0 3]]\n",
      "\n",
      "  [[1 0 1]\n",
      "   [4 0 3]\n",
      "   [0 3 3]]]\n",
      "\n",
      "\n",
      " [[[3 0 2]\n",
      "   [0 2 2]\n",
      "   [3 3 4]]\n",
      "\n",
      "  [[0 2 1]\n",
      "   [2 2 1]\n",
      "   [3 4 2]]\n",
      "\n",
      "  [[2 1 1]\n",
      "   [2 1 2]\n",
      "   [4 2 4]]\n",
      "\n",
      "  [[1 1 2]\n",
      "   [1 2 1]\n",
      "   [2 4 2]]\n",
      "\n",
      "  [[1 2 4]\n",
      "   [2 1 4]\n",
      "   [4 2 1]]\n",
      "\n",
      "  [[2 4 4]\n",
      "   [1 4 0]\n",
      "   [2 1 0]]\n",
      "\n",
      "  [[4 4 0]\n",
      "   [4 0 3]\n",
      "   [1 0 1]]\n",
      "\n",
      "  [[4 0 3]\n",
      "   [0 3 3]\n",
      "   [0 1 1]]]\n",
      "\n",
      "\n",
      " [[[0 2 2]\n",
      "   [3 3 4]\n",
      "   [1 4 3]]\n",
      "\n",
      "  [[2 2 1]\n",
      "   [3 4 2]\n",
      "   [4 3 3]]\n",
      "\n",
      "  [[2 1 2]\n",
      "   [4 2 4]\n",
      "   [3 3 1]]\n",
      "\n",
      "  [[1 2 1]\n",
      "   [2 4 2]\n",
      "   [3 1 0]]\n",
      "\n",
      "  [[2 1 4]\n",
      "   [4 2 1]\n",
      "   [1 0 1]]\n",
      "\n",
      "  [[1 4 0]\n",
      "   [2 1 0]\n",
      "   [0 1 2]]\n",
      "\n",
      "  [[4 0 3]\n",
      "   [1 0 1]\n",
      "   [1 2 1]]\n",
      "\n",
      "  [[0 3 3]\n",
      "   [0 1 1]\n",
      "   [2 1 0]]]]\n"
     ]
    }
   ],
   "source": [
    "a = np.random.randint(0,5,(10,10))\n",
    "print(\"Random 10X10 matrix:\")\n",
    "print(a)\n",
    "n = 3\n",
    "i = 1 + (a.shape[0]-3)\n",
    "j = 1 + (a.shape[1]-3)\n",
    "result = np.lib.stride_tricks.as_strided(a, shape=(i, j, n, n), strides = a.strides + a.strides)\n",
    "print(\"\\nContiguous 3x3 blocks:\")\n",
    "print(result)"
   ]
  },
  {
   "cell_type": "markdown",
   "id": "92ad05ee",
   "metadata": {},
   "source": [
    "# 85. Create a 2D array subclass such that Z[i,j] == Z[j,i] "
   ]
  },
  {
   "cell_type": "code",
   "execution_count": null,
   "id": "d8df8162",
   "metadata": {},
   "outputs": [],
   "source": []
  },
  {
   "cell_type": "markdown",
   "id": "64d21b4e",
   "metadata": {},
   "source": [
    "# 86. Consider a set of p matrices with shape (n,n) and a set of p vectors with shape (n,1). How to compute the sum of of the p matrix products at once? (result has shape (n,1))"
   ]
  },
  {
   "cell_type": "code",
   "execution_count": null,
   "id": "b6a035c6",
   "metadata": {},
   "outputs": [],
   "source": []
  },
  {
   "cell_type": "markdown",
   "id": "95b74d70",
   "metadata": {},
   "source": [
    "# 87. Consider a 16x16 array, how to get the block-sum (block size is 4x4)? "
   ]
  },
  {
   "cell_type": "code",
   "execution_count": 35,
   "id": "d5902f1e",
   "metadata": {},
   "outputs": [
    {
     "name": "stdout",
     "output_type": "stream",
     "text": [
      "16x16 matrix:\n",
      "[[2 0 1 3 1 0 3 3 4 2 3 3 0 4 0 0]\n",
      " [4 2 0 2 1 3 3 3 1 3 3 3 4 4 4 4]\n",
      " [2 2 1 0 0 1 4 1 1 2 2 1 1 3 1 1]\n",
      " [1 2 2 2 2 4 2 1 2 0 2 1 0 2 3 2]\n",
      " [1 1 3 3 3 1 3 4 1 2 1 3 0 4 0 2]\n",
      " [4 2 1 3 0 1 1 0 2 1 2 1 0 4 0 0]\n",
      " [3 0 0 0 3 1 2 4 4 0 2 1 3 1 3 0]\n",
      " [4 3 2 1 2 2 4 2 3 0 4 1 0 4 2 0]\n",
      " [1 3 2 3 3 4 3 0 1 0 4 4 2 1 4 0]\n",
      " [0 2 1 3 2 2 1 1 4 1 3 4 2 1 3 1]\n",
      " [2 2 4 4 3 4 3 0 3 4 2 2 3 1 3 1]\n",
      " [2 1 2 0 2 1 2 3 0 4 2 2 3 3 2 3]\n",
      " [4 1 4 0 1 1 3 1 1 0 1 4 4 0 1 1]\n",
      " [4 0 0 3 3 0 1 2 2 1 1 0 3 1 2 4]\n",
      " [1 2 3 2 4 0 4 2 4 3 1 0 0 0 1 1]\n",
      " [0 2 1 3 3 1 4 4 1 2 3 3 1 3 3 0]]\n",
      "[[26 32 33 33]\n",
      " [31 33 28 23]\n",
      " [32 34 40 33]\n",
      " [30 34 27 25]]\n"
     ]
    }
   ],
   "source": [
    "a = np.random.randint(0,5,(16,16))\n",
    "\n",
    "n = 4\n",
    "s = np.add.reduceat(np.add.reduceat(a, np.arange(0, a.shape[0], n), axis=0),\n",
    "                                       np.arange(0, a.shape[1], n), axis=1)\n",
    "print(s)"
   ]
  },
  {
   "cell_type": "markdown",
   "id": "020aa4a6",
   "metadata": {},
   "source": [
    "# 88. How to implement the Game of Life using numpy arrays?"
   ]
  },
  {
   "cell_type": "code",
   "execution_count": null,
   "id": "f1eb3c1f",
   "metadata": {},
   "outputs": [],
   "source": []
  },
  {
   "cell_type": "markdown",
   "id": "a2e38bc1",
   "metadata": {},
   "source": [
    "# 89. How to get the n largest values of an array"
   ]
  },
  {
   "cell_type": "code",
   "execution_count": 53,
   "id": "ef0134c9",
   "metadata": {},
   "outputs": [
    {
     "name": "stdout",
     "output_type": "stream",
     "text": [
      "[93 94 95 96 97 98 99]\n"
     ]
    }
   ],
   "source": [
    "a = np.arange(100)\n",
    "n = 7\n",
    "print (a[np.argsort(a)[-n:]])"
   ]
  },
  {
   "cell_type": "markdown",
   "id": "7e4e7836",
   "metadata": {},
   "source": [
    "# 90. Given an arbitrary number of vectors, build the cartesian product (every combinations of every item)"
   ]
  },
  {
   "cell_type": "code",
   "execution_count": 55,
   "id": "a3274dd0",
   "metadata": {},
   "outputs": [
    {
     "name": "stdout",
     "output_type": "stream",
     "text": [
      "[[1 4]\n",
      " [2 4]\n",
      " [3 4]\n",
      " [1 5]\n",
      " [2 5]\n",
      " [3 5]]\n"
     ]
    }
   ],
   "source": [
    "x = np.array([1,2,3])\n",
    "y = np.array([4,5])\n",
    "result = np.transpose([np.tile(x, len(y)), np.repeat(y, len(x))])\n",
    "print(result)"
   ]
  },
  {
   "cell_type": "markdown",
   "id": "52458a2a",
   "metadata": {},
   "source": [
    "# 91. How to create a record array from a regular array? "
   ]
  },
  {
   "cell_type": "code",
   "execution_count": 58,
   "id": "8e705989",
   "metadata": {},
   "outputs": [
    {
     "name": "stdout",
     "output_type": "stream",
     "text": [
      "Original arrays:\n",
      "[['A' '88.5' '90']\n",
      " ['B' '87' '99']\n",
      " ['C' '85.5' '91']]\n",
      "\n",
      "Record array;\n",
      "[(b'A', 88.5, 90) (b'B', 87. , 99) (b'C', 85.5, 91)]\n"
     ]
    }
   ],
   "source": [
    "a = np.array([(\"A\", 88.5, 90),\n",
    "                 (\"B\", 87, 99),\n",
    "             (\"C\", 85.5, 91)])\n",
    "print(\"Original arrays:\")\n",
    "print(a)\n",
    "print(\"\\nRecord array;\")\n",
    "result = np.core.records.fromarrays(a.T,\n",
    "                              names='col1, col2, col3',\n",
    "                              formats = 'S80, f8, i8')\n",
    "print(result)"
   ]
  },
  {
   "cell_type": "markdown",
   "id": "d3a5cef2",
   "metadata": {},
   "source": [
    "# 92. Consider a large vector Z, compute Z to the power of 3 using 3 different methods"
   ]
  },
  {
   "cell_type": "code",
   "execution_count": 68,
   "id": "49c195c7",
   "metadata": {},
   "outputs": [
    {
     "name": "stdout",
     "output_type": "stream",
     "text": [
      "11089567\n",
      "11089567\n",
      "11089567\n"
     ]
    }
   ],
   "source": [
    "Z = np.random.randint(500)\n",
    "print(np.power(Z,3))\n",
    "print(Z**3)\n",
    "print(Z*Z*Z)"
   ]
  },
  {
   "cell_type": "markdown",
   "id": "d77bc53b",
   "metadata": {},
   "source": [
    "# 93. Consider two arrays A and B of shape (8,3) and (2,2). How to find rows of A that contain elements of each row of B regardless of the order of the elements in B?"
   ]
  },
  {
   "cell_type": "code",
   "execution_count": 67,
   "id": "58b9d6ad",
   "metadata": {},
   "outputs": [
    {
     "name": "stdout",
     "output_type": "stream",
     "text": [
      "[[3 3 1]\n",
      " [3 1 2]\n",
      " [3 1 2]\n",
      " [2 0 3]\n",
      " [0 3 2]\n",
      " [2 3 0]\n",
      " [2 1 4]\n",
      " [0 3 4]]\n",
      "[[0 4]\n",
      " [3 0]]\n",
      "[3 4 5 7]\n"
     ]
    }
   ],
   "source": [
    "a = np.random.randint(0,5,(8,3))\n",
    "b = np.random.randint(0,5,(2,2))\n",
    "print(f\"{a}\\n{b}\")\n",
    "c = (a[..., np.newaxis, np.newaxis] == b)\n",
    "rows = np.where(c.any((3,1)).all(1))[0]\n",
    "print(rows)"
   ]
  },
  {
   "cell_type": "markdown",
   "id": "db9fe9fb",
   "metadata": {},
   "source": [
    "# 94. Considering a 10x3 matrix, extract rows with unequal values (e.g. [2,2,3])"
   ]
  },
  {
   "cell_type": "code",
   "execution_count": 6,
   "id": "3a9e8f6a",
   "metadata": {},
   "outputs": [
    {
     "name": "stdout",
     "output_type": "stream",
     "text": [
      "[[1 0 0]\n",
      " [1 3 0]\n",
      " [0 3 3]\n",
      " [3 2 0]\n",
      " [2 2 3]\n",
      " [0 1 0]\n",
      " [0 0 1]\n",
      " [3 3 3]\n",
      " [0 3 3]\n",
      " [0 2 2]]\n",
      "Rows with unequal values:\n",
      "[[1 0 0]\n",
      " [1 3 0]\n",
      " [0 3 3]\n",
      " [3 2 0]\n",
      " [2 2 3]\n",
      " [0 1 0]\n",
      " [0 0 1]\n",
      " [0 3 3]\n",
      " [0 2 2]]\n"
     ]
    }
   ],
   "source": [
    "nums = np.random.randint(0,4,(10,3))\n",
    "print(nums)\n",
    "new_nums = np.logical_and.reduce(nums[:,1:] == nums[:,:-1], axis=1)\n",
    "result = nums[~new_nums]\n",
    "print(\"Rows with unequal values:\")\n",
    "print(result)"
   ]
  },
  {
   "cell_type": "markdown",
   "id": "ca8287d4",
   "metadata": {},
   "source": [
    "# 95. Convert a vector of ints into a matrix binary representation "
   ]
  },
  {
   "cell_type": "code",
   "execution_count": 7,
   "id": "ff998102",
   "metadata": {},
   "outputs": [
    {
     "name": "stdout",
     "output_type": "stream",
     "text": [
      "[[0 0 0 0 0 0 0 0]\n",
      " [0 0 0 0 0 0 0 1]\n",
      " [0 0 0 0 0 0 1 0]\n",
      " [0 0 0 0 0 0 1 1]\n",
      " [0 0 0 0 1 1 1 1]\n",
      " [0 0 0 1 0 0 0 0]\n",
      " [0 0 1 0 0 0 0 0]\n",
      " [0 1 0 0 0 0 0 0]\n",
      " [1 0 0 0 0 0 0 0]]\n"
     ]
    }
   ],
   "source": [
    "a = np.array([0, 1, 2, 3, 15, 16, 32, 64, 128], dtype=np.uint8)\n",
    "print(np.unpackbits(a[:, np.newaxis], axis=1))"
   ]
  },
  {
   "cell_type": "markdown",
   "id": "e4439399",
   "metadata": {},
   "source": [
    "# 96. Given a two dimensional array, how to extract unique rows?"
   ]
  },
  {
   "cell_type": "code",
   "execution_count": 75,
   "id": "17c7d426",
   "metadata": {},
   "outputs": [
    {
     "name": "stdout",
     "output_type": "stream",
     "text": [
      "[[3 4 2]\n",
      " [3 1 4]\n",
      " [3 2 3]\n",
      " [1 4 4]\n",
      " [1 2 4]\n",
      " [4 4 2]]\n",
      "\n",
      "\n",
      "[[1 2 4]\n",
      " [1 4 4]\n",
      " [3 1 4]\n",
      " [3 2 3]\n",
      " [3 4 2]\n",
      " [4 4 2]]\n"
     ]
    }
   ],
   "source": [
    "a = np.random.randint(0,5,(6,3))\n",
    "print(a)\n",
    "print('\\n')\n",
    "unique_rows = np.unique(a, axis=0)\n",
    "print(unique_rows)"
   ]
  },
  {
   "cell_type": "markdown",
   "id": "4195b5e2",
   "metadata": {},
   "source": [
    "# 97. Considering 2 vectors A & B, write the einsum equivalent of inner, outer, sum, and mul function"
   ]
  },
  {
   "cell_type": "code",
   "execution_count": 78,
   "id": "0675748e",
   "metadata": {},
   "outputs": [
    {
     "name": "stdout",
     "output_type": "stream",
     "text": [
      "14\n",
      "[ 0  2  0  2  0 12  9  2  0 12]\n",
      "39\n",
      "[[ 0  0  0  0  0  0  0  0  0  0]\n",
      " [ 0  2  4  1  0  4  3  2  0  4]\n",
      " [ 0  0  0  0  0  0  0  0  0  0]\n",
      " [ 0  4  8  2  0  8  6  4  0  8]\n",
      " [ 0  2  4  1  0  4  3  2  0  4]\n",
      " [ 0  6 12  3  0 12  9  6  0 12]\n",
      " [ 0  6 12  3  0 12  9  6  0 12]\n",
      " [ 0  2  4  1  0  4  3  2  0  4]\n",
      " [ 0  0  0  0  0  0  0  0  0  0]\n",
      " [ 0  6 12  3  0 12  9  6  0 12]]\n"
     ]
    }
   ],
   "source": [
    "a= np.random.randint(0,4,10)\n",
    "b = np.random.randint(0,5,10)\n",
    "\n",
    "print(np.einsum('i->', a))       \n",
    "print(np.einsum('i,i->i', a, b)) \n",
    "print(np.einsum('i,i', a, b))   \n",
    "print(np.einsum('i,j->ij', a, b))   "
   ]
  },
  {
   "cell_type": "markdown",
   "id": "070818bb",
   "metadata": {},
   "source": [
    "# 98. Considering a path described by two vectors (X,Y), how to sample it using equidistant samples"
   ]
  },
  {
   "cell_type": "code",
   "execution_count": null,
   "id": "a8d2bf0a",
   "metadata": {},
   "outputs": [],
   "source": []
  },
  {
   "cell_type": "markdown",
   "id": "32d1075f",
   "metadata": {},
   "source": [
    "# 99. Given an integer n and a 2D array X, select from X the rows which can be interpreted as draws from a multinomial distribution with n degrees, i.e., the rows which only contain integers and which sum to n."
   ]
  },
  {
   "cell_type": "code",
   "execution_count": null,
   "id": "fafe497d",
   "metadata": {},
   "outputs": [],
   "source": []
  },
  {
   "cell_type": "markdown",
   "id": "93b2bdf2",
   "metadata": {},
   "source": [
    "# 100. Compute bootstrapped 95% confidence intervals for the mean of a 1D array X (i.e., resample the elements of an array with replacement N times, compute the mean of each sample, and then compute percentiles over the means)."
   ]
  },
  {
   "cell_type": "code",
   "execution_count": null,
   "id": "fdf7a985",
   "metadata": {},
   "outputs": [],
   "source": []
  }
 ],
 "metadata": {
  "kernelspec": {
   "display_name": "Python 3 (ipykernel)",
   "language": "python",
   "name": "python3"
  },
  "language_info": {
   "codemirror_mode": {
    "name": "ipython",
    "version": 3
   },
   "file_extension": ".py",
   "mimetype": "text/x-python",
   "name": "python",
   "nbconvert_exporter": "python",
   "pygments_lexer": "ipython3",
   "version": "3.10.1"
  }
 },
 "nbformat": 4,
 "nbformat_minor": 5
}
